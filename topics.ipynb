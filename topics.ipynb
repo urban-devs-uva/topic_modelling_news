{
 "cells": [
  {
   "cell_type": "code",
   "execution_count": 2,
   "metadata": {},
   "outputs": [
    {
     "name": "stderr",
     "output_type": "stream",
     "text": [
      "c:\\Users\\wojma\\anaconda3\\envs\\UNI\\Lib\\site-packages\\tqdm\\auto.py:21: TqdmWarning: IProgress not found. Please update jupyter and ipywidgets. See https://ipywidgets.readthedocs.io/en/stable/user_install.html\n",
      "  from .autonotebook import tqdm as notebook_tqdm\n"
     ]
    }
   ],
   "source": [
    "import pandas as pd\n",
    "import bertopic\n",
    "from bertopic import BERTopic\n",
    "import nltk\n",
    "from nltk.corpus import stopwords\n",
    "from nltk.tokenize import word_tokenize\n",
    "import string\n",
    "import re\n",
    "\n",
    "from nltk.stem import WordNetLemmatizer\n",
    "from gensim import corpora\n",
    "from gensim.models.ldamodel import LdaModel\n",
    "from umap import UMAP\n",
    "from bertopic.vectorizers import ClassTfidfTransformer\n",
    "\n",
    "import requests\n",
    "from bs4 import BeautifulSoup\n",
    "from fuzzywuzzy import fuzz"
   ]
  },
  {
   "cell_type": "code",
   "execution_count": 3,
   "metadata": {},
   "outputs": [],
   "source": [
    "news = pd.read_csv('all_articles.csv')"
   ]
  },
  {
   "cell_type": "markdown",
   "metadata": {},
   "source": [
    "With News API, I was able to collect the titles, descriptions, URLs etc. of news articles, which are all collected in the 'all_articles.csv' <br>\n",
    "However, the full content of the article wasn't collected and that's what I will be doing below with Beautiful Soup"
   ]
  },
  {
   "cell_type": "code",
   "execution_count": 4,
   "metadata": {},
   "outputs": [
    {
     "name": "stdout",
     "output_type": "stream",
     "text": [
      "URL: https://www.emerce.nl/achtergrond/wat-zijn-de-kansen-van-een-marktplaats-voor-deelvervoer\n",
      "Article:\n",
      "Alle opties voor deelvervoer – fietsen, scooters, auto’s – in één app. Goed idee, zou je denken, maar waarom is die er dan (nog?) niet. Een blik op de economische en technische realiteit.\n",
      " De trend van bezit naar gebruik zien we overal om ons heen. De deeleconomie is beter voor het milieu en goed voor de portemonnee van de gebruiker. Voor de consument is de huidige situatie van deelvervoer echter niet ideaal: je hebt noodgedwongen meerdere apps op je telefoon voor de verschillende deelvoertuigen, zoals steps, fietsen, bakfietsen, scooters, auto’s en openbaar vervoer. De oplossing lijkt eenvoudig: één app voor een marktplaats waarin alle deelmobiliteit samenkomt. Of is het toch niet zo eenvoudig? In dit artikel bekijk ik de kansen en de beperkingen van een winnende marktplaats voor deelvervoer. Eindhoven is een mooi voorbeeld. Hier heb je drie aanbieders van deelfietsen (Go Sharing, TIER en OV-fiets) en twee aanbieders van deelscooters (GO Sharing en Check). Wil je liever een bakfiets, dan is er Cargoroo. Deelauto’s zijn er van Amber, Greenwheels, MyWheels en SnappCar. Al deze aanbieders hanteren hun eigen gebieden (service areas) waar je wel en niet mag parkeren: best onhandig voor de gebruiker. Voor het vinden van een fiets of scooter in de buurt open je noodgedwongen meerdere apps om vervolgens te onderzoeken of je met deze aanbieder naar de gewenste bestemming kunt gaan. Na twee maanden intensief gebruik te hebben gemaakt van deelfietsen en deelscooters in Eindhoven zijn dit mijn conclusies: Het lijkt zo logisch: één marktplaats die alle vormen van deelmobiliteit integreert in een app, een soort all-in MaaS-app (Mobility-as-a-Service): zoeken, boeken en betalen in één app en alle mogelijke vormen van deelvervoer van deur tot deur geregeld. We hebben Booking.com voor de hotelbranche, Thuisbezorgd voor maaltijdbezorging en Vinted voor de vintage kleding. Dan moet er toch snel een marktplaats voor deelmobiliteit doorbreken? En je zou verwachten dat investeerders in de rij staan om een graantje mee te pikken. En toch is dat niet zo. Bij nadere bestudering van de markt komen verschillende redenen naar voren. Quinten Selhorst, co-founder en voormalig-CEO van Felyx, geeft een aantal heldere inzichten over dit onderwerp. Concluderend kun je stellen dat – hoe logisch ook – één marktplaats-app voor deelvervoer voorlopig niet zal doorbreken. Misschien kunnen we meer verwachten van Uber of Google Maps, die integraties met de aanbieders van deelvoertuigen mogelijk zou kunnen maken: oftewel, Uber of Google als marktplaats voor deelmobiliteit. Beiden hebben heel diepe zakken en kunnen best nog even wachten tot het aantal transacties toeneemt. De tijd zal het leren. Over de auteur: Geert-Jan Smits is retailadviseur, investeerder en auteur van De start-up scorecard. Is het niet vaak zo dat traditionele partijen zelf de macht ( hun marktaandeel) willen behouden en samenwerking daarom zo moeilijk van de grond komt? Terwijl de markt juist groter kan worden door wel samen te werken… Uw e-mailadres wordt niet op de site getoond MaaS-platform umob, dat het gebruik van deelmobiliteit, taxi en openbaar vervoer volledig integreert in één app, haalt 6 miljoen euro aan investeringsgeld op. De OV-fiets is 10 jaar oud. Met meer dan 5 miljoen ritten in 2019 is de druk om te presteren hoog. De NS en INFO maakten de OV-fiets klaar... Mobility as a Service (MaaS) valt of staat bij gedragsverandering. Vervoersapps kunnen de verschuiving naar duurzamere en slimmere mobiliteit versnellen. \n",
      "\n",
      "\n",
      "URL: https://www.trouw.nl/duurzame-100/klimaatconflicten-aan-de-keukentafel-als-jullie-willen-vliegen-gaat-mama-wel-alleen-met-de-trein~bdef6c5f/\n",
      "Article:\n",
      "Je bent veganist maar je partner houdt van spareribs. Of andersom: je klimaatbewuste dochter wordt boos als ze een ‘verspillend’ kadootje krijgt. Alledaagse ‘klimaatconflicten’ kunnen op het werk, thuis, met vrienden en familie voor lastige botsingen zorgen. Hoe gaan we daarmee om?\n",
      "   \n",
      "      Voordat Jeanette Samsom naar haar werk gaat, bakt ze thuis een paar veganistische taarten. Ze is jarig en wil dat vieren. Maar in het Zeeuwse ziekenhuis waar ze werkt, valt haar traktatie niet bij iedereen in goede aarde. “Sommige collega’s namen bewust geen stukje.” Niet omdat ze niet van taart houden, zegt Samsom, maar ‘uit principe’, omdat ze zich afzetten tegen veganistisch eten en gedoe rond klimaat. En dus indirect ook tegen Samsom, met wie ze verder nauw samenwerken. “Dat is moeilijk.”\n",
      "     \n",
      "      Een paar jaar geleden werd Samsom lid van de Partij voor de Dieren, dat was in het conservatieve Zeeland als ‘uit de kast komen.’ Inmiddels is dat ‘peanuts’ vergeleken met haar betrokkenheid bij Extinction Rebellion (XR), waarmee ze onlangs op de A12 stond. Dat Samsom zich in Zeeland ‘een roepende in de woestijn’ voelt, dat is ze wel gewend. Lastiger zijn de botsingen met mensen dichterbij haar, naast collega’s ook vrienden en haar man.\n",
      "     \n",
      "      “Sommige vrienden weten dat ik veganistisch ben, maar als we een etentje hebben is er vaak niets veganistisch. Zij denken: stel je niet zo aan.” Haar man, met wie ze dertig jaar samen is, met wie ze drie kinderen heeft en van wie ze veel houdt, is ook veel minder met klimaat bezig. “Ik vond het verschrikkelijk als hij spareribs bestelde in een restaurant, terwijl hij wist hoe erg ik dat vond.” En hoe moet dat met de volgende vakantie, wat als de rest van het gezin dan wil vliegen? “Moet ik kijken of ik dan alleen met de trein kan? Of blijft mama thuis?”\n",
      "     \n",
      "      Niet alleen voor Samsom zijn deze botsingen lastig, dat geldt net zo goed voor de ander. “Mijn man vindt soms dat ik doorsla.” Soms zit een luchtig gesprekje thuis of met vrienden er niet meer in, en vindt haar omgeving dat ze moet ‘stoppen met preken.’ Collega’s zeggen het niet direct, maar ze hoort via-via dat mensen haar aanwezigheid bij de A12 afkeuren. “Omdat het niet mag, en vanwege wat het de overheid kost aan politie-inzet.”\n",
      "     \n",
      "      Het klimaatprobleem is de afgelopen twintig jaar een steeds grotere rol gaan spelen in de samenleving. Lang niet iedereen kijkt er hetzelfde naar, en hoewel 75 procent van de Nederlanders zich volgens het CBS zorgen maakt, lopen opvattingen over hoe ermee om te gaan uiteen. Is vliegen wel of niet oké, zo ja, hoe vaak ga je dan? Hoe vaak eet je vlees, of kan dat helemaal niet meer, en hoe zit het met vis en zuivel? Vaak komen mensen – in liefdesrelaties, gezinnen, vriendengroepen, met collega’s – hier samen wel uit, maar soms botst het ook.\n",
      "     \n",
      "      Jeanine Pothuizen, een ‘klimaatpsycholoog’ die zich specialiseerde in gedragsveranderingen bij organisaties, ziet de laatste jaren steeds vaker van dat soort klimaatconflicten (of -conflictjes) tussen mensen. “Dit speelt zeker niet alleen bij activisten, maar ook op kleinere schaal.” Op werk kunnen collega’s botsen als iemand niet recyclet. En wat als een moeder haar 18-jarige zoon wil steunen met zijn wereldreisplan, maar het tegelijkertijd afkeurt dat hij vijfduizend kilometer gaat vliegen?\n",
      "     \n",
      "      Pothuizen is actief bij stichting KlimaatGesprekken en helpt mensen met dit soort spanningen omgaan. “Als ik bij trainingen vraag wat mensen verdrietig maakt, komt vaak het antwoord: dat ik vrienden verloren ben, mijn familie niet meer op een fijne manier spreek en het eindelijk in de weg zit van relaties.” Pothuizen herkent dit zelf ook. Zij was ooit te gast bij EenVandaag. In de appgroep met vrienden, deelde iemand vervolgens een internetfilmpje waarin de psycholoog door knip- en plakwerk belachelijk werd gemaakt. “Het kostte mij een half jaar voordat ik dacht: hoe laat ik me weer zonder schroom zien in deze groep? Daar zat schaamte bij, en spanning, of ik er nog wel bij zou horen.”\n",
      "     \n",
      "      Hoe vaak ‘klimaatconflicten’ precies voorkomen is lastig te zeggen. Universiteiten doen er geen onderzoek naar. De Vereniging voor Relatie- en Gezinstherapie kan het niet kwantificeren, omdat dit soort conflicten vaak samenhangt met andere spanningen. Onderzoek dat Sire liet doen voor de campagne ‘Verlies elkaar niet’ laat zien dat negentien procent van de Nederlanders klimaat ervaart als het polariserend onderwerp in kleine kring, dus met vrienden en familie, net zoals immigratie of corona. Dus geheid komt daar weleens ruzie van.\n",
      "     \n",
      "      Extra lastig aan klimaat is dat er zoveel in samenkomt en dat het persoonlijk is, zegt Anoek Neele, oprichter van het Klimaattheater, waarmee ze voorstellingen geeft over sociale normen in de maatschappij. Vroeger had je ook wel gedoe rond roken – of dat wel of niet binnen kon, et cetera. “Dat was ook een ‘pleziergever’ die mensen werd afgenomen, omdat het ongezond of slecht is. Maar dat is wel een afgebakend onderwerp, terwijl klimaat gaat over energie, over voedsel, over water.” Pothuizen beschrijft het hypothetische voorbeeld van een buurman die zijn hele dak vol zonnepanelen legt, en op dat vlak duurzaam bezig is, maar tegelijkertijd ook hartstikke veel vliegt. “Dat kan voor spanningen in contact zorgen. Want is hij nou wel of niet duurzaam bezig?”\n",
      "     \n",
      "      Veel mensen kiezen ervoor om het onderwerp klimaat te vermijden, zien Pothuizen en Neele. Zelf heeft Pothuizen bijvoorbeeld weleens besloten dat ze op de tennisclub niet over het onderwerp praat, omdat ze ‘daar gewoon wilde ontspannen’. Ook haar beste vriendin ‘heeft niets met klimaat’. Ze durfde bij haar laatst voor het eerst te vragen wat ze van de XR-demonstraties vond.\n",
      "     \n",
      "      Maar dat vermijden kan zijn wissel trekken. “Met mensen die dichtbij me staan wil ik graag op één lijn zitten over dingen die ik belangrijk vind”, zegt Neele. Zij was laatst een middag in het park met goede vrienden, en vroeg of ze weleens nadenken over hoe de toekomst zal zijn voor hun kinderen, over vijftig jaar? “Ze reageerden geërgerd: wat heeft het voor zin, om daarover na te denken? Je hebt er toch geen invloed op.” Neele antwoordde dat zij zich wel zorgen maakt, maar dat kwam niet aan. “Ik voelde dat ik de connectie verloor.” Nu snijdt ze het onderwerp niet meer aan. “Ik voelde me niet gezien, en uiteindelijk alleen, omdat ik het nu zelf draag.”\n",
      "     \n",
      "      Iemand die dit onderwerp bij zijn vrienden allesbehalve vermijdt, is Rutger Vaartjes (29), ook wel Rudger the Judger genoemd. Laatst was Vaartjes met vrienden op vakantie, en bestelde iemand een kaasplankje. Spottend riep hij: ‘Cheese is murder!’ “Ik wilde een grap maken met een kern van waarheid, maar die werd me niet door iedereen in dank afgenomen.” Twee vrienden vonden het irritant dat hij zijn eigen idealen aan de rest wilde opdringen. Dan had hij van tevoren maar moeten zeggen dat hij niet met niet-veganisten aan tafel wilde.\n",
      "     \n",
      "      Zelf is Vaartjes ook in dubio. Al sinds zijn vijfde is hij vegetariër, sinds twee jaar zo goed als veganist. Tot voor kort bekritiseerde hij zijn vrienden niet als ze een – in zijn ogen – niet-duurzame keuze maakten. Maar zijn vriendin werkt bij Milieudefensie, ze versterken elkaar, en het gevoel groeit dat hij mensen verantwoordelijk kan houden. “We wonen allemaal op dezelfde planeet. Als jij blijft vliegen, en als iedereen dat doet, dan verneuk je het niet alleen voor jezelf maar voor ons allemaal.” Plus, als hij zijn vrienden aanspreekt op gedrag, is dat volgens Vaartjes niet gemeen bedoeld. “Ik keur de handeling af, niet de persoon.”\n",
      "     \n",
      "      Veel klimaatconflicten gaan volgens psycholoog Pothuizen in essentie niet eens zozeer over het wel of niet eten van kaas, maar meer over de waarden die eronder liggen. Wil je bijvoorbeeld vooral van het leven genieten, of kan dat ook best wat minder als je daarmee anderen helpt? Theatermaker Neele en haar man botsen regelmatig omdat zij hun auto wil verkopen en wil overstappen op elektrisch deelvervoer. Hij roept dan terug dat hij wel elektrisch, maar absoluut geen deelauto wil. “Hij vindt zijn vrijheid en autonomie belangrijk. Terwijl ik op zoek ben naar de meest duurzame oplossing.”\n",
      "     \n",
      "      Laura Kits (34), ook actief bij XR, botst regelmatig met haar vriend, niet zozeer over alledaags gedrag, maar vooral in discussies over klimaat, politiek en activisme. Zij vond Shell bijvoorbeeld een kwaadaardig bedrijf. Hij vond het ook erg dat Shell informatie achterhield over het klimaatprobleem, maar zei tegelijkertijd dat ze een product leveren waar vraag naar is. “Hij is klimaatbewust, maar deelde niet de integrale kritiek van mij op het kapitalistische systeem.” De emoties kunnen in dit soort gesprekken hoog oplopen.\n",
      "     \n",
      "      Ze ziet duidelijk waar de verschillen tussen haar en haar vriend vandaan komen. “Ik ben zelf erg principieel, dat was ik ook al voordat ik met klimaatactivisme bezig was. Voor hem is harmonie juist belangrijk – hij zou minder snel mensen op hun gedrag aanspreken.” Kits gaat uit van het idee dat een beweging in de flanken met een radicale ideologie ervoor zorgt dat het midden langzaam opschuift. “Dat geldt zowel voor de samenleving als mijn relatie.” Ze ziet haar vriend langzaam opschuiven, ze botsen minder vaak. “Eerst was dat elke week, nu nog maar eens in de drie of vier weken.”\n",
      "     \n",
      "      Psycholoog Pothuizen zegt ook dat ‘klimaatconflicten’ tussen mensen niet slecht hoeven te zijn. “In een tijd waar verandering nodig is, heb je altijd verschillende perspectieven. Er ontstaan discussies, en dus ook schuring. Dat is normaal.” Mensen kunnen botsen als ze fel met elkaar in discussie gaan. Zeker als het lukt om ook in dialoog te gaan, met interesse in elkaars perspectief, “kan het juist leiden tot een versnelling van die verandering.” Plus: je kan samen sterker uit zo’n gesprek komen. “Het kan goed zijn voor je relatie.”\n",
      "     \n",
      "      Dat een botsing positief kan uitpakken, weet Floor Kik-Heerebout. Haar dochter was als middelbare scholier steeds meer met klimaat bezig. Als Kik-Heerebout een cadeautje voor haar kocht – een souvenier uit een museumwinkel bijvoorbeeld – dan werd haar dochter boos. ‘Mam, ik wil geen nieuwe spullen!’ Het ging zelfs zover dat moeder pakketjes met nieuwe schoenen van Zalando moest verstoppen voor haar dochter, in plaats van andersom. Eerst was dat kwetsend, maar uiteindelijk heeft dat ‘haar ogen geopend’ en begon ook Kik-Heerebout te geloven dat er gedragsverandering nodig is. “Daar ben ik nu dankbaar voor.”\n",
      "     \n",
      "      Het is volgens psycholoog Pothuizen ook goed om te onthouden dat niet elk ‘klimaatconflict’ op te lossen valt, en je soms een gesprek beter kunt stoppen. “Je kunt mensen toch niet overtuigen. Dat moeten ze uiteindelijk zelf doen.” Plus: wie zegt dat de klimaatpersoon altijd gelijk heeft? Ook mensen die regelmatig willen blijven vliegen kunnen daar hun redenen voor hebben, en bijvoorbeeld op andere manieren bijdragen aan een mooiere wereld. Het is volgens Pothuizen verstandig om, als je het fundamenteel oneens bent, jezelf de vraag te stellen wat je belangrijker vindt: de vriendschap of je klimaatprincipes? “Vaak wint de vriendschap dan.” Zij vindt de Sire-slogan treffend gekozen: “Ben je een discussie aan het winnen, of elkaar aan het verliezen?”\n",
      "     \n",
      "      Rutger ‘de Judger’ herkent dat wel. Hij eet soms met zijn vriendengroep, en toen ze laatst boodschappen deden en iedereen vegaburgers haalde, wilde één vriend per se twee vleesburgers kopen. “Ik merkte dat ik dat irritant vond. Ik voelde een innerlijk conflict, en dacht: dit kan ten koste gaan van onze vriendschap, terwijl ik dat niet wil.”\n",
      "     \n",
      "      “Ik moet iets relaxter doen”, besloot Vaartjes toen. “En misschien zelf ook gewoon wat vaker zondigen als er kaas in een gerecht zit.”\n",
      "     \n",
      "1. Zie het niet als een klimaatconflict, maar als een ‘klimaatspagaat’\n",
      " \n",
      "      Stel dat twee mensen botsen omdat de ene graag naar Azië wil vliegen en de ander in Europa wil blijven. Je kunt dat zien als een ‘conflict’ en tegenover elkaar gaan staan. Zie het eens als ‘spagaat’, waar allebei de personen zelf ook mee worstelen. “Dit is een spagaat tussen twee waarden, zoals avontuurlijk en duurzaam doen”, zegt Pothuizen. Zet dus eerst een stapje terug uit het conflict.\n",
      "     \n",
      "2. Luister naar de ander\n",
      " \n",
      "      Vertel niet alleen waarom je zelf in Europa wil blijven of juist naar Azië wil vliegen, maar bevraag de ander. ‘Wat betekent zo’n reis naar Azië voor jou, waarom wil je zo graag daar naartoe?’ Wie moeite heeft met luisteren, kan hier een spelletje van maken. Stel bijvoorbeeld tien minuten alleen maar vragen aan de ander, zonder met een weerwoord te komen. Daarna draai je de rollen om. ‘Waarom is duurzaam leven belangrijk voor jou?’\n",
      "     \n",
      "3. Ga niet ongevraagd met feiten strooien\n",
      " \n",
      "      Neele deed dit zelf vroeger regelmatig, om mensen te overtuigen. “Wist je dat er zes van de negen planetaire grenzen hebben doorbroken, dat we de 1,5 graad passeren, dat methaan erger is dan CO2?” Het werkt averechts: de ander voelt zich overvallen en haakt af. Pothuizen: “Die informatie is pijnlijk als je die laat doordringen. Als copingsmechanisme sluiten mensen zich af, of gaan ze zich verzetten.” Niet de reactie die je wil aanwakkeren.\n",
      "     \n",
      "4. Accepteer dat de ander ambivalent is, en jijzelf ook\n",
      " \n",
      "      Wie zich met duurzaamheid bezighoudt, wordt al snel voor hypocriet uitgemaakt als die een keer wel vliegt of vlees eet. Pothuizen: “Maar in feite zijn mensen bijna altijd ambivalent. Ik hou bijvoorbeeld heel erg van vlees, en het lukt me om het negentig procent van de keren te laten staan, maar tien procent van de keren niet.” Ga niet te veel met de vinger wijzen naar imperfect gedrag van mensen, want niemand is perfect.\n",
      "     \n",
      "5. Timing\n",
      " \n",
      "      Vertelt een collega bij de koffieautomaat blij dat ’ie een vakantie naar Borneo heeft geboekt? Ga dan niet direct te kritisch doen, ook als je het vervuilend vindt. Pothuizen: “Die vlucht is al geboekt, dat gaat niet veranderen.” Beter is om deze persoon zijn moment van plezier te gunnen, en er eventueel later op terug te komen.\n",
      "       U bent niet ingelogd Tip hier onze journalisten  Op alle verhalen van Trouw rust uiteraard copyright. Wil je tekst overnemen of een video(fragment), foto of illustratie gebruiken, mail dan naar copyright@trouw.nl.  © 2023 DPG Media B.V. - alle rechten voorbehouden \n",
      "\n",
      "\n",
      "URL: https://www.bnr.nl/nieuws/mobiliteit/10527255/autodeelfirma-s-bundelen-de-krachten\n",
      "Article:\n",
      "Autodeelfirma's MyWheels, SHARE NOW, GreenMobility, SIXT share en SnappCar gaan samenwerken onder de naam Coalitie van Deelauto-aanbieders. Het doel is om de knelpunten van het concept autodelen weg te nemen. 'Autodelen is nog klein, maar het klopt niet dat het geen succes is', zegt Dani Sprecher, woordvoerder van het samenwerkingsverband. Er komen steeds meer autodeel-aanbieders, maar het concept slaat nog niet massaal aan. Volgens Sprecher betekent dat niet perse dat het geen potentie heeft. 'Het is een goede optie voor mensen die weinig rijden, voor steden én voor de planeet,' zegt hij.  Eén deelauto zou tussen de 3 en 11 privévoertuigen moeten vervangen. Toch is er meer beleid nodig om de potentie van autodelen waar te maken. De Coalitie van Deelauto-aanbieders wil dat bereiken door het gesprek bevorderen tussen de sector, ambtenaren, politici en experts.  Lees ook | 40 procent Nederlanders wil auto houden Kennisinstituut Mobiliteit (KiM) kwam in 2021 met cijfers over het gebruik van de deelauto. Van alle autoritten bleek slechts 0,02 procent te worden uitgevoerd met een deelauto. Volgens Sprecher ligt het probleem bij de vele auto's in Nederland. 'De negen miljoen auto's in Nederland staan 96 procent van de tijd stil,' vertelt hij. 'Op het totaal lijken de deelauto's misschien weinig te doen, maar die rijden wel het grootste deel van de tijd.'  Lees ook | GroenLinks: Lever je auto in, krijg gratis deelauto-abonnement Het gesprek tussen de aanbieders en beleidsmakers is nodig, vindt Sprecher. 'De overheid biedt autodelen niet aan. We hebben best wel wat moeite om die duizenden deelauto's op te schalen naar tienduizenden. Daar hebben we hulp van de overheid voor nodig.' Blijf Scherp.\n",
      "\n",
      "\n",
      "URL: https://www.nieuwsblad.be/cnt/dmf20231008_95129848\n",
      "Article:\n",
      "De Antwerpse politie heeft het afgelopen weekend bij verschillende verkeersacties meerdere overtredingen vastgesteld. Een duo op een step verzette zich bij een controle, de minderjarige passagier stampte en beet zelfs naar de politie. Het incident deed zich zaterdag voor tijdens een verkeersactie door het wijkteam van Deurne-Zuid. “Een duo op een step werd staande gehouden. De passagier probeerde te vluchten voor de politie en stampte en beet toen de politie haar staande hield. De minderjarige werd opgehaald door haar moeder”, zegt de politie. De politie stelde in Deurne-Zuid maar liefst 166 overtredingen vast, waaronder parkeren op de stoep, in laad- en loszones en buiten parkeervakken.  “Ook bestuurders die rondreden met de gsm in de hand, zonder gordel reden of verkeerslichten negeerden kregen een boete”, aldus de politie. “Wie foutief voorsorteerde of zonder reden de claxon gebruikte werd ook opgeschreven, samen met fietsers die tegen de richting op het fietspad reden.” In Merksem haalde de politie dan weer iemand achter het stuur van een deelauto. “De man was veroordeeld tot een rijverbod”, stelt de politie. “Iemand op een motor reed rond zonder rijbewijs en zag de tweewieler in beslag genomen worden. De eigenaar van de motor mag zich aan een boete verwachten voor het uitlenen van de motor aan iemand zonder rijbewijs.” De politie haalde ook een jongen van amper 12 jaar oud van een elektrische step.  Tot slot had de politie op het Eilandje extra aandacht voor alcohol en drugs in het verkeer. “Er werden dertig bestuurders gecontroleerd, zes legden een positieve adem- of speekseltest af. Drie van hen bleken onder invloed van alcohol, drie onder invloed van drugs. Vijf mensen moesten meteen hun rijbewijs voor 15 dagen afgeven”, somt de politie op.  Een van de dronken bestuurders was niet ingeschreven in België. Hij moest zijn boete van 1.260 euro ter plaatse betalen. De man kreeg daarbovenop ook nog een boete voor gsm-gebruik achter het stuur. “Een andere dronken bestuurder verzette zich tegen de controle en werd bestuurlijk aangehouden voor openbare dronkenschap.” Bovenop jouw abonnement op het Nieuwsblad heb je gratis toegang tot alle plusartikels op de sites en apps van 4 andere topkranten. +PLUS is inbegrepen in alle abonnementsformules, uitgezonderd basic. Als abonnee lees je ook alle  plusartikels. Je hoeft je alleen aan te melden zodat we je herkennen als abonnee. Terwijl je dit leest, zijn onze journalisten druk in de weer om jou het snelste nieuws, de meest aangrijpende verhalen en het beste regio- en sportnieuws te brengen. Terwijl je dit leest, zijn onze journalisten druk in de weer om jou het snelste nieuws, de meest aangrijpende verhalen en het beste regio- en sportnieuws te brengen. Terwijl je dit leest, zijn onze journalisten druk in de weer om jou het snelste nieuws, de meest aangrijpende verhalen en het beste regio- en sportnieuws te brengen. Terwijl je dit leest, zijn onze journalisten druk in de weer om jou het snelste nieuws, de meest aangrijpende verhalen en het beste regio- en sportnieuws te brengen. Wist je dat je ook zonder abonnement elke maand 1 betalend   plusartikel kunt lezen? Wist je dat je ook zonder abonnement elke maand 1 betalend   plusartikel kunt lezen? 4Tact werd in 2019 opgericht en sindsdien kende de Strangers Tribjoet Band heel wat succes. Ze brachten verschillende covers van het legendarische Antwerpse kwartet uit en spelen voor volle zalen. … Antwerpen – CASE Antwerp is het nieuwe modemerk van Sébastien Bogaerts (25) en Caroline Janssens (21). De twee Antwerpse modeliefhebbers brengen hiermee unieke T-shirts en geüpcyclede hemden op de … Onder striemende regenbuien is Winter in Antwerpen eraan begonnen. Nog tot na Nieuwjaar is de binnenstad een paradijs van snoepgoed, hebbedingetjes, accessoires en klassiekers zoals warm gebak en … Vakbondsafgevaardigde Rudi Kennes (64) trekt de PVDA-lijst voor het Europees Parlement in de nederlandstalige kieskring. Hij kreeg in 2009-2010 nationale bekendheid als onderhandelaar van … De Antwerpse Brederodebuurt krijgt er een leuk vegan adresje bij: de Planttrekkerij. Lien De Brabander (45) en Wim Geysels (47) zeggen dat ze slachtoffer geworden zijn van ‘het oud zot’ en maken … Ja, de leider in 4de provinciale C heeft nog eens ouderwets uitgehaald op het veld van rode lantaarn Antwerpen-Noord. Alberta Schilde scoorde maar liefst 13 keer, goed voor een doelpunt elke zeven … Of mensen zich goed en verbonden voelen in hun straat, hangt af van het verkeer voor hun deur. Dat bevestigen de cijfers van de zesde editie van het burgerwetenschapsproject Straatvinken. Bovendien … De politie voerde dit jaar al 109 acties uit in de strijd tegen de drugscriminaliteit in de buurt rond het De Coninckplein in Antwerpen-Noord. Daarbij waren er 169 arrestaties van op heterdaad … Het kunstenhuis Rataplan in Borgerhout en het voedselatelier De Kompaan zijn door het schepencollege op de vingers getikt voor het gebruik van de slogan “From the River to the Sea, Palestine will … De schoonvader van UZA-medewerkster Caroline De Vocht kreeg plots een auto-immuunziekte en belandde eind oktober met verlammingsverschijnselen in het Universitair Ziekenhuis. Uit frustratie omdat … \n",
      "        Overlijdens in Antwerpen.\n",
      "    \n",
      "\n",
      "\n",
      "URL: https://www.gva.be/cnt/dmf20231006_94011344\n",
      "Article:\n",
      "Lokale burgerbeweging Klimaan breidt haar vloot deelauto’s in Mechelen uit. Aan de Brusselpoort en in de Dennenstraat in de Colomawijk komen er nieuwe elektrische wagens. Na een bevraging onder Mechelaars kregen ze Boris en Dina als naam.  Als burgercoöperatie streeft Klimaan naar een duurzame samenleving. De beweging realiseert daartoe projecten rond hernieuwbare energie en energie-efficiëntie. Samen met de stad wil Klimaan ook de deelmobiliteit verduurzamen en voor iedereen toegankelijk maken. Zo lanceerde de beweging vorig jaar in samenwerking met Coopstroom, ook een energiecoöperatie, al vier 100% elektrische wagens in Mechelen. Naar zes voertuigen De vier voertuigen staan in de wijk Nekkerspoel, op de Veemarkt en in Muizen. Daar komen er nu dus twee bij. Ze behoren tot het CEDAN-netwerk, een netwerk dat toegang biedt tot 133 deelauto’s verspreid over heel Vlaanderen. “In Mechelen hebben we een grote achterban die geleidelijk aan groeit. Klimaan telt 300 Mechelse coöperanten die drempelloos en zonder enige instapkost of extra waarborg gebruik kunnen maken van de deelauto’s”, vertelt Tim Hermans, projectcoördinator bij Klimaan.  Naast de vier bestaande deelauto’s komen er nog twee bij. — © Dirk Vertommen Leden van Klimaan betalen ook geen abonnementskosten. Je moet wel coöperant zijn of worden. Zij investeren mee in duurzame en lokale projecten door aandelen te kopen. In ruil daarvoor krijgen ze bepaalde voordelen en inspraak in de organisatie. Vanaf drie ‘Klimaandelen’ (300 euro) mogen coöperanten de deelauto’s gebruiken. Je betaalt dan enkel voor het gebruik van de wagen: 3 euro per uur en een kilometerprijs van 33 cent per kilometer. Daarnaast kan je ook opteren voor een vast maandtarief van 75 euro. Nieuwe gebruikers krijgen een tegoed van 30 euro cadeau om te rijden.  Vaste parkeerplaatsen De stad moedigt zulke projecten aan. “Zo kunnen gebruikers van de deelauto’s rekenen op vaste parkeerplaatsen. Dat vermindert de parkeerstress in wijken met hoge parkeerdruk. Bovendien vervangt zo’n deelauto tot wel 15 private wagens, wat de ruimtelijke kwaliteit ten goede komt. De deelauto’s van Klimaan zijn bovendien elektrisch, een aanzienlijke winst voor het klimaat en het milieu”, vertelt Pia Indigne (Vld-Groen-m+), schepen van Mobiliteit.  Nog tot begin volgend jaar loopt er een openbaar onderzoek voor de ontwikkeling van Spreeuwenhoek-Venne in Muizen (Mechelen). Door de rechtsonzekerheid van het huidige ruimtelijk uitvoeringsplan … Heuglijk nieuws uit ZOO Planckendael in Muizen (Mechelen). In het dierenpark werden begin oktober twee leeuwenwelpjes geboren. Intussen komen ze af en toe piepen in het buitenperk. Om te vermijden … De vijf nieuwe fietshubs in Mechelen, onder andere uitgerust met een zuil voor kleine herstellingen, zijn helemaal afgewerkt. Ze staan in de dorpen en aan parking Keerdok. In totaal zijn er nu zeven.  Het AZ Sint-Maarten en het inloophuis voor dementie ’t moNUment in Mechelen gaan nauwer samenwerken om mantelzorgers te ondersteunen. Via speciale trajecten worden mantelzorgers begeleid in hoe ze … Door het succes van haar pop-upwinkel heeft Mieke Dierckx recent een nieuwe winkel geopend in de Onze-Lieve-Vrouwestraat in het centrum van Mechelen. Na thuisbasis Westerlo en Antwerpen is dit al … Zeven Mechelse kandidaten staan bij de Vlaamse en federale verkiezingen op een lijst van Vooruit. Bekende namen zijn die van Vlaams Parlementslid Thijs Verbeurgt als eerste opvolger, terwijl … De politie is met een onderzoek gestart naar een mogelijke kinderlokker die eind vorige week actief was aan enkele Mechelse scholen. De scholen hebben ondertussen de ouders ingelicht over de … Een overdekte Mechelse Grote Markt is zaterdag 6 januari het decor voor een groot en gratis volksfeest met een podium vol Vlaamse sterren zoals Bart Peeters en Goose. Samen met nog een heleboel … Een 26-jarige man hangt een celstraf van achttien maanden en een boete van 8.000 euro boven het hoofd voor een handeltje in drugs. Bij een huiszoeking vond de politie enkele zakken met cocaïne, … \n",
      "        Overlijdens in Mechelen.\n",
      "     \n",
      "                                Erik Van Eycken\n",
      "                             \n",
      "                                Leo  De Nijn\n",
      "                             \n",
      "                                Sven Van Haezendonck\n",
      "                            \n",
      "\n",
      "\n",
      "URL: https://www.nieuwsblad.be/cnt/dmf20231031_92841146\n",
      "Article:\n",
      "De Antwerpse politie hield bij een actie tegen overlast een fietser staande na verschillende verkeersinbreuken. De man bleek illegaal in het lang te verblijven. Hij reed rond op een deelfiets waarvan het slot geforceerd en het serienummer onleesbaar gemaakt was. De regiowerking Centrum en het fietsteam Orida hebben woensdag een actie tegen overlast in de omgeving van de Teniersplaats. Het fietsteam kreeg een fietser in de gaten die druk aan het bellen was en twee keer het rode verkeerslicht negeerde.  “De fietser bleek tijdens een controle illegaal in het land te verblijven”, vertelt Wouter Bruyns, woordvoerder van de Antwerpse politie. “Hij reed ook op een deelfiets waarvan het slot geforceerd en het serienummer onleesbaar gemaakt was. De man verklaarde dat hij die fiets recent kocht.”  De politie heeft hem bestuurlijk gearresteerd en ter beschikking gesteld van de Dienst Vreemdelingenzaken (DVZ). De fiets is in beslag genomen en de oorspronkelijke eigenaar is gecontacteerd. In de Gemeentestraat zag het wijkteam een man plassen op de openbare weg. “Zijn identiteit is gecontroleerd en de man stond nog drie keer geseind voor vrijheidsbeneming en verhoor. Ook hij verbleef illegaal in het land en is ter beschikking gesteld van DVZ”, zegt de woordvoerder. Tot slot kregen veertien personen nog een GAS-boete omdat ze overlast veroorzaakten door bijvoorbeeld wildplassen, sluikstorten, spuwen ... Vier personen hadden verdovende middelen op zak. De drugs zijn in beslag genomen. Bovenop jouw abonnement op het Nieuwsblad heb je gratis toegang tot alle plusartikels op de sites en apps van 4 andere topkranten. +PLUS is inbegrepen in alle abonnementsformules, uitgezonderd basic. Als abonnee lees je ook alle  plusartikels. Je hoeft je alleen aan te melden zodat we je herkennen als abonnee. Terwijl je dit leest, zijn onze journalisten druk in de weer om jou het snelste nieuws, de meest aangrijpende verhalen en het beste regio- en sportnieuws te brengen. Terwijl je dit leest, zijn onze journalisten druk in de weer om jou het snelste nieuws, de meest aangrijpende verhalen en het beste regio- en sportnieuws te brengen. Terwijl je dit leest, zijn onze journalisten druk in de weer om jou het snelste nieuws, de meest aangrijpende verhalen en het beste regio- en sportnieuws te brengen. Terwijl je dit leest, zijn onze journalisten druk in de weer om jou het snelste nieuws, de meest aangrijpende verhalen en het beste regio- en sportnieuws te brengen. Wist je dat je ook zonder abonnement elke maand 1 betalend   plusartikel kunt lezen? Wist je dat je ook zonder abonnement elke maand 1 betalend   plusartikel kunt lezen? 4Tact werd in 2019 opgericht en sindsdien kende de Strangers Tribjoet Band heel wat succes. Ze brachten verschillende covers van het legendarische Antwerpse kwartet uit en spelen voor volle zalen. … Antwerpen – CASE Antwerp is het nieuwe modemerk van Sébastien Bogaerts (25) en Caroline Janssens (21). De twee Antwerpse modeliefhebbers brengen hiermee unieke T-shirts en geüpcyclede hemden op de … Onder striemende regenbuien is Winter in Antwerpen eraan begonnen. Nog tot na Nieuwjaar is de binnenstad een paradijs van snoepgoed, hebbedingetjes, accessoires en klassiekers zoals warm gebak en … Vakbondsafgevaardigde Rudi Kennes (64) trekt de PVDA-lijst voor het Europees Parlement in de nederlandstalige kieskring. Hij kreeg in 2009-2010 nationale bekendheid als onderhandelaar van … De Antwerpse Brederodebuurt krijgt er een leuk vegan adresje bij: de Planttrekkerij. Lien De Brabander (45) en Wim Geysels (47) zeggen dat ze slachtoffer geworden zijn van ‘het oud zot’ en maken … Ja, de leider in 4de provinciale C heeft nog eens ouderwets uitgehaald op het veld van rode lantaarn Antwerpen-Noord. Alberta Schilde scoorde maar liefst 13 keer, goed voor een doelpunt elke zeven … Of mensen zich goed en verbonden voelen in hun straat, hangt af van het verkeer voor hun deur. Dat bevestigen de cijfers van de zesde editie van het burgerwetenschapsproject Straatvinken. Bovendien … De politie voerde dit jaar al 109 acties uit in de strijd tegen de drugscriminaliteit in de buurt rond het De Coninckplein in Antwerpen-Noord. Daarbij waren er 169 arrestaties van op heterdaad … Het kunstenhuis Rataplan in Borgerhout en het voedselatelier De Kompaan zijn door het schepencollege op de vingers getikt voor het gebruik van de slogan “From the River to the Sea, Palestine will … De schoonvader van UZA-medewerkster Caroline De Vocht kreeg plots een auto-immuunziekte en belandde eind oktober met verlammingsverschijnselen in het Universitair Ziekenhuis. Uit frustratie omdat … \n",
      "        Overlijdens in Antwerpen.\n",
      "    \n",
      "\n",
      "\n",
      "URL: https://www.nieuwsblad.be/cnt/dmf20231011_93210885\n",
      "Article:\n",
      "De Antwerpse politie betrapte dinsdag een winkeldief in een brillenwinkel. De man is gekend voor meer dan dertig feiten en was vrij onder voorwaarden. Het team winkeldiefstallen merkte dinsdag een bekende winkeldief op. “De man reed rond op een deelfiets en ging een winkel op de Meir binnen”, vertelt Willem Migom, woordvoerder van de Antwerpse politie. “Op de afdeling met brillen nam hij verschillende exemplaren uit de rekken terwijl hij informatie vroeg aan een verkoper.”  Wanneer de verkoper de vragen beantwoord had en de plek verliet, zagen de inspecteurs hoe de verdachte het alarm van de bril verwijderde. Nadien verliet hij haastig de winkel, zonder de bril af te rekenen aan de kassa.  De man werd bij het buitenkomen meteen staande gehouden. “Hij probeerde zich nog te verzetten, maar werd overmeesterd en kreeg handboeien om. De 28-jarige man pleegde al meer dan dertig feiten, hij was vrij onder voorwaarden en wordt voorgeleid bij de onderzoeksrechter”, zegt Migom. (nelo) Bovenop jouw abonnement op het Nieuwsblad heb je gratis toegang tot alle plusartikels op de sites en apps van 4 andere topkranten. +PLUS is inbegrepen in alle abonnementsformules, uitgezonderd basic. Als abonnee lees je ook alle  plusartikels. Je hoeft je alleen aan te melden zodat we je herkennen als abonnee. Terwijl je dit leest, zijn onze journalisten druk in de weer om jou het snelste nieuws, de meest aangrijpende verhalen en het beste regio- en sportnieuws te brengen. Terwijl je dit leest, zijn onze journalisten druk in de weer om jou het snelste nieuws, de meest aangrijpende verhalen en het beste regio- en sportnieuws te brengen. Terwijl je dit leest, zijn onze journalisten druk in de weer om jou het snelste nieuws, de meest aangrijpende verhalen en het beste regio- en sportnieuws te brengen. Terwijl je dit leest, zijn onze journalisten druk in de weer om jou het snelste nieuws, de meest aangrijpende verhalen en het beste regio- en sportnieuws te brengen. Wist je dat je ook zonder abonnement elke maand 1 betalend   plusartikel kunt lezen? Wist je dat je ook zonder abonnement elke maand 1 betalend   plusartikel kunt lezen? 4Tact werd in 2019 opgericht en sindsdien kende de Strangers Tribjoet Band heel wat succes. Ze brachten verschillende covers van het legendarische Antwerpse kwartet uit en spelen voor volle zalen. … Antwerpen – CASE Antwerp is het nieuwe modemerk van Sébastien Bogaerts (25) en Caroline Janssens (21). De twee Antwerpse modeliefhebbers brengen hiermee unieke T-shirts en geüpcyclede hemden op de … Onder striemende regenbuien is Winter in Antwerpen eraan begonnen. Nog tot na Nieuwjaar is de binnenstad een paradijs van snoepgoed, hebbedingetjes, accessoires en klassiekers zoals warm gebak en … Vakbondsafgevaardigde Rudi Kennes (64) trekt de PVDA-lijst voor het Europees Parlement in de nederlandstalige kieskring. Hij kreeg in 2009-2010 nationale bekendheid als onderhandelaar van … De Antwerpse Brederodebuurt krijgt er een leuk vegan adresje bij: de Planttrekkerij. Lien De Brabander (45) en Wim Geysels (47) zeggen dat ze slachtoffer geworden zijn van ‘het oud zot’ en maken … Ja, de leider in 4de provinciale C heeft nog eens ouderwets uitgehaald op het veld van rode lantaarn Antwerpen-Noord. Alberta Schilde scoorde maar liefst 13 keer, goed voor een doelpunt elke zeven … Of mensen zich goed en verbonden voelen in hun straat, hangt af van het verkeer voor hun deur. Dat bevestigen de cijfers van de zesde editie van het burgerwetenschapsproject Straatvinken. Bovendien … De politie voerde dit jaar al 109 acties uit in de strijd tegen de drugscriminaliteit in de buurt rond het De Coninckplein in Antwerpen-Noord. Daarbij waren er 169 arrestaties van op heterdaad … Het kunstenhuis Rataplan in Borgerhout en het voedselatelier De Kompaan zijn door het schepencollege op de vingers getikt voor het gebruik van de slogan “From the River to the Sea, Palestine will … De schoonvader van UZA-medewerkster Caroline De Vocht kreeg plots een auto-immuunziekte en belandde eind oktober met verlammingsverschijnselen in het Universitair Ziekenhuis. Uit frustratie omdat … \n",
      "        Overlijdens in Antwerpen.\n",
      "    \n",
      "\n",
      "\n",
      "URL: https://www.nieuwsblad.be/cnt/dmf20231018_93420103\n",
      "Article:\n",
      "Duizenden lopers rennen zondag door de stad tijdens de derde editie van de Antwerp Marathon. De sportievelingen kronkelen doorheen het centrum en passeren onder meer het Havenhuis, het Centraal Station en het Schoonselhof. Om het evenement zo soepel en zorgeloos mogelijk te laten verlopen, voorziet De Lijn naast enkele aanpassingen in de dienstregeling ook handige park-and-ride-opties. De duizenden deelnemers lokken wellicht ook duizenden supporters naar de stad. Fans die met de wagen naar Antwerpen komen, maken volgens De Lijn best gebruik van de gratis park-and-ride (P+R) locaties aan de rand van de stad. Daar kunnen ze meteen overstappen op trams en bussen of gebruikmaken van deelfietsen die hen snel naar het parcours brengen.  Voorts laat De Lijn weten dat alle metrostations open blijven. Tram 4 richting Berchem Station stopt echter niet aan de haltes tussen Nationale Bank en Berchem Station. Tram 7 richting het Eilandje rijdt dan weer alleen tussen Mortsel en Nationale Bank. Reizigers kunnen alleen instappen bij de haltes op dit traject.  Verschillende buslijnen ondervinden hinder tijdens het loopevenement. Buslijnen 13, 14 en 30 worden zondag bijvoorbeeld niet bediend. Een tiental andere buslijnen volgen een omleiding of worden ingekort. Lopers en supporters wordt aangeraden de routeplanner van De Lijn (beschikbaar in de app en op de website) te checken om hun reis zo vlot mogelijk te laten verlopen.  Bovenop jouw abonnement op het Nieuwsblad heb je gratis toegang tot alle plusartikels op de sites en apps van 4 andere topkranten. +PLUS is inbegrepen in alle abonnementsformules, uitgezonderd basic. Als abonnee lees je ook alle  plusartikels. Je hoeft je alleen aan te melden zodat we je herkennen als abonnee. Terwijl je dit leest, zijn onze journalisten druk in de weer om jou het snelste nieuws, de meest aangrijpende verhalen en het beste regio- en sportnieuws te brengen. Terwijl je dit leest, zijn onze journalisten druk in de weer om jou het snelste nieuws, de meest aangrijpende verhalen en het beste regio- en sportnieuws te brengen. Terwijl je dit leest, zijn onze journalisten druk in de weer om jou het snelste nieuws, de meest aangrijpende verhalen en het beste regio- en sportnieuws te brengen. Terwijl je dit leest, zijn onze journalisten druk in de weer om jou het snelste nieuws, de meest aangrijpende verhalen en het beste regio- en sportnieuws te brengen. Wist je dat je ook zonder abonnement elke maand 1 betalend   plusartikel kunt lezen? Wist je dat je ook zonder abonnement elke maand 1 betalend   plusartikel kunt lezen? 4Tact werd in 2019 opgericht en sindsdien kende de Strangers Tribjoet Band heel wat succes. Ze brachten verschillende covers van het legendarische Antwerpse kwartet uit en spelen voor volle zalen. … Antwerpen – CASE Antwerp is het nieuwe modemerk van Sébastien Bogaerts (25) en Caroline Janssens (21). De twee Antwerpse modeliefhebbers brengen hiermee unieke T-shirts en geüpcyclede hemden op de … Onder striemende regenbuien is Winter in Antwerpen eraan begonnen. Nog tot na Nieuwjaar is de binnenstad een paradijs van snoepgoed, hebbedingetjes, accessoires en klassiekers zoals warm gebak en … Vakbondsafgevaardigde Rudi Kennes (64) trekt de PVDA-lijst voor het Europees Parlement in de nederlandstalige kieskring. Hij kreeg in 2009-2010 nationale bekendheid als onderhandelaar van … De Antwerpse Brederodebuurt krijgt er een leuk vegan adresje bij: de Planttrekkerij. Lien De Brabander (45) en Wim Geysels (47) zeggen dat ze slachtoffer geworden zijn van ‘het oud zot’ en maken … Ja, de leider in 4de provinciale C heeft nog eens ouderwets uitgehaald op het veld van rode lantaarn Antwerpen-Noord. Alberta Schilde scoorde maar liefst 13 keer, goed voor een doelpunt elke zeven … Of mensen zich goed en verbonden voelen in hun straat, hangt af van het verkeer voor hun deur. Dat bevestigen de cijfers van de zesde editie van het burgerwetenschapsproject Straatvinken. Bovendien … De politie voerde dit jaar al 109 acties uit in de strijd tegen de drugscriminaliteit in de buurt rond het De Coninckplein in Antwerpen-Noord. Daarbij waren er 169 arrestaties van op heterdaad … Het kunstenhuis Rataplan in Borgerhout en het voedselatelier De Kompaan zijn door het schepencollege op de vingers getikt voor het gebruik van de slogan “From the River to the Sea, Palestine will … De schoonvader van UZA-medewerkster Caroline De Vocht kreeg plots een auto-immuunziekte en belandde eind oktober met verlammingsverschijnselen in het Universitair Ziekenhuis. Uit frustratie omdat … \n",
      "        Overlijdens in Antwerpen.\n",
      "    \n",
      "\n",
      "\n",
      "URL: https://www.ad.nl/rotterdam/politie-slachtoffer-scooterongeluk-was-niet-onder-invloed~a6f624b3/\n",
      "Article:\n",
      "Article content not found.\n",
      "\n",
      "\n",
      "URL: https://www.ad.nl/rotterdam/gamen-om-te-leren-over-gevaren-van-criminelen-die-jongeren-ronselen-kunt-niet-vroeg-genoeg-beginnen~a755aa96/\n",
      "Article:\n",
      "Article content not found.\n",
      "\n",
      "\n",
      "URL: https://www.nu.nl/uit-andere-media/6287626/de-felyx-scooter-inspireerde-dit-nieuwe-initiatief-voor-ouderen.html\n",
      "Article:\n",
      "Article content not found.\n",
      "\n",
      "\n",
      "URL: https://www.computable.nl/artikel/nieuws/digital-innovation/7563211/250449/eindhoven-krijgt-metaverse-innovatiehub-3eality.html\n",
      "Article:\n",
      "\n",
      "\n",
      "\n",
      "                                            Wie denkt dat de metaverse zijn beste tijd heeft gehad, heeft het mogelijk mis. Op de High Tech Campus Eindhoven is donderdag de eerste fysieke innovatiehub in de Benelux op het gebied van metaverse en spatial computing aangekondigd. De hub heet 3eality en gaat onderdak bieden aan bedrijven die zich met deze technologie bezighouden.                                        \n",
      "\n",
      " In 3eality vinden huurders en technologiepartners ondersteuning en er worden educatieve programma's en evenementen georganiseerd om kennis te delen en samenwerking te bevorderen. Het is de bedoeling dat zo een ecosysteem ontstaat. De hub vestigt zich in het voormalige gebouw van Philips Research. De naam 3eality is een mix van twee woorden. De '3' staat voor de driedimensionale evolutie van het internet en omvat alle aanverwante technologieën. De rest van de naam verwijst naar de realiteit waarin technologie waarde toevoegt. De onthulling van de plannen vond plaats tijdens Immersive Day, een event waarop grote technologiebedrijven innovaties toonden aan zakelijke professionals. Op de High Tech Campus zijn al vier vergelijkbare innovatiehubs: het AI Innovation Center, de 5G Hub, de Urban Air Mobility Hub en Hightech XL. Daar komt vanaf 2024 dus de Spatial Web Hub 3eality bij. De campus wil in 2030 bij de wereldwijde toonaangevende techhubs behoren en bouwt daarom fysieke hubs om innovatie aan te jagen. Spatial computing is een technologie die digitale informatie integreert met de fysieke wereld, waardoor gebruikers interactie kunnen hebben met digitale elementen in hun echte omgeving. Het gebruikt technologie zoals augmented reality (ar) en virtual reality (vr) om een geavanceerde en intuïtieve gebruikerservaring te bieden. De metaverse is een specifieke toepassing van vr en kreeg een paar jaar geleden ineens veel aandacht door de plannen van het moederbedrijf achter Facebook. \n",
      "\t\t\t\t\t\t\t\tGrootschalige cyberaanvallen zijn aan de orde van de dag. De gevolgen van hacks op universiteiten, industriële complexen en zorginstellingen kunnen enorm zijn. Naast financiële…\t\t\t\t\t\t\t Dit nieuws doet mij echt deugd! Na 26 jaar neemt Eindhoven toch echt het stokje over van Amsterdam op VR-gebied! Zie https://www.computable.nl/artikel/achtergrond/onderwijs/1358321/1444691/sara-neemt-met-cave-virtual-reality-serieus.html\n",
      "\n",
      "De revival van VR in Nederland vond nog wel plaats in Amsterdam in 2015 met de VR-days, maar die moeten sinds een paar jaar uitwijken naar Rotterdam, omdat \"web3\" samen met de metaverse daar geclaimd is door de jongens en meisjes die snel geld willen maken met NFT's en nu vast AI ook hebben omarmd. Wel gewoon even naar toegaan, hoor, als je tijd hebt, de Immersive Techweek daar in Rotterdam van 28/11 t/m 1/12, en natuurlijk ook Manifestations op de DDW in van 21 t/m 29 oktober  Eindhoven!  Reality klinkt als Rieality. Dan zou ik zeggen dat je 3ality (drie-ality) moet schrijven. Bleeding edge technologie gaat om de baanbrekende technologie waarvan het rendement nog onzeker is, het is letterlijk en figuurlijk een gok als het om snel of langzaam geld gaat. Techniek versus commercie moet je dus een beetje door de marketing heen prikken want mensen houden niet van snelle veranderingen, adoptie versus begrip heeft behoudendheid z'n charme. Nieuwsgierig maar terughoudend zijn alle tech-shows en manifestions prachtig maar 'show me the money' is het wel prettig om een idee te hebben van het probleem wat opgelost wordt. \n",
      "\n",
      "Van spatial computing heb ik een idee door alle veelbelovende technologie buiten de kantoortuin. In de jungle van sensoren en camera's met de AI van Mixed Reality is onze Moneyball nogal stil wat betreft de simulatie. Er staat in Eindhoven namelijk zo'n groene doos in het landschap waar huurders en technologiepartners onder één dak samenkomen. Wat betreft het aanjagen van innovatie moet je eerst de knappe koppen zien te paaien want het potentieel voor disruptie zit in de frustratie van behoudendheid. \n",
      "\n",
      "Meten is weten met de hulp van sensoren gaat om een geheel andere wetenschap dan gissen is missen met modellen, toegevoegde informatie van de inspanning afgezet tegen het resultaat. Want in het kort ging Moneyball om de leeuw die brulde omdat niet de budgetten doorslaggevend waren in de competitie maar de statistiek. Van de B-keus een A-team maken gaat meer om leiderschap want huisvesting is volgens Maslow een fundamenteel recht, ik mis ook de filosoof want ChatGPT geeft meer inzicht dan het zinkende schip wat we Philips noemen.  Emerce legde in haar verslaggeving over deze nieuwe hub de link met Apple en het recente bezoek van Tim Cook aan NXP Semiconductors en de High Tech Campus Eindhoven, zie https://www.emerce.nl/nieuws/high-tech-campus-eindhoven-lanceert-eerste-fysieke-innovatiehub-benelux-gebied-metaverse-spatial-computing\n",
      "\n",
      "Wat ik interessant vind in de verslaggeving hier bij Computable is de nadruk op \"spatial web\"; zou er dan toch nog een 3D opvolger van HTML komen, wat in 1997 met VRML helaas niet gelukt is? LET OP: U bent niet ingelogd. U kunt als gast reageren maar dan wordt uw reactie pas zichtbaar na goedkeuring door de redactie. Om uw reactie direct geplaatst te krijgen moet u eerst rechtsboven inloggen of u registreren Reacties van gasten worden niet direct op de site geplaatst. De redactie controleert vooraf of de reactie aan een aantal voorwaarden voldoet.\n",
      "\t\t\tDeze voorwaarden zijn: Ik verklaar hierbij dat tekst  rechtenvrij is en door mij gepubliceerd mag worden. Ik vrijwaar de eigenaar van Computable voor alle claims en daarbij ontstane kosten die uit publicatie hiervan zouden kunnen voortvloeien.  \n",
      "\t\t\tTevens ga ik akkoord met de algemene voorwaarden van de websites van Jaarbeurs b.v.\n",
      "\t\t\ten de hier bovenin genoemde spelregels.\n",
      "\t\t De redactie behoudt zich het recht voor om reacties aan te passen, in te korten of te verwijderen. De redactie gaat niet in discussie over geplaatste of verwijderde reacties. IP-nummers worden enkel gelogd om misbruik te monitoren, maar niet gepubliceerd of op een andere manier gebruikt. Het is de redactie toegestaan om de inhoud van de reacties te hergebruiken in de print en online titels van de uitgever van Computable. \n",
      "       Wil je dagelijks op de hoogte gehouden worden van het laatste ict-nieuws, trends en ontwikkelingen? \n",
      "       Abonneer je dan op onze gratis nieuwsbrief.\n",
      "        Ministerie van Binnenlandse Zaken…\n",
      "                Zuid-Holland Ministerie van Buitenlandse Zaken\n",
      "                Zuid-Holland Ministerie van Buitenlandse Zaken\n",
      "                Zuid-Holland \n",
      "Verstuur\n",
      " Alle rechten voorbehouden © 1995-2023 Jaarbeurs\n",
      "( 0.5233sec)\n",
      "\n",
      "\n",
      "URL: https://www.demorgen.be/politiek/meyrem-almaci-sommigen-zeggen-laat-vlaams-belang-het-eens-proberen-beseffen-zij-hoeveel-schade-die-partij-kan-aanrichten~b0e5658b/\n",
      "Article:\n",
      "Anderhalf jaar geleden zwaaide Meyrem Almaci (47) af als voorzitter van Groen om te bekomen van een heftige periode vol persoonlijke aanvallen en doodsbedreigingen. Maar nu haar partij steeds vaker geïsoleerd staat rond thema’s als klimaat, energie, migratie en mensenrechten, komt de Karate Kid in haar weer naar boven. ‘Sommigen zeggen: ‘Laat Vlaams Belang het eens proberen.’ Beseffen zij hoeveel schade die partij kan aanrichten?’\n",
      "   \n",
      "      Na een catastrofaal klimaatjaar trekt België eind november met de broek op de enkels naar de klimaattop van de Verenigde Naties in Dubai. Deze maand heeft ons land alweer een deadline gemist om een klimaatplan in te dienen. De Europese Unie vraagt dat we onze uitstoot tegen 2030 met 47 procent beperken, maar de Vlaamse regering wil maar een inspanning van 40 procent doen.\n",
      "     \n",
      "      Meyrem Almaci: “Het is de zoveelste blamage voor ons land, omdat één regering maling heeft aan de klimaatdoelstellingen. We riskeren een miljardenboete, die op de belastingbetaler zal worden afgewenteld.”\n",
      "     \n",
      "      “Met Europa kun je nog onderhandelen, met de wetten van de fysica niet. Hoe sneller we onze CO2-uitstoot verlagen, hoe minder de Vlaming getroffen zal worden door extreem weer zoals in de Vesdervallei, twee jaar geleden. Elke 0,1 graad opwarming die we kunnen vermijden, maakt een immens verschil in levenskwaliteit. Ik wil mijn kinderen later recht in de ogen kunnen kijken en zeggen: ‘Ik heb álles heb gedaan om jullie wereld leefbaar te houden.’ Helaas hebben de centrumpartijen het klimaatbeleid losgelaten, alsof het een luxeprobleem is.”\n",
      "     \n",
      "      “Onzin! De Vlaamse regering stelt zich voor 0,5 miljard euro borg voor de ethaankraker van chemiereus INEOS, en deelt honderden miljoenen aan subsidies uit aan de fossiele industrie. Dat geld kun je beter gebruiken om onze woningen te vergroenen. 0,5 miljard euro voor sociale huisvesting is overgeheveld naar de privésector: daarmee had je op alle sociale woningen zonnepanelen kunnen leggen.\n",
      "     \n",
      "      “De Vlaamse regering geeft elk jaar voor 79 miljoen euro aan subsidies aan de luchthaven van Deurne. Uit een studie, besteld door de regering zelf, blijkt dat een sluiting minstens acht keer meer maatschappelijke voordelen zou opleveren. Toch houden ze die verlieslatende subsidieslurper in leven, zodat de happy few met hun privéjets naar Kortrijk kunnen vliegen.\n",
      "     \n",
      "      “De grootste schande is het openbaar vervoer. We stevenen af op een nieuw filerecordjaar. Maar wat doet de regering? Premies van 5.000 euro voor elektrische auto’s uitdelen en het openbaar vervoer kapotbesparen. Zo zet je mensen tegen elkaar op. Als je van Deurne naar Hoboken wilt raken, ben je soms anderhalf uur onderweg – omdat je moet wachten op bussen en trams die niet komen of overvol zitten. De verrotting is totaal. En als de topvrouw van De Lijn dat aanklaagt, zegt minister van Mobiliteit Lydia Peeters (Open Vld) dat ze moet stoppen met zagen. Dat is toch hallucinant?\n",
      "     \n",
      "      “Zowel Peeters als haar voorganger Ben Weyts (N-VA) heeft gezegd dat rekeningrijden absoluut nodig is, maar geen van beiden heeft het dúrven in te voeren. De Oosterweelwerken zijn in volle gang, en op zo’n cruciaal moment sluiten ze de tramlijn naar Linkeroever een halfjaar, omdat die zo slecht onderhouden is. Deze regering laat de mensen in de steek en organiseert het verval.\n",
      "     \n",
      "      “Hetzelfde zie je bij de besparing in de kinderbijslag, het plaatsgebrek in crèches, scholen en jeugdinstellingen, personen met een handicap die hun geld niet krijgen, bankautomaten die verdwijnen. En dan vragen ze zich af waarom Vlaams Belang zo hoog staat in de peilingen!”\n",
      "     \n",
      "      “De NMBS was óók kapotbespaard. Gilkinet investeert nu miljarden in nieuwe treinen en infrastructuur. Er komt 9 procent budget bij en 30 procent meer aanbod. Dankzij ons zul je met de trein naar een concert of restaurant kunnen gaan en ’s nachts ook weer thuis raken. Maar die investeringen vragen tijd. De volgende minister zal met de eer kunnen gaan lopen.”\n",
      "     \n",
      "      “Ja, maar we gebruiken hem weinig. Ik neem zoveel mogelijk de fiets. We hebben ook lang gespaard voor zonnepanelen. Mijn familieleden kunnen dat helaas niet betalen: de overheid moet dat mogelijk maken. Maar het is niet de bedoeling dat iedereen zijn brandstofauto door een elektrische auto vervangt. Emissiearme mobiliteit: dát is het doel. Voor mensen die anders niet op hun werk raken, zal een elektrische auto de oplossing zijn. Voor anderen kan het met performant openbaar vervoer, de elektrische fiets en een abonnement op een deelauto.”\n",
      "     \n",
      "      “Nee, op groen! (lacht) Ik zou die regering zo opnieuw vormen. Vivaldi wilde op een andere manier aan politiek doen. Dat is mislukt, omdat sommige partijvoorzitters liever aan spektakelpolitiek doen. Maar wat was het alternatief? Een regering met de N-VA. Een beleid op maat van de grote bedrijven en de aandeelhouders. De N-VA verwijt ons dat we geld hebben uitgegeven om de mensen door de coronacrisis en de energiecrisis te helpen, maar in de vorige regering lieten zij de mensen bloeden met een indexsprong en een ongedekte taxshift van 12 miljard euro, die nog altijd weegt op de begroting.”\n",
      "     \n",
      "      “Ik ben blij dat iedereen erkent dat Petra capabel is om zwaardere bevoegdheden te dragen. Zij is premierwaardig en belichaamt het ‘Anders gaan leven’-principe. Wij waren de kleinste van zeven partijen in 2020, en toch hebben we het groenste regeerakkoord bereikt dat ons land al gehad heeft, met groene ministers op sleuteldomeinen als energie, klimaat, openbaar vervoer en gelijke kansen.\n",
      "     \n",
      "      “Wij hebben de windenergie op zee verviervoudigd, we hebben een energie-eiland gebouwd, en we hebben een tienjarenplan van 43 miljard euro voor de spoorwegen gemaakt. We hebben de levenskwaliteit van mensen verbeterd met de uitbreiding van het geboorteverlof en het rouwverlof, en ik heb mij persoonlijk gesmeten voor een stevig armoedebeleid, met hogere minimumpensioenen, uitkeringen en minimumlonen. Voor het eerst in jaren is de armoede gedaald. Dat is toch een mooi resultaat?”\n",
      "     \n",
      "      “De laagste lonen moeten absoluut omhoog. Maar als Bart De Wever (N-VA) vindt dat deze regering ‘de passieven’ bevoordeelt, moet hij zijn doembril eens afzetten: er worden meer jobs gecreëerd dan tijdens de regeringen van Charles Michel (tussen 2014 en 2019, red.) de inflatie is lager dan in de rest van Europa, en onze economie doet het beter dan verwacht.”\n",
      "     \n",
      "      “Achteraf is het makkelijk praten. Uit onze berekeningen bleek dat het mogelijk was om alle kerncentrales te sluiten door volop op hernieuwbare energie in te zetten. Uitbater Engie maakte ook duidelijk dat het te laat was om de levensduur van kerncentrales nog te verlengen. De vorige regering, met de MR en N-VA, had dat niet gedaan. Ze had ook niets voorbereid. Het is bijna schizofreen dat die partijen zo tekeergaan tegen Tinne Van der Straeten (Groen), die als minister van Energie hún wanbeleid moest rechtzetten. Het leek haar ook nog te lukken, maar de oorlog in Oekraïne, die in februari 2022 uitbrak, was een gamechanger.”\n",
      "     \n",
      "      “Omdat Engie had gezegd dat het te laat was. Die verlenging vereiste grote investeringen, een nieuw wettelijk kader, zware onderhandelingen en de goedkeuring van Europa. Maar door het uitvallen van de Franse kerncentrales en de oorlog in Oekraïne – waardoor extra gascentrales óók geen optie meer waren – kwamen we in een perfecte storm terecht. Daardoor konden we niet anders dan twee kerncentrales langer open te houden. Tinne krijgt in heel Europa lof voor hoe ze dat heeft aangepakt. Ze heeft ook het miljardenfonds voor de ontmanteling van de kerncentrales weggehaald bij Engie en veilig ondergebracht bij de overheid.”\n",
      "     \n",
      "      “Die dader was illegaal in ons land, maar Tunesië had om zijn uitlevering gevraagd. Het probleem zat dus niet bij het terugkeerbeleid; het zat bij justitie, waar dat dossier was blijven liggen. Toch ontstond een hijgerig debat over woonstbetredingen en het opsluiten van kinderen. Het verbaast me dat Conner Rousseau (Vooruit) daar nu ook al voor pleit (dit interview vond plaats voor Rousseau ontslag nam als partijvoorzitter, red.).\n",
      "     \n",
      "      “Let op: wij vinden ook dat het terugkeerbeleid beter moet. Vrijwillig als het kan, gedwongen als het moet.”\n",
      "     \n",
      "      “Wij zullen de fundamentele rechten en vrijheden altijd verdedigen, zelfs al zijn we de allerlaatsten. Veel Belgen vangen mensen zonder papieren thuis op uit compassie, zodat ze niet op straat hoeven te slapen. En dan zou de politie zomaar hun woning mogen binnenvallen? Dat is tegen de grondwet. Zoiets kan voor mij alleen als er sprake is van een misdrijf, niet om administratieve redenen (in het voorstel van Nicole de Moor moet een magistraat nog altijd de opdracht geven, red.). We gaan toch de weg niet plaveien voor extreemrechts?”\n",
      "     \n",
      "      “We moeten asielzoekers eerlijker verspreiden over de lidstaten, en we moeten druk zetten op de herkomstlanden. Maar we gaan géén pushbacks organiseren of afdingen op de mensenrechten, sorry. Al maanden klagen wij de weigering van De Moor aan om alleenstaande mannen op te vangen. Het Grondwettelijk Hof heeft haar ook al berispt. Blijkbaar zijn de christendemocraten hun zeven werken van barmhartigheid vergeten.”\n",
      "     \n",
      "      Nicole De Moor: ‘Ik pleit voor woningbetredingen, zodat de politie mensen in onwettig verblijf thuis kan oppakken’\n",
      " \n",
      "      “De werkgevers pleiten voor meer arbeidsmigratie, om de gaten in onze arbeidsmarkt te vullen. Dan is het niet zo gek om mensen die hier al jaren werken te legaliseren. Niet iedereen, hè: je moet bekijken welke job ze hier doen, en hoelang ze hier al zijn. Maar we moeten de schrijnende situaties aanpakken.”\n",
      "     \n",
      "      “De fiscale hervorming is gesaboteerd door de MR, die de rijkste 1 procent beschermt. Maar ik deel uw teleurstelling. Al vijftien jaar zwalpen we van crisis naar crisis. In onzekere tijden moet de politiek met antwoorden komen, en dat lukt te weinig.\n",
      "     \n",
      "      “Het voorbije jaar hebben twee momenten een dikke knoop in mijn maag gelegd. Het eerste was het proces-Reuzegom. Ik ben een voorvechter van de rechtsstaat, maar door dat vonnis zijn veel mensen ervan overtuigd dat zij minder waard zijn. Er loopt nu een proces tegen vijf Brusselse jongeren die op het strand van Blankenberge keet hebben geschopt en met parasols hebben gegooid. Voor hen worden ook effectieve gevangenisstraffen gevorderd – maar elitejongeren die een medestudent doodfolterden, ontsprongen de dans. Dat krijg ík niet meer uitgelegd. Het algemene gevoel is: we hebben met klassenjustitie te maken. Groen heeft gepleit voor een onafhankelijk onderzoek, om aan te tonen of dat terecht is, maar dat werd geweigerd.”\n",
      "     \n",
      "      “Pipigate. Gasten die op het feestje van een vicepremier (Vincent Van Quickenborne van Open Vld, red.) tegen een politiebusje plassen, terwijl die vicepremier al maanden door de politie wordt beschermd: dat is toch ongelofelijk? Wie anders kan zich zoiets permitteren? Theo Francken (N-VA) werd gefilmd terwijl hij in Brussel dronken in een bloembak plaste. Dat passeerde. Als hij een vrouw was, hadden ze hem buitengedragen.”\n",
      "     \n",
      "      “Ik had zestien jaar toppolitiek achter de rug, waarvan acht jaar als voorzitter. Na die rollercoaster had ik behoefte aan meer tijd voor mijn kinderen en familie. Het jaar ervoor was politiek en privé heftig geweest. Die zomer had ik één week vakantie in Turkije, met mijn familie. Eindelijk rust! Net toen raakte bekend dat Zuhal Demir de vergunning voor de gascentrale in Vilvoorde had geweigerd. Plots moest ik in een bergdorp op zoek naar een degelijke internetverbinding om een crisis in goede banen te leiden. Dat was de druppel. Dáár heb ik beslist dat het genoeg was geweest. Zodra de kernuitstap was beslecht, zou ik stoppen. Alleen heeft dat nog lang geduurd.”\n",
      "     \n",
      "      “In 2018 en 2019 hebben we in moeilijke omstandigheden twee verkiezingsoverwinningen geboekt. Groen was een sympathiek winkeltje, ik heb er een kleine kmo van gemaakt. We hebben ministers in de Brusselse en de federale regering, en we besturen mee in veel gemeenten: Gent, Brussel, Oostende... Lokaal zijn we beter verankerd, en uit peilingen blijkt dat de mensen appreciëren wat we daar doen.”\n",
      "     \n",
      "      “De verkiezingscampagne van 2019 was heel toxisch. Sommige partijen gaven veel geld uit om ons aan te vallen. Ik heb me toen laten meeslepen in die boksmatch, terwijl wij geen partij van boksers zijn.”\n",
      "     \n",
      "      “Die kritiek was zo luid dat we in een tunnelvisie terechtkwamen. Analisten schreeuwden moord en brand, maar nu zeggen ze dat het systeem dringend moet worden aangepast. Ik vind nog altijd dat de belastingbetaler er niet is om de files te verergeren, of om iemands Porsche Cayenne met 127 opties te betalen.”\n",
      "     \n",
      "      “Niet echt. Veel mensen zijn de egotripperij en de bullebakkerij kotsbeu. Ze appreciëren dat wij blijven vechten voor het klimaat en de mensenrechten. Die groep democraten is groter dan de kiezers van extreemrechts.”\n",
      "     \n",
      "      “Ja? Welke écht linkse partij is groter dan wij? Vooruit? Daar is nog weinig links aan. Ik zie vooral veel electorale berekening en fake politics. In Het Laatste Nieuws zei Louis Tobback dat we in ons diepste binnenste allemaal een beetje racistisch zijn. Zo probeerde hij de racistische uitspraken van Conner Rousseau te vergoelijken. Dat had net zo goed van Vlaams Belang kunnen komen. Ik vind dat pijnlijk voor alle socialisten die hun hele leven hebben gevochten tegen racisme. Als groenen houden wij tenminste onze lijn aan, in plaats van achter de populisten aan te lopen.”\n",
      "     \n",
      "      “Ze blijven wel voor Groen vechten in hun gemeente. Als partijen te weinig vernieuwen, zeggen jullie dat iedereen vasthoudt aan zijn postje. Als ze wél vernieuwen, is het een leegloop. Dat is belachelijk. Vernieuwing kan alleen als gevestigde waarden plaatsmaken.”\n",
      "     \n",
      "      “Als ik zwijg wél (lacht). Zodra ik mijn mond opendoe, is het prijs. Mijn profiel irriteert mensen: migratieachtergrond, vrouw, links en luid. Ik ben een kiezel in de laarzen van extreemrechts. En dan krijg je georkestreerde aanvallen. De Humo-reeks over ’t Scheldt heeft dat mooi aangetoond: dat is een machine om mensen kapot te maken. Zelfs als ik een pannenkoekenrecept postte, kreeg ik tientallen haatreacties.”\n",
      "     \n",
      "(ernstig) “Al 47 jaar lang proberen anderen mij de mond te snoeren of mijn verhaal in mijn plaats te schrijven. Toen ik voor het eerst opkwam, sneerden toonaangevende columnisten dat ik een alibi-allochtoon was. Ik heb bewezen dat dat niet klopte. Eén columnist heeft dat achteraf ook toegegeven. Maar Vlaams Belang roept dat nog altijd. Via sociale media proberen ze me zo hard te demoniseren dat de mensen niet meer willen luisteren naar wat ik zeg. De Filipijnse Nobelprijswinnares Maria Ressa noemt desinformatie via de sociale media een atoombom voor onze samenleving.”\n",
      "     \n",
      "      “Mensen schreven dat ik een vuile, dikke hoer was die verkracht en opgehangen moest worden. Sommigen reden me op straat voorbij en riepen schunnigheden door het autoraampje, of ze stopten dingen in mijn brievenbus in het parlement. Soms doken ze op aan mijn deur en wilden ze niet weggaan tot ik had erkend dat ik een Erdogan-aanhangster was. En als ik kritiek uitte op zijn regime, kreeg ik óók doodsbedreigingen. Daarom heb ik mijn gezin altijd uit de media gehouden.\n",
      "     \n",
      "      “Een man met een psychiatrische stoornis stalkte mijn secretariaat en mijn woordvoerster om mijn privégegevens te bemachtigen. Hij liet waanzinnige voicemails en bedreigingen achter op hun telefoons. Op een dag belde hij naar mijn vaste nummer in het parlement: ‘Ik sta aan de school van je kinderen.’ De politie heeft meteen enkele agenten in burger gestuurd. Gelukkig stond die man er niet, hij werd thuis vanachter z’n computer geplukt.”\n",
      "     \n",
      "      “Wanneer ze mijn gezin erbij betrokken, was ik soms erg aangeslagen. Als ik al die bagger lees, word ik soms nog overvallen door een diepe tristesse. Dan vraag ik me af waar het heen gaat met onze samenleving. Maar daarna komt het vechterke in mij naar boven en zeg ik: ‘Als mijn aanwezigheid jullie irriteert, awel, hier ben ik weer. Hallo!’ (lacht) Ik ben karakterieel niet in staat om daaraan toe te geven.”\n",
      "     \n",
      "      “Natuurlijk. Als ze je zo typecasten, vraag je je op den duur af of er iets van klopt. Ik heb even gedacht dat ik me wat meer moest inhouden, dat ik de vechter in mij moest bedwingen, wat rustiger moest praten. Maar wat je ook doet, het is toch nooit goed. Hoe je eruitziet, wat je draagt, hoe hoog je stem is: op alles krijg je commentaar, zeker als vrouw. En als je gepassioneerd bent, word je snel versleten voor een furie of hysterica.\n",
      "     \n",
      "      “De omgeving voor vrouwelijke politici is echt niet verbeterd, hoor. Annelies Verlinden (cd&v) werd in het regeringsrapport van een krant een ‘ijskoningin’ genoemd. Ze kreeg een betere score dan Mathieu Michel (MR-staatssecretaris voor Digitalisering en Administratieve vereenvoudiging tot 2022, red.), maar hij werd géén sloef of luierik genoemd.”\n",
      "     \n",
      "      “Als zijn Humo-interview van vorige week geen wake-upcall was voor iedereen die er nog maar aan dénkt het cordon sanitaire af te schaffen, weet ik het ook niet meer. Dewinter wil de godsdienstvrijheid afschaffen, de leerkrachten aanpakken, het media-apparaat controleren, de lgbtq-rechten uithollen, en alle moslims blijven voor hem terroristen en criminelen. Als democraat kun je onmogelijk met zo’n partij in zee gaan.\n",
      "     \n",
      "      Het omstreden Humo-interview met Filip Dewinter: ‘In sommige gettowijken zijn de burgemeester en de politiecommissaris vervangen door de imam en de drugsbaron’\n",
      " \n",
      "      “De Wever zegt dat hij met Vlaams Belang wil praten als Dewinter en Dries Van Langenhove weg zijn, maar de rest is geen haar beter. Ze denken hetzelfde! Sommige Vlaams Belangers hebben geleerd om zich gematigd te gedragen, maar als puntje bij paaltje komt, gebruiken ze nazibegrippen als omvolking, zoeken ze zondebokken en proberen ze mensen tegen elkaar op te zetten. We weten in welke gruwelijke drama’s dat kan uitmonden. De geschiedenis herhaalt zich niet, maar ze rijmt wel.\n",
      "     \n",
      "      “Sommigen zeggen: ‘Laat Vlaams Belang het eens proberen.’ Beseffen zij hoeveel schade die partij kan aanrichten? Je weet waar het begint, maar niet waar het eindigt – kijk naar de diepe verdeeldheid die Donald Trump heeft gezaaid in de Amerikaanse samenleving. Na de verkiezingen van 2019 roerde de onderbuik van Vlaanderen zich al. Op de tram kregen mensen met migratieroots van extreemrechtse militanten te horen dat ‘het hier weer van ons is’. Wat wordt het als die onruststokers straks in de regering zitten, denkt u?”\n",
      "     \n",
      "      “Ik hoop dat N-VA’ers als Zuhal Demir, Geert Bourgeois en Jan Peumans dat zullen verhinderen. Maar eigenlijk ís het cordon al aan het afbrokkelen. In Zwijndrecht hebben de N-VA en cd&v een wisselmeerderheid met Vlaams Belang gevormd om de fusie met Beveren en Kruibeke te stemmen, tegen de wil van de bevolking. In Grimbergen is Bart Laeremans burgemeester: hij heeft twintig jaar in het parlement gezeten voor Vlaams Belang, maar lokaal is hij onder een andere naam opgekomen. Cd&v en de N-VA besturen samen met hem.”\n",
      "     \n",
      "      “Vlaams Belang wil het cordon breken bij de lokale verkiezingen, zodat dat nadien ook kan op Vlaams niveau. De Wever zal de regeringsvorming over de gemeenteraadsverkiezingen van oktober willen tillen, om alle pistes open te houden en geen kiezers kwaad te maken. Het is zonneklaar dat hij opnieuw in de federale regering wil, al was het maar om de geldstromen naar Antwerpen te verzekeren.\n",
      "     \n",
      "      “De N-VA is een machtspartij pur sang. In 2020 waren ze razend omdat ze aan de kant vlogen, de ministerposten voor Theo Francken en Valerie Van Peel waren al gereserveerd. De Wever zal opnieuw één grote deal willen maken voor Antwerpen, Vlaanderen en de federale regering. Maar zijn confederalisme kan hij vergeten: hij raakt nooit aan een tweederdemeerderheid.”\n",
      "     \n",
      "      “Op de regionale zender ATV zei De Wever dat hij nog liever ondersteboven in de Schelde springt dan met ons te besturen. Ik raad hem aan om al een zwemvest te kopen. Antwerpen heeft behoefte aan groene bijsturing. In Brussel hebben wij de stad getransformeerd met fietsstraten en autovrije zones, het aantal fietsers is er verdrievoudigd.\n",
      "     \n",
      "      “In Antwerpen voert de N-VA nog altijd een mobiliteitsbeleid van de jaren 80. De vlotte doorstroming van auto’s blijft er primeren op de verkeersveiligheid. Die visie maakt dodelijke slachtoffers bij fietsers en voetgangers. Mensen mogen het centrum niet in met hun oude dieselwagen, wat goed is voor de luchtkwaliteit, maar vervuilende cruiseschepen mogen wél vrolijk de stad binnenvaren.”\n",
      "     \n",
      "      “Hij valt iedereen aan die zijn strategie in de weg staat, maar ik ben professioneel genoeg om dat opzij te schuiven. De Wever laat graag het tegendeel uitschijnen, maar achter de schermen gaan wij normaal met elkaar om.”\n",
      "     \n",
      "      “Eigenlijk zit ik al acht jaar te lang in het parlement, maar ik heb van mijn partij opnieuw een uitzondering gekregen om langer door te gaan. Ik zal doen wat het beste is voor de partij. Ik hoef niks meer, da’s een luxe.”\n",
      "     \n",
      "      “Ik heb een jaar nodig gehad om op mijn plooi te komen, maar nu wil ik me weer in de strijd gooien. Het is sterker dan mezelf: ik kán niet afzijdig blijven in zo’n moeilijk tijdsgewricht. When the going gets tough, the tough get going.\n",
      " \n",
      "      “Ik heb m’n hele leven moeten vechten om te mogen zijn wie ik ben. Als meisje uit een Turks gastarbeidersgezin was ik voorbestemd om snit en naad te volgen, vroeg te trouwen en huisvrouw te worden, maar ik schreef me – als eerste kind uit de Turkse gemeenschap van Sint-Gillis-Waas – in voor het aso, achter de rug van mijn ouders, het CLB (centrum voor leerlingenbegeleiding, red.) en de imam.\n",
      "     \n",
      "      “Ik zag mijn studies als een ticket naar onafhankelijkheid. Andere Turkse meisjes kwamen nooit in de sporthal, ik speelde er badminton en karate, ook al vond iedereen dat raar. Ik heb bakens verzet, mijn ouders werden geconfronteerd met roddels en afkeurende reacties. Maar ook de ouders van vriendinnen keken raar op toen er een meisje met hoofddoek over de vloer kwam.”\n",
      "     \n",
      "      “Ja, daarom heb ik die relatie lang afgehouden. Toen ik mijn man leerde kennen, was ik 18 jaar. Ik werd verliefd, maar ik dacht: dit gáát niet, de kloof is te groot. Pas vijf jaar later werden we een koppel. Ook aan zijn kant waren ze er niet gerust in: ‘Wat als jullie ooit uit elkaar gaan en zij de kinderen meeneemt naar Turkije?’ Onze liefde heeft al die vragen en vooroordelen overwonnen, maar in het begin leek onze relatie een gok.\n",
      "     \n",
      "      “Pas toen we gingen samenwonen, heb ik het thuis verteld – met knikkende knieën. Vooraf had ik stiekem al mijn spullen verhuisd, uit vrees voor een negatieve reactie. Ik dacht: als dit niet lukt, verlies ik misschien iedereen die ik graag zie. Achteraf bekeken was die angst niet nodig, mijn familie had al iets vermoed. Ik ben hun eeuwig dankbaar, omdat ze me hebben toegelaten mijn weg te zoeken.\n",
      "     \n",
      "      “Ik heb mijn ouders héél ver gepusht in een wereld die ze niet kenden. Bij de diploma-uitreiking in de middelbare school zaten ze als enige Turkse mensen – een huisvrouw en een arbeider – in een zaal vol hoogopgeleiden. Ik ben blij dat ik hun dat moment heb kunnen geven, zodat ze zagen dat mijn rebelsheid tot iets had geleid. Nadien gingen mijn zussen en veel andere kinderen uit de gemeenschap ook studeren. Sommige ouders zeiden: ‘Als we hadden geweten waartoe onze kinderen in staat waren, hadden we hen ook in een andere richting gestuurd.’”\n",
      "     \n",
      "      © Humo\n",
      "       Neem een abonnement op De Morgen  Op alle artikelen, foto's en video's op demorgen.be rust auteursrecht. Deeplinken kan, maar dan zonder dat onze content in een nieuw frame op uw website verschijnt. Graag enkel de titel van onze website en de titel van het artikel vermelden in de link. Indien u teksten, foto's of video's op een andere manier wenst over te nemen, mail dan naar info@demorgen.be.  DPG Media nv – Mediaplein 1, 2018 Antwerpen – RPR Antwerpen nr. 0432.306.234 \n",
      "\n",
      "\n",
      "URL: https://www.demorgen.be/beter-leven/peter-van-de-veire-bleef-de-constante-terwijl-zijn-vrouwelijke-sidekicks-telkens-weer-jonger-werden-ik-zit-al-langer-met-die-mediadynamiek-in-mijn-maag~b724c189/\n",
      "Article:\n",
      "Een jaar lang deed Gloria Monserez (22) er het zwijgen toe: geen interviews, geen sociale media. Zo leerde ze dat luisteren soms meer oplevert dan roepen. Maar stilaan wil de Ketnet-wrapper en toekomstige presentatrice van De droomfabriek haar stem weer verheffen. Te beginnen met Stel je voor, haar Ketnet-reeks rond duurzaamheid. ‘Vroeger stapte ik mee in alle klimaatmarsen en leefde ik strikt veganistisch. Ik hoop dat ik dat vuur kan terugvinden.’\n",
      "   \n",
      "      Er is nog maar weinig dat Gloria Monserez uit het lood kan slaan. Dat weet iedereen die haar de afgelopen jaren dartel en complexloos zag schakelen tussen fictie (Liefdestips aan mezelf, Play4), shiny floor show (The Voice, VTM) en geriatrisch gekoppel (Hotel Romantiek, VRT 1). Wie het toch wil proberen, raden we aan te beginnen bij complimenten van collega’s.\n",
      "     \n",
      "      Wanneer we halverwege ons gesprek in het Leuvense Café Entrepot opmerken hoe lovend andere tv-makers zich uitlaten over haar volwassenheid en metier, probeert ze net niet ín de bank te verdwijnen. “Er is waarschijnlijk maar één ding waar ik het net zo lastig mee heb als complimenten ontvangen, en dat is geconfronteerd worden met oude uitspraken van mezelf”, grinnikt ze. “Alle liefde voor mijn jongere zelf, maar af en toe bots ik op een quote van pakweg drie jaar geleden en denk ik: jeezes, Gloria! Hoe puberaal!’ De jaren tussen je 18de en 22ste zijn zeer vormend en zoekend, maar omdat ik Ketnet-wrapper ben geworden op mijn 18de, heb ik die zoektocht deels openbaar gemaakt. Als ik sommige podcasts uit die tijd herbeluister, besef ik toch dat opgroeien in de luwte ook geen kwaad had gekund. (lacht) Ik had zo’n ongelooflijk grote mond, en amper gevoel voor nuance. Ik ben blij dat ik ondertussen wat stiller ben geworden.”\n",
      "     \n",
      "BIO\n",
      " \n",
      "geboren in Leuven op 5 juli 2001\n",
      "     \n",
      "is de dochter van actrice Machteld Timmermans en theatermaker Koen Monserez\n",
      "     \n",
      "studeerde grafische vormgeving aan het KASK, maar zette die studies op pauze\n",
      "     \n",
      "schopte het in 2019 tot Ketnet-­wrapper\n",
      "     \n",
      "verving in 2022 An Lemmens tijdelijk als presentatrice in The Voice van Vlaanderen (VTM) en presenteerde samen met Philippe Geubels en Sven de Leijer Hotel Romantiek\n",
      "     \n",
      "speelde dit jaar de hoofdrol in de reeks Liefdestips aan mezelf (Play4)\n",
      "     \n",
      "presenteert volgend jaar de reboot van De droomfabriek (VRT 1), naast Bart Peeters\n",
      "     \n",
      "woont in Kessel-Lo\n",
      "     \n",
      "      In Stel je voor – ingebed in Planeet K, de beweging waarmee Ketnet het hele schooljaar op duurzaamheid wil focussen – onderwerpt Monserez zich dezer dagen, samen met vier jonge Klimaatjes, telkens 24 uur aan allerhande doemscenario’s. Van een etmaal in een wereld zonder voedsel of elektriciteit, tot een dag dobberen op een catamaran alsof ze in Waterworld terecht zijn gekomen.\n",
      "     \n",
      "      “Wat is Waterworld?”, vraagt ze verontschuldigend.\n",
      "     \n",
      "      “O juist. De ploeg vernoemde die ook. En vond het net zo vreemd dat ik die niet kende. (lacht) We overleven trouwens ook nog eens 24 uur op een wereld vol natuurrampen. Daarvoor trokken we naar Campus Vesta in Ranst, een opleidingscentrum voor veiligheidsdiensten. Daar ligt bijvoorbeeld een ‘neergestort’ vliegtuig, een treinwrak, je kan er bosbranden of grote stormen simuleren. We hebben ook gebeld met een Amerikaans kind dat in orkaangebied leeft. Want hoe leuk en spannend die simulaties ook zijn, we mogen niet vergeten dat ze voor sommigen de dagelijkse realiteit zijn.”\n",
      "     \n",
      "      “Ik merk bijvoorbeeld hoe vatbaar mijn elfjarige zusje voor doemdenken is. Deze zomer had mijn vader haar uitgelegd hoe slecht het gaat met de bijenpopulatie en welke problemen dat kan opleveren in de toekomst. En daar kreeg ze achteraf echt stress van. Alsof het lot van de bijen exclusief in haar handen lag. (denkt na) Met doemdenken alleen komen we bovendien geen spat verder. Je moet een balans zien te vinden: het mag een belangrijke plaats in je leven innemen, maar je kan er niet elke nacht je slaap voor laten.”\n",
      "     \n",
      "      “Ik weet niet of al die rampspoed tot bij hen geraakt. En of die dan uitsteekt boven alle andere informatie en TikTokfilmpjes die een kind elke dag te verwerken krijgt. Een kinderbrein is op dagelijkse basis al redelijk verzadigd. Probeer dan nog maar eens ruimte te maken voor een vrij abstract thema als duurzaamheid. Maar dat is dus net wat ik met Stel je voor hoop te doen.\n",
      "     \n",
      "      “Het hangt ook af van de vraag of hun ouders met hen over zulke thema’s spreken. Dat is niet in elk gezin een evidentie en dat is ook oké. Elk gezin heeft zijn eigen context, heb ik met de jaren geleerd. Ik ben bijvoorbeeld opgegroeid in een gezin dat de middelen had om te shoppen bij Bio-Planet en de ruimte had om op zaterdag in de moestuin te werken en daar groenten uit te halen. Maar je kan dat niet verwachten van bijvoorbeeld een alleenstaande ouder die twee jobs moet combineren om het hoofd boven water te houden.”\n",
      "     \n",
      "(lacht) “Dat was ook niet gelogen: ik wás een betweter. Maar ik heb ondertussen leren luisteren. Ik snap nu dat er vaak meer dan één waarheid is.”\n",
      "     \n",
      "      “Ondertussen doe ik het al anderhalf jaar zonder Instagram, maar tijdens de coronacrisis was dat echt mijn platform. Ik nam er geen blad voor de mond, of het nu over klimaat, seksisme dan wel mensenrechten ging. Ik voelde me verantwoordelijk om élk thema aan te kaarten. Maar één keer ben ik er in mijn jeugdig enthousiasme wat over gegaan. Met name met een story waarin ik de foto’s postte van de kandidaten die in de running waren om de nieuwe VRT-baas te worden. ‘Ah, vijf oude witte mannen! Want dát hadden we nog niet bij de VRT.’ (lacht) Ongeveer tien minuten later kreeg ik al een lief en goedbedoeld telefoontje van een van mijn bazen bij Ketnet: ‘Hey Gloria, super dat je ook daarover je mening deelt. Blijf dat vooral doen. Maar besef wel dat één van die vijf ook jouw toekomstige baas is.’ Daar had ik in alle eerlijkheid nog niet eens bij stilgestaan. Ik was helemaal niet bezig met carrièreplanning.\n",
      "     \n",
      "      “Ondertussen heb ik geleerd dat posten vanuit je zetel wel heel gemakkelijk is, en dat ik beter moet nadenken over wat ik echt wil zeggen. Waarom ben ik verongelijkt? Wat wil ik veranderen? En kan ik dat op andere manieren dan via sociale media?”\n",
      "     \n",
      "      “Lekker groeien met Gloria!”\n",
      "     \n",
      "      “Het zal je niet verbazen, maar ik zit al langer met die mediadynamiek in mijn maag. Voor elke Martine Tanghe of Anne De Baetzelier heb je een veelvoud aan vijftig- of zestigjarige mannen. De eerste keer dat ik me er vragen bij stelde, was — dichter bij mijn leefwereld — bij de sidekicks van Peter Van de Veire. Eerst Eva Daeleman, dan Nasrien Cnops, Julie Van den Steen en Kawtar Ehlalouch: ik snapte niet helemaal hoe Peter daar de constante bleef, terwijl de vrouwelijke sidekicks telkens weer jonger werden. En ik snap het nog altijd niet.\n",
      "     \n",
      "      “Maar als het specifiek over De droomfabriek gaat, vind ik het lastig oordelen. Bart is nu eenmaal zelf met het idee voor een reboot naar De Chinezen gestapt en is onlosmakelijk met het programma verbonden: het zou héél raar zijn om hem niet te laten presenteren. Ik weet niet goed wat we anders hadden kunnen doen. (proeft de vorige zin opnieuw) Dit is nieuw: ik die de woorden ‘ik weet het niet’ in de mond neem.”\n",
      "     \n",
      "      “Stylist Tom Eerebout had me een vleeskleurige beha aangesmeerd die Lady Gaga een week eerder had gedragen. De pers vond dat blijkbaar interessant. Tegenwoordig werk ik samen met Marie Van Puyenbroeck, die me regelmatig in Borrenberghs kleedt. Handig, dan moet ik er niet over nadenken. Want zelf koop ik wel regelmatig tweedehandskledij, maar ook nog te veel fast fashion. Ik ben helaas een kind van de consumptiemaatschappij en ben nogal vatbaar voor reclame op sociale media. Maar ik probeer af te kicken en mijn dopamineshots elders te halen. Eenmaal je op tv komt, maak je jezelf ook wijs dat je nooit twee keer hetzelfde kledingstuk mag aantrekken in beeld. Het heeft even geduurd voor ik doorhad dat niemand daarom maalt.”\n",
      "     \n",
      "      “Mijn ouders hebben me — elk op hun manier — ecologisch opgevoed. Wij maakten ’s zomers bijvoorbeeld geen vlieg- maar treinreizen, we verplaatsten ons met de fiets of het openbaar vervoer en pas als het echt niet anders kon met een deelauto. Mijn mama is ook altijd met gezonde voeding en de korte keten bezig geweest, leerde me als herborist hoe ik mijn voedsel uit de natuur kan halen en nam me mee naar verpakkingsvrije winkels. Er werd veel vegetarisch gegeten, maar soms kwam er ook vlees op tafel. Mijn familie had altijd een koe, die werd geslacht en verdeeld onder de hele familie.\n",
      "     \n",
      "      “Dankzij mijn moeder en de afleveringen van Stel je voor die rond voedsel draaien, heb ik de liefde voor de moestuin herontdekt. Tegenwoordig probeer ik zoveel mogelijk zaterdagen mee te helpen in haar moestuin, in ruil voor een deel van de opbrengst. Zo moet ik ’s avonds ook geen boontjes uit Spanje meer kopen in de winkel.”\n",
      "     \n",
      "      “Mijn papa en stiefmama zijn eerder, eh, Knack-ecologisten. (lacht) Als ik bijvoorbeeld wil weten hoe de handel in CO2-emissierechten werkt, klop ik bij mijn vader aan. Mijn stiefmoeder heeft dan weer de tuin heraangelegd in functie van de bijen, maar is als artistiek leider van 30CC in Leuven net zo goed bezig met urgente, politieke thema’s. ‘Wat kunnen we nú doen? Hoe zetten we druk op het beleid?’ Ik heb enorm veel bewondering voor hen allemaal en ik hoop dat ik dat later ook kan meegeven aan mijn kinderen. En het misschien zelfs nog iets beter kan doen dan mijn ouders.”\n",
      "     \n",
      "      “Als ik één ding zeker weet, is het dat ik heel graag kinderen wil. En véél! Zo’n tafel vol pubers lijkt me echt heerlijk. Je weet nooit wat de toekomst brengt, maar als ik mag dromen, zie ik mezelf later in een vierkantshoeve wonen, met flink wat grond eromheen, een koe, schapen een paar kippen. Zo’n plek waar mijn kinderen nog op hun blote voeten kunnen rondlopen.\n",
      "     \n",
      "      “Ik hou te veel van het leven — van alles wat je kan voelen en meemaken — om mijn kinderwens op te geven vanwege doemdenkerij over de planeet. De wereld is ontegensprekelijk een zeer grauwe plek vandaag. Maar ik wil ook nog gewoon bloemen kunnen plukken en genieten van dat boeket, zonder telkens te denken: ja, maar wat betekent het allemaal nog in het aanschijn van oorlog en klimaatrampen? Die twee aspecten kunnen naast elkaar bestaan.\n",
      "     \n",
      "      “En ja, je kan stellen dat ik met mijn droom van een groot gezin de planeet nog meer belast, maar als ik er later in slaag om een tafel tjokvol pubers mijn ecologische waarden mee te geven, zetten we toch net een stap vooruit?”\n",
      "     \n",
      "      “Op mijn zeventiende was ik enorm begaan met de klimaatcrisis. Ik stapte mee in alle marsen, ik leefde strikt veganistisch nadat ik Cowspiracy op Netflix had gezien en ik geloofde oprecht dat we de wereld konden fiksen. Maar die Gloria is ondertussen — helaas — wat weggedeemsterd. Misschien zit mijn drukke job er wel voor iets tussen? Ik ben amper thuis en als er eens ruimte is voor ontspanning, dan wil ik allesbehalve piekeren over de staat van de wereld.”\n",
      "     \n",
      "      “O wauw, dat klinkt pijnlijk herkenbaar. Ik ben zo vaak gaan betogen in de afgelopen jaren: voor het klimaat, de cultuursector, Black Lives Matter … Maar uiteindelijk moest ik vaststellen dat het toch niet de verandering bracht die we voor ogen hadden. En dat het, hoewel we met zovelen door de straten marcheerden, toch één grote gelijkgezinde bubbel bleek. Want telkens als ik buiten de steden kom, merk ik: het gaat hier helemaal niet over die thema’s. Hier durven sommigen nog niet eens uit de kast te komen uit angst voor homofobe opmerkingen. Hier mijden sommigen de jeugdbeweging uit angst om geviseerd te worden vanwege hun huidskleur. Ik bedoel maar: ik snap dat mijn generatie ontmoedigd is geraakt. Ik ben het vuur dat ik destijds had zelf ook wat kwijtgeraakt. Misschien moet ik toch weer eens vaker gaan protesteren in de Wetstraat met al mijn vrienden, in de hoop dat ik dat vuur terugvind.”\n",
      "     \n",
      "      “Ik ben alvast niet betogingsmoe. Ik kom nog altijd liever op straat dan dat ik een verontwaardigde Instagrampost maak. Alleen, heel stom, ik heb de laatste pro-Palestijnse betoging gemist omdat ik niet meer op Instagram zit. Een goeie vriend belde me toen hij op weg was naar Brussel. ‘Kom je ook?’ Ik wist van niks. Ik heb hem wel gevraagd om me de volgende keer op tijd te bellen. (denkt na) Klinkt dit als een kluizenaarsbestaan? Dit klinkt als een kluizenaarsbestaan, nee?\n",
      "     \n",
      "      “Voor het eerst in anderhalf jaar overweeg ik om de Instagram-app opnieuw te installeren. Zij het met frisse tegenzin. Ik heb al die tijd gezegd dat ik helemaal niks miste — een goed feestje blijft een goed feestje, of je daar nu foto’s van post of niet — maar in tijden waarin jongeren hun mond opentrekken, moet ik dat misschien ook maar weer gaan doen? Door Stel je voor voel ik het opnieuw kriebelen om ook online mijn steentje bij te dragen op het vlak van duurzaamheid.”\n",
      "     \n",
      "      “Exact! Zo rijd ik voorlopig, omdat iedereen me dat destijds aanraadde, met een hybride wagen, maar mijn volgende wordt honderd procent elektrisch. Alleen bots je dan plots op het morele probleem dat die batterijen enorm veel zeldzame aardmetalen vergen die vaak ontgonnen worden in landen waar men het niet te nauw neemt met de rechten van mens en natuur. Het is vandaag zo lastig om de juiste keuze te maken. (droog) Daarom ga ik in het weekend dus in de aarde wroeten in de moestuin. Dat is zowat het énige waarvan ik zeker ben dat ik er niks verkeerds mee doe. Je voelt gewoon: dit is zo juist, niemand kan hier iets op tegen hebben.”\n",
      "     \n",
      "      “Ik was net te jong. Voor mij is het volgend jaar pas de eerste keer.”\n",
      "     \n",
      "      “Hoe graag ik me ook politiek zou willen uitspreken: contractueel mag ik dat niet. Maar hoopgevend is het niet, hè. (denkt na) Of zou ik dat ook al niet hardop mogen zeggen? Nu goed, ik denk dat niemand van mij verwacht dat ik vrolijk word van het succes van extreemrechts in de peilingen, toch? Ik herinner me nog hoe ik in 2019, aan het eind van het zesde middelbaar, schrok van de verkiezingsresultaten. Het was de eerste keer dat ik die serieus had gevolgd en plots besefte ik dat niet iedereen dacht zoals mijn ouders en de rest van mijn bubbel. Ik kwam nu eenmaal uit een steinerschool en uit een zeer linkse, culturele familie. Het was mij altijd heel duidelijk op wie ik later zou stemmen en ik ging er nogal naïef van uit dat iedereen zo dacht. Al is het me vandaag minder duidelijk welke partij ik zou moeten kiezen. En ik merk hetzelfde bij mijn leeftijdsgenoten.”\n",
      "     \n",
      "      “Shit, dat is een goeie vraag. Ik weet oprecht niet of ik volgend jaar ga stemmen. Ik vind het enerzijds mijn burgerplicht, maar anderzijds zie ik vandaag niet meteen een partij die mij helemaal kan overtuigen. Misschien kan ik beter op één persoon stemmen, eerder dan op een partij? Het is mijn eerste keer, geef me nog even bedenktijd.”\n",
      "     \n",
      "      “Van de noodzaak om constant een mening te hebben. En die te moeten ventileren. Om altijd het goede voorbeeld te moeten geven. Van me permanent af te vragen of ik wel met iederéén rekening had gehouden en zeker niemand onbedoeld had gekwetst.\n",
      "     \n",
      "      “Ik vond het ook tijd om minder te roepen en meer te luisteren. In plaats van de hele tijd andermans boodschappen te versterken met mijn bereik en microfoons door te geven aan hen, kon ik ook gewoon zwijgen. Zo kwam er een microfoon vrij voor iemand anders. (denkt na) Is dat niet de afweging die elk publiek persoon zich vandaag maakt? Je hebt een stem, een platform en privileges, en je wil je verantwoordelijkheid opnemen. Maar je moet ook genoeg ruimte laten voor anderen, want het draait meestal niet om jou.”\n",
      "     \n",
      "      “Echt wel. Het werd eindelijk stil in mijn hoofd. Soms moet je een paar straten afsluiten en je op één pad concentreren. Ik heb bovendien gemerkt dat, wanneer ik een boodschap wil verkondigen, ik dat ook kan met programma’s zoals Stel je voor. Misschien zelfs efficiënter. Alle energie die ik vroeger in goedbedoelde, verontwaardigde Instagramposts stak, gaat nu naar tv-programma’s die hopelijk een verschil kunnen maken.”\n",
      "     \n",
      "      “Elke tv-baas gaf ik de laatste jaren hetzelfde riedeltje: ‘Ik wil geen vast contract, want ik wil eerst proeven van wat er te proeven valt. Ik ben nog jong, laat me maar eens alles uitproberen.’ Alleen besefte ik vorig jaar dat ik ondertussen alles uitgeprobeerd had. Van de shiny floor show en de fictiereeks tot human interest. En ik voel dat ik in die laatste richting verder wil. ‘Ik wil mensen helpen om hun verhaal te vertellen’, zei ik bij De Chinezen. ‘Verhalen die een verschil maken.’ Goede tv is voor mij niet enkel ontspannend, maar ook verbindend. Zoals De droomfabriek. Ik heb het idee dat de coronajaren ons allemaal nog wat individualistischer hebben gemaakt: het is dus dringend tijd voor meer verbinding!”\n",
      "     \n",
      "      “Ik wou dat eens meemaken, maar ik heb gemerkt dat ik veel liever mezelf ben dan een personage. En als ik ooit toch nog eens acteer, dan liever voor een livepubliek. In een musical bijvoorbeeld.”\n",
      "     \n",
      "(lacht) “Het blijft een onzalig idee, maar ik kan het niet loslaten. Ik had zelfs al muziek geschreven. (dramatisch zingend) ‘In de Delhaize/Van Aalst…’ Enfin, ik wil niet te veel weggeven, want straks gaat Gert Verhulst er nog mee lopen.”\n",
      "     \n",
      "      “Het was fijn dat zoveel productiehuizen openstonden voor een gesprek. En hadden ze al hun vooroordelen, dan heb ik daar niks van gemerkt.”\n",
      "     \n",
      "      “Ik twijfel er niet aan dat sommigen me nog altijd zien als ‘die drukke 22-jarige die vrolijke liedjes zingt met twaalfjarigen en alle Chirospelletjes kent’. Ik voel vaak genoeg hoe Ketnet nog altijd onderschat wordt. ‘Het mag niet te Ketnet worden’ is niet voor niks een geijkte uitdrukking in de tv-wereld. Dan denk ik altijd: hoezo ‘niet te Ketnet’? Want ik ben ongelooflijk trots op wat wij maken en hoeveel kinderen we dagelijks bereiken.”\n",
      "     \n",
      "      (knikt) “Ik herinner me ook nog hoe ze bij The Voice verbaasd opmerkten dat je het op tv niet aan mij kon zien wanneer er iemand in mijn oortjes sprak. Maar ik doe al drie jaar liveshows. Met dertig kinderen rond me heen, een bekende gast, verschillende spelletjes en dat allemaal aan een rotvaart. Ik heb daar alles geleerd.”\n",
      "     \n",
      "      “Dat is het. (nadrukkelijk) En zo zal het nog een tijd blijven. Kinderen zijn een heerlijk en vaak onderschat publiek. Ik had zoiets als Stel je voor nooit met een andere leeftijdscategorie willen maken. Misschien draai ik ooit wel iets gelijkaardigs rond duurzaamheid voor VRT of VTM, maar ik heb eerst zelf nog heel veel bij te leren over het thema.”\n",
      "     \n",
      "(wiebelt ongemakkelijk heen en weer) “Ik vind dat echt heel raar om te horen.”\n",
      "     \n",
      "      “Ook! (lacht) Maar het voelt vooral vreemd om dergelijke complimenten te krijgen van iemand die, ruwweg geschat, al honderd jaar voor tv werkt.”\n",
      "     \n",
      "(wiebelt nog wat onrustiger) “Philippe, Bart en Sven (de Leijer, red.) zijn bepalend voor mijn carrière. Hun ego is onbestaande en ze geven mij alle ruimte om er te zijn waardoor ik kán doen waar ik goed in ben. (denkt na) Mijn levensfilosofie is: ‘Het is wat het is. En alles komt wel goed.’ En ik trek dat door naar mijn werk. Wat het ook is, we lossen het wel op.”\n",
      "     \n",
      "      “Kan het geen gezonde combinatie van beide zijn? (lacht) Twee weken geleden ben ik tijdens opnames wel zeer hard ten val gekomen. Ik ben oké nu, maar dat was de allereerste keer dat ik doodsangsten heb uitgestaan. Interessant gevoel. Want ik ben eigenlijk nooit bang. Maar plots besefte ik: het is niet omdat ik altijd een blind geloof heb in een goede afloop dat ik effectief onsterfelijk ben. Met zelfvertrouwen koop je maar zoveel. Lap, weer een stukje jeugdige naïviteit kwijt, Gloria!”\n",
      "     \n",
      "Stel je voor is te bekijken via de Ketnet-app, op ketnet.be en via VRT MAX. \n",
      "   Neem een abonnement op De Morgen  Op alle artikelen, foto's en video's op demorgen.be rust auteursrecht. Deeplinken kan, maar dan zonder dat onze content in een nieuw frame op uw website verschijnt. Graag enkel de titel van onze website en de titel van het artikel vermelden in de link. Indien u teksten, foto's of video's op een andere manier wenst over te nemen, mail dan naar info@demorgen.be.  DPG Media nv – Mediaplein 1, 2018 Antwerpen – RPR Antwerpen nr. 0432.306.234 \n",
      "\n",
      "\n",
      "URL: https://www.nieuwsblad.be/cnt/dmf20231106_93327914\n",
      "Article:\n",
      "In Berchem trof de Antwerpse politie zaterdagnacht twee mannen aan die een deelfiets probeerden te stelen. Hun rugzak zat vol werkmateriaal om fietsen te stelen. Het duo werd gearresteerd. De politie werd zaterdagnacht verwittigd omdat een getuige twee verdachte mannen had opgemerkt die aan fietsen prutsten in de Velodroomstraat. “Er kwam een interventiepatrouille ter plaatse, die kon vaststellen dat de twee mannen een rugzak onder een voertuig weggooiden en zich uit de voeten probeerden te maken”, vertelt politiewoordvoerder Willem Migom. “Beiden werden ze staande gehouden, ze bleken illegaal in ons land te verblijven.”  De politie trof nog een deelfiets aan waarvan het slot was doorgeslepen. “Ook de rugzak werd gerecupereerd. Deze zat vol met spullen die gebruikt kunnen worden om fietsen te stelen, zoals een slijpschijf, sleutels en een tang. De twee mannen werden gearresteerd, de fiets werd meegenomen naar het politiekantoor”, aldus Migom. (nelo) Bovenop jouw abonnement op het Nieuwsblad heb je gratis toegang tot alle plusartikels op de sites en apps van 4 andere topkranten. +PLUS is inbegrepen in alle abonnementsformules, uitgezonderd basic. Als abonnee lees je ook alle  plusartikels. Je hoeft je alleen aan te melden zodat we je herkennen als abonnee. Terwijl je dit leest, zijn onze journalisten druk in de weer om jou het snelste nieuws, de meest aangrijpende verhalen en het beste regio- en sportnieuws te brengen. Terwijl je dit leest, zijn onze journalisten druk in de weer om jou het snelste nieuws, de meest aangrijpende verhalen en het beste regio- en sportnieuws te brengen. Terwijl je dit leest, zijn onze journalisten druk in de weer om jou het snelste nieuws, de meest aangrijpende verhalen en het beste regio- en sportnieuws te brengen. Terwijl je dit leest, zijn onze journalisten druk in de weer om jou het snelste nieuws, de meest aangrijpende verhalen en het beste regio- en sportnieuws te brengen. Wist je dat je ook zonder abonnement elke maand 1 betalend   plusartikel kunt lezen? Wist je dat je ook zonder abonnement elke maand 1 betalend   plusartikel kunt lezen? Berchem Sport keek bij de rust tegen een 2-1 achterstand aan in de wedstrijd tegen Diegem Sport. In de tweede helft kwam Berchem Sport goed terug. De wedstrijd eindigde uiteindelijk op 2-2. De Antwerpse politie heeft afgelopen weekend een fietsendief gearresteerd in de omgeving van het station van Berchem. De man werd meegenomen voor verhoor. Bjorn en zijn broer zitten al zeven jaar lang met de handen in het haar. Na de dood van hun moeder in 2017 moesten ze plots 92.000 euro aan erfbelastingen betalen. Geld dat ze niet hebben tenzij ze … Een rijkgevuld programma in elke reeks is bijna altijd een zekerheid voor veel doelpunten. Hieronder vind je een overzicht van de uitslagen en doelpuntenmakers van alle Antwerpse ploegen die … Op bezoek bij Diegem Sport heeft een gehavend Berchem Sport een gevleid punt gepakt. De meeste kansen waren voor de thuisploeg, maar een sterke Gerben Van Hove stond pal. Ei zo na pakte Berchem … Berchem Sport B is bezig met een goede reeks. De wedstrijd tegen Aartselaar resulteerde in Berchem Sport B:s tiende ongeslagen wedstrijd na elkaar en eindigde uiteindelijk op 2-1. Aartselaar moest … Op de statige Cogels-Osylei in Berchem wordt geëxperimenteerd met een ‘originele fietsenstalling’.  De jeugdkamer van het hof van beroep in Gent heeft woensdag twee minderjarigen uit Aalst uit handen gegeven. De twee worden verdacht van betrokkenheid bij de moord op Steven B. (16) uit Borgerhout, … De 85-jarige André Joos en de 60-jarige Dave Witteboon zijn terug van de European Masters zwemkampioenschappen in Madeira. Beide Antwerpse waterratten hadden zich een medaille in hun … \n",
      "        Overlijdens in Berchem.\n",
      "    \n",
      "\n",
      "\n",
      "URL: https://www.nieuwsblad.be/cnt/dmf20231117_94968675\n",
      "Article:\n",
      "Wie in het station van Wetteren toekomt en zich nog verder moet verplaatsen, kan voortaan een blauwe deelfiets van Blue-Bike gebruiken. Sinds kort staan er acht deelfietsen aan fietsparking 3, die uitgeeft op het Stationsplein. “We zijn een succesverhaal”, klinkt het. “Binnen de vijf minuten kunt u ermee fietsen, zelfs als u nog geen lid bent”, maken Marnix Verhaert en Stefaan Butaye zich sterk. Via de app kunt u zich aanmelden, het nummer van de huurfiets ingeven en via Bluetooth wordt het fietsslot ontgrendeld. De betaling gebeurt achteraf. Leden betalen 12 euro per jaar plus 2,5 euro per 24 uur. “We zijn een succesverhaal. Elke maand breken we records.” Normaal gezien is dat 3,50 euro, maar de gemeente past een euro bij. “Dit zal een extra boost geven aan ons station”, zegt mobiliteitsschepen Robbe De Wilde (Groen&Co). “De fietsen zijn ideaal voor bezoekers, bedrijven en ook toeristen. Ik gebruik ze zelf al meer dan tien jaar.” Wetteren wordt de 124ste locatie in ons land. “Wetteren is er inderdaad wat laat mee, het werd tijd”, zegt de schepen. “We overwegen om de fietsen ook te plaatsen aan de Warandeparking en aan de toekomstige Tragelparking, aan de fietsbrug in Overschelde. Hopelijk helpen de Blue-Bikes om het aantal autoverplaatsingen naar Wetteren te verminderen.” Bovenop jouw abonnement op het Nieuwsblad heb je gratis toegang tot alle plusartikels op de sites en apps van 4 andere topkranten. +PLUS is inbegrepen in alle abonnementsformules, uitgezonderd basic. Als abonnee lees je ook alle  plusartikels. Je hoeft je alleen aan te melden zodat we je herkennen als abonnee. Terwijl je dit leest, zijn onze journalisten druk in de weer om jou het snelste nieuws, de meest aangrijpende verhalen en het beste regio- en sportnieuws te brengen. Terwijl je dit leest, zijn onze journalisten druk in de weer om jou het snelste nieuws, de meest aangrijpende verhalen en het beste regio- en sportnieuws te brengen. Terwijl je dit leest, zijn onze journalisten druk in de weer om jou het snelste nieuws, de meest aangrijpende verhalen en het beste regio- en sportnieuws te brengen. Terwijl je dit leest, zijn onze journalisten druk in de weer om jou het snelste nieuws, de meest aangrijpende verhalen en het beste regio- en sportnieuws te brengen. Wist je dat je ook zonder abonnement elke maand 1 betalend   plusartikel kunt lezen? Wist je dat je ook zonder abonnement elke maand 1 betalend   plusartikel kunt lezen? KFC Edeboys B won zondag van Eendracht Zele. KFC Edeboys B won het duel met 5-1. Eendracht Zele eindigde de wedstrijd met 10 spelers nadat één speler van het team van het veld werd gestuurd. Vanaf vrijdag is er weer tweerichtingsverkeer mogelijk op de Zuidlaan in Wetteren, tussen de Massemsesteenweg en Acaciastraat. Ook de nieuwe rotonde is zo goed als klaar. “Goed voor de doorstroming … Na drie nederlagen op rij liet KVK Ninove eindelijk weer een duidelijke winst (3-0) optekenen tegen een zwak RFC Wetteren, dat dieper wegzakt in de kelderverdieping. De Wetterse leeuwen – die naam … Hieronder vindt u alle uitslagen en alle doelpuntenmakers van alle vrijdag-, en zaterdag- en zondagmatchen in het Oost-Vlaamse voetbal. KVK Ninove won zaterdag de thuiswedstrijd tegen RFC Wetteren met 3-0. Eendracht Massemen B won de uitwedstrijd tegen PD Kruibeke zaterdag met 0-1. Het enige doelpunt van de wedstrijd werd in de tweede helft gemaakt door D'Hoker. KVVE Massemen behaalde een overwinning in het duel met VW Gijzel-Oosterzele. Het team won zaterdag met 3-2. Voorzitter Peter Van Hoecke nam een drastische beslissing bij FC Edeboys. De 55-jarige voorzitter hanteert al achttien jaar de presidentshamer bij de zestig jaar oude club, maar kiest nu voor een … Opvangcentrum SOS Reptiel in Ichtegem is een nieuwe bewoner en een straf verhaal rijker. Ze vangen er nu een Italiaanse muurhagedis op… die bij een vrouw uit Wetteren uit een pak broccoli kwam … Een 40-jarige fietser is donderdagvoormiddag aangetroffen in een gracht in de Kleine Smetledestraat in Wetteren. De man vertoonde onderkoelingsverschijnselen en werd voor verzorging overgebracht … \n",
      "        Overlijdens in Wetteren.\n",
      "    \n",
      "\n",
      "\n",
      "URL: https://www.parool.nl/amsterdam/een-fiets-parkeren-is-geen-sinecure-laat-staan-op-het-scheldeplein-waar-deelfietsen-exclusiviteit-genieten~bf75e5aa/\n",
      "Article:\n",
      "Een doodlopend fietspad, trappen met ‘luie’ treden of een bankje met de rug naar het plein. Het Parool brengt zulke miskleunen samen in het dossier Kan dat niet anders? Deze week: uitpuilende fietsnietjes op het Scheldeplein.\n",
      "   \n",
      "      Dikke kans dat uw bloeddruk fors oploopt als u weer een fiets moet stallen.\n",
      "     \n",
      "      De bingokaart van deze typisch Amsterdamse ergernis: een trapper die achter een fietstas van een andere fiets blijft haken. Een stuur dat verstrikt raakt in de remkabels van een andere fiets. Een fiets die zich niet in een fietsenrek laat duwen omdat er een blokkade is door ofwel een kratje boven het voorwiel van de buurman, ofwel een kinderzitje aan het stuur. Of een combinatie van die dingen.\n",
      "     \n",
      "      Maar er is meer: fietsalarmsystemen die op de zenuwen werken, fietsnietjes die net onbereikbaar zijn voor het kettingslot. Amper bij het fietsslot kunnen en dan je sleuteltje laten vallen in een woud aan fietsbanden, om vervolgens hurkend en met een lang uitgestrekte arm, graaiend over de grond, op zoek te moeten naar het kleinood.\n",
      "     \n",
      "      Een fiets parkeren op de daarvoor aangewezen plek, kortom, is geen sinecure.\n",
      "     \n",
      "      De bezoekers van de Albert Heijn en bowlingcentrum Knijn aan het Scheldeplein hebben al het bovenstaande én een bonus. Want behalve heel veel ‘normale’ fietsen tussen de nietjes, staan er nu ook deelfietsen van Donkey Republic bij, een stevig modelletje nota bene met kratjeshouder en extra brede sturen.\n",
      "     \n",
      "      Buurtbewoner ​​Marcel Gerritsen verbaast zich hierover. Op een tegel staat de tekst: ‘Alleen parkeren voor deelfietsen.’ Een gele streep markeert een meterslang gebied. Gerritsen vraagt zich af: wat is überhaupt de rechtskracht van die gele tegelrand en die exclusiviteitsclaim? En wie heeft hiervoor toestemming gegeven? En wat is überhaupt het nut?\n",
      "     \n",
      "      “Er wordt natuurlijk niet naar het gebod geluisterd. De Amsterdamse fietser zet de fiets gewoon waar ruimte is en laat zich echt niet weerhouden door een claim van een commercieel bedrijf,” zegt Gerritsen. “Sterker nog: hij duwt, misschien uit irritatie, zo nodig de deelfiets aan de kant om voor zichzelf ruimte te maken.”\n",
      "     \n",
      "      En zo geschiedde.\n",
      "     \n",
      "      De gemarkeerde parkeerplek voor deelfietsen is onderdeel van een pilot die de gemeente op dit moment uitvoert, laat een woordvoerder van stadsdeel Zuid weten.\n",
      "     \n",
      "      De gemeente wil onderzoeken in hoeverre deelfietsen van toegevoegde waarde zijn voor de stad. Maar ook: hoe kunnen die deelfietsen het beste in de openbare ruimte worden aangeboden? “Het doel is daarbij om gebruikers van deelfietsen te stimuleren hun deelfietsen netjes achter te laten, om overlast tegen te gaan.”\n",
      "     \n",
      "      Om dat te onderzoeken, werkt de gemeente met verschillende soorten fietsparkeerplekken: digitale plekken zonder fysieke aanduiding, maar ook fysiek herkenbare fietsparkeerplekken, zoals die op het Scheldeplein. “Deze laatste zijn te herkennen aan de gele streep en de speciale tegel. Dit is een communicatie-uiting en heeft geen juridische status,” licht de woordvoerder toe. Wie klachten heeft over de deelfietsen, kan een mail sturen naar deelmobiliteit@amsterdam.nl.\n",
      "     \n",
      "      De pilot loopt tot de zomer 2024.\n",
      "     \n",
      "      Een doodlopend fietspad, trappen met ‘luie’ treden of een bankje met de rug naar het plein. Het Parool brengt zulke miskleunen samen in het dossier Kan dat niet anders?\n",
      " \n",
      "      Heeft u een voorbeeld van een miskleun of ondoorgrondelijke ingreep in de stad? Mail het onderwerp naar anders@parool.nl.\n",
      "       U bent niet ingelogd Tip hier onze journalisten  Op alle verhalen van Het Parool rust uiteraard copyright. Wil je tekst overnemen of een video(fragment), foto of illustratie gebruiken, mail dan naar copyright@parool .nl.  © 2023 DPG Media B.V. - alle rechten voorbehouden \n",
      "\n",
      "\n",
      "URL: https://www.nieuwsblad.be/cnt/dmf20231111_94437308\n",
      "Article:\n",
      "De elektrische deelfietsen van Donkey Republic die ondertussen meer dan een jaar in het straatbeeld van de Vervoerregio Antwerpen staan, slaan aan in Mortsel. Het stadsbestuur gaat het aantal dropzones optrekken van tien naar negentien. Na een eerste evaluatie van het gebruik van de oranje fietsen spreekt schepen voor Mobiliteit Steve D’Hulster (Vooruit - I love Mortsel) van een succes. “Sinds oktober vorig jaar worden de fietsen gebruikt en de ontleningen gaan gestaag de hoogte in. In september hadden we tegen de achthonderd ontleningen”, geeft hij aan. Zeker sinds het voorjaar ging het gebruik de hoogte in. “We willen de fietsen dichter bij meer inwoners brengen, daarom gaat het aantal dropzones de hoogte in. We blijven wel met evenveel fietsen werken door ze gelijkmatiger te verdelen. We willen dat er voor iedere Mortselaar een deelfiets op wandelafstand staat.” Negentien dropzones Het aantal locaties stijgt van tien naar negentien. De fietsen blijven staan aan Oude God,  station Liersesteenweg, Luithagen-Vredebaan, het station Deurnestraat, Gemeenteplein, Jozef Hermanslei, Kerkstraat aan de parking Lepelstraat en aan Vijf-aprilwarande.  De hub aan de Heilig-Kruisstraat verhuist naar ’t Parkske aan de Edegemsestraat en die van Meidoorn gaat naar een andere locatie in de wijk. Daarnaast zullen de fietsen gaan opduiken aan de Vismarkt of aan het einde van de Christus Koninglaan, Lieven Gevaertstraat, Guido Gezellelaan, Edmond Thieffrylaan, Elf-Julistraat, Van Peborghlei en Kaphaanlei. Aan het Fort 4 zal er enkel een dropzone zijn tijdens de zomer- en winterbar. Bovenop jouw abonnement op het Nieuwsblad heb je gratis toegang tot alle plusartikels op de sites en apps van 4 andere topkranten. +PLUS is inbegrepen in alle abonnementsformules, uitgezonderd basic. Als abonnee lees je ook alle  plusartikels. Je hoeft je alleen aan te melden zodat we je herkennen als abonnee. Terwijl je dit leest, zijn onze journalisten druk in de weer om jou het snelste nieuws, de meest aangrijpende verhalen en het beste regio- en sportnieuws te brengen. Terwijl je dit leest, zijn onze journalisten druk in de weer om jou het snelste nieuws, de meest aangrijpende verhalen en het beste regio- en sportnieuws te brengen. Terwijl je dit leest, zijn onze journalisten druk in de weer om jou het snelste nieuws, de meest aangrijpende verhalen en het beste regio- en sportnieuws te brengen. Terwijl je dit leest, zijn onze journalisten druk in de weer om jou het snelste nieuws, de meest aangrijpende verhalen en het beste regio- en sportnieuws te brengen. Wist je dat je ook zonder abonnement elke maand 1 betalend   plusartikel kunt lezen? Wist je dat je ook zonder abonnement elke maand 1 betalend   plusartikel kunt lezen? Een 49-jarige vrouw uit Kontich is maandag veroordeeld tot zes jaar cel omdat ze haar dochters liet misbruiken door haar nieuwe partner. Die man stapte jaren geleden al uit het leven, waardoor … Een rijkgevuld programma in elke reeks is bijna altijd een zekerheid voor veel doelpunten. Hieronder vind je een overzicht van de uitslagen en doelpuntenmakers van alle Antwerpse ploegen die … It’s beginning to look a lot like Christmas in Mortsel-city. Het hele weekend lang is het Stadsplein het decor voor kraampjes, kerstmuziek en uitgeregende maar vrolijke mensen. “Goed of slecht … De verdediging van Mortsel OG weet al vier wedstrijden na elkaar de nul te houden. De thuiswedstrijd tegen Zwijndrecht was geen uitzondering en eindigde op 2-0. Zwijndrecht eindigde de wedstrijd … Op verzoek van het parket van Antwerpen heeft de politie een opsporingsbericht verspreid voor de vermiste Irène Ruttens (78) uit Mortsel. Ze verplaatst zich met een grijze Renault Mégane met … De wedstrijd van vrijdag tussen TOR Deurne Pirates en Mortsel OG eindige op 0-7. Dit betekent dat Mortsel OG al tien wedstrijden ongeslagen is. Antwerpen en Mortsel hebben donderdag een ‘Elke buurt deelt’-award gekregen. Dat is omdat beide steden minstens twee deelwagens per duizend inwoners aanbieden. En daarmee wordt de Vlaamse … Twee weken lang lieten we onze lezers stemmen op hun favoriete frituur. Twee weken lang voerden heel wat frituren gepassioneerd actie om hun stem binnen te halen. De strijd is gestreden en de … \n",
      "        Overlijdens in Mortsel.\n",
      "     Er zijn recent geen nieuwe overlijdens toegevoegd. Staat uw dierbare niet op inmemoriam.be of zoekt u extra informatie?\n",
      "\n",
      "\n",
      "URL: https://www.nieuwsblad.be/cnt/dmf20231116_93668656\n",
      "Article:\n",
      "Binnen het CIVISANO-project liet lokaal bestuur Duffel onderzoeken hoe de gemeente gezonder kan worden voor haar inwoners. Op het slotmoment werden de onderzoeksresultaten meegedeeld en wisselden enkele Duffelaars de eerste initiatieven uit. In samenwerking met Sciensano, De Universiteit Gent en de Vrije Universiteit Brussel organiseerde het lokaal bestuur een onderzoek in de gemeente. Yasemin Inaç en Suzannah D’Hooghe onderzochten hoe de buurt waarin je woont een invloed heeft op je voeding en beweging. Op woensdag 15 november stelden ze in de openbare bibliotheek  die onderzoeksresultaten voor tijdens de slotavond van het project. “In 2021 is onze gemeente in het CIVISANO-project gestapt”, legt schepen van Welzijn en Gelijke kansen Lili Stevens (CD&V) uit. “Sindsdien hebben de onderzoekers verschillende methoden gebruikt zoals wandelinterviews, vragenlijsten en groepsdiscussies om antwoorden te verzamelen. Yasemin en Suzannah zijn vertrokken vanuit de mensen zelf en dat is heel belangrijk.” De onderzoeksresultaten tonen aan dat er verbetering mogelijk is binnen de gemeente. Zo blijkt   bijvoorbeeld dat het openbaar vervoer een pijnpunt is. Er zouden onvoldoende bussen door het centrum rijden en er bestaan weinig alternatieven zoals een deelfiets. Daarnaast wordt ook aangehaald dat er al veel initiatieven om een gezonder Duffel te creëren bestaan, maar dat die de bedoelde doelgroep niet bereiken. “We willen  samen met Duffelaars zoeken naar acties die kunnen bijdragen aan een gezonde(re) levensstijl”, voegt Lili Stevens toe. Via het uitwisselingsmoment op de slotavond konden inwoners alvast met elkaar in gesprek gaan. Zo werden er al verschillende initiatieven aangehaald als een Klankbordgroep vanuit het lokaal bestuur waarbij er bij het organiseren van activiteiten gekeken wordt naar de noden van de deelnemers. “Het project is bedoeld om dialoog tussen inwoners en de gemeente te creëren en te stimuleren, als ik kijk naar vanavond is dat voorlopig goed gelukt”, besluit onderzoeker Suzannah.  Via de website van het gemeentebestuur kan je het volledige rapport raadplegen. Op het slotmoment konden aanwezigen nog ideeën voor initiatieven achterlaten. — © Ilke Tobback Bovenop jouw abonnement op het Nieuwsblad heb je gratis toegang tot alle plusartikels op de sites en apps van 4 andere topkranten. +PLUS is inbegrepen in alle abonnementsformules, uitgezonderd basic. Als abonnee lees je ook alle  plusartikels. Je hoeft je alleen aan te melden zodat we je herkennen als abonnee. Terwijl je dit leest, zijn onze journalisten druk in de weer om jou het snelste nieuws, de meest aangrijpende verhalen en het beste regio- en sportnieuws te brengen. Terwijl je dit leest, zijn onze journalisten druk in de weer om jou het snelste nieuws, de meest aangrijpende verhalen en het beste regio- en sportnieuws te brengen. Terwijl je dit leest, zijn onze journalisten druk in de weer om jou het snelste nieuws, de meest aangrijpende verhalen en het beste regio- en sportnieuws te brengen. Terwijl je dit leest, zijn onze journalisten druk in de weer om jou het snelste nieuws, de meest aangrijpende verhalen en het beste regio- en sportnieuws te brengen. Wist je dat je ook zonder abonnement elke maand 1 betalend   plusartikel kunt lezen? Wist je dat je ook zonder abonnement elke maand 1 betalend   plusartikel kunt lezen? SC Duffel won de thuiswedstrijd tegen Putte zondag met 1-0. Het enige doelpunt van het duel werd in de tweede helft gemaakt door Mennes. Elzestraat won zondag het thuisduel met SC Duffel. De wedstrijd eindigde op 5-2. Rijmenam won de thuiswedstrijd tegen SC Duffel B zondag met 1-0. Het enige doelpunt van de wedstrijd werd in de tweede helft gemaakt door Gordts. Een rijkgevuld programma in elke reeks is bijna altijd een zekerheid voor veel doelpunten. Hieronder vind je een overzicht van de uitslagen en doelpuntenmakers van alle Antwerpse ploegen die … VV Duffel won zaterdag de uitwedstrijd tegen Kontich B met 2-4. Sint-Amands heeft opnieuw een overwinning geboekt. Het versloeg VV Duffel met 9-0. Voor Sint-Amands is het de vijfde zege op rij, terwijl VV Duffel al vijf keer heeft verloren. 45 jaar lang baatten Julien Vervecken (66) en Sally Robert (63) Bakker Vero uit in de Leopoldstraat in Duffel. Door omstandigheden besluit het koppel er eind december mee te stoppen. “Het is tijd … Onder de titel Miauw, ik hou van jou verschijnt in deze eindejaarsperiode een nieuw boek van de hand van Rit Dierckx (75). De voormalige kleuterjuf stond naast voor het verhaal, ook zelf in voor de … \n",
      "        Overlijdens in Duffel.\n",
      "    \n",
      "\n",
      "\n",
      "URL: https://www.nieuwsblad.be/cnt/dmf20231114_94902357\n",
      "Article:\n",
      "De Lijn zet begin volgend jaar de grootste stap in de uitrol van haar nieuw vervoersplan. Er verdwijnen niet alleen een heleboel haltes, een kwart van de resterende haltes zal ook niet langer regelmatig worden bediend. De tweede fase van het vernieuwingsplan van openbaarvervoermaatschappij De Lijn, dat moet leiden tot de zogenaamde ‘basisbereikbaarheid’, gaat in op 6 januari. In één klap worden dan 3.247 bestaande bushaltes geschrapt. Het netwerk van de openbaarvervoermaatschappij zal dan nog zowat 16.400 haltes bedienen, in plaats van de ruim 20.000 haltes voor de start van de vernieuwingsoperatie afgelopen zomer – ruwweg 1 op 6 haltes zal dus verdwijnen. Aan een kwart van die resterende haltes zal ook alleen nog op aanvraag een bus halt houden om reizigers op te pikken. LEES OOK. Het gaat al tien jaar in dalende lijn: “De Lijn kan het niet, zeggen politici graag. Maar met zo weinig geld kan niemand het” “We gaan veel meer de vraag van de reiziger volgen, en onze middelen efficiënt inzetten waar ze nodig zijn”, zei Ann Schoubs, directeur-generaal van De Lijn, dinsdag op een persconferentie. Schoubs maakte zich sterk dat het “merendeel” van de geschrapte haltes verdwijnt als gevolg van het rechttrekken van buslijnen tussen woonkernen. Het zou gaan om haltes waar sowieso weinig passagiers op- of afstapten. Onder het mom van basisbereikbaarheid is De Lijn al een tijd bezig om haar vervoersnetwerk strak te trekken. Geen bussen meer die met slechts een handvol passagiers van woonwijk naar woonwijk meanderen. In de plaats daarvan moet een kernnet vlotte verbindingen garanderen tussen grotere woonkernen en handelscentra, ondersteund door een aanvullend net met bussen die tussen kleinere steden en gemeenten rijden. Tenslotte wordt het ‘flexnet’ uitgerold, met haltes die alleen op aanvraag worden bediend. Reizigers kunnen die bussen of taxi’s van onderaannemers van De Lijn vanaf dertig dagen tot dertig minuten op voorhand boeken. Passagiers moeten op heel wat plekken ook vlot kunnen overstappen op andere vervoersmiddelen, zoals een deelfiets. Dat kan dan weer op zogenaamde Hoppin-punten, overstapplaatsen met herkenbare zuilen en daarrond allerhande (deel)vervoersmiddelen. Met deze grote operatie moet vanaf januari 89 procent van het nieuwe net ingevoerd zijn. Dat maakt deel uit van de nieuwe beheersovereenkomst van De Lijn. Op de invoering van de eerste fase, afgelopen zomer, volgde meteen kritiek. Sommige reizigers stelden vast dat ze plots heel ver moesten stappen om nog een bus te kunnen nemen, omdat hun vertrouwde bushalte was geschrapt. Anderzijds gaven zij wel aan dat bepaalde grote lijnen in steden waren versterkt, en tot veel later bleven rijden. Ook de uitrol van de Hoppin-punten gaat minder vlot dan verwacht. In juli bleek dat nog geen vijfde van die voorgenomen mobiliteitspunten was gerealiseerd of op de planning stond. Vlaams minister van Mobiliteit Lydia Peeters (Open VLD) moest toen toegeven dat de uitrol “minder vlot ging dan verhoopt”, als gevolg van het nodige studie- en vergunningswerk, net als vertragingen met de levering van bouw­materialen. Ook binnen De Lijn zelf doen de verplichte hervormingen de gemoederen soms hoog oplopen. De vervoermaatschappij krijgt namelijk geen extra geld van de Vlaamse regering om die in te voeren. Topvrouw Ann Schoubs haalde onder meer om die reden vorige maand nog fors uit naar de politiek, die ze verweet “een verrottingsstrategie” te hanteren. Minister Peeters reageerde daarop dat zij “moest stoppen met zagen en klagen”.  LEES OOK. Topvrouw De Lijn haalt uit naar de politiek: “Minstens twee legislaturen aan verrottingsstrategie” In vooral West-Vlaanderen is het busverkeer al dagenlang verstoord door een actie van de vakbonden, die protesteren tegen de verhuisplannen voor enkele stelplaatsen. Afgelopen zomer kondigde De Lijn dan weer aan dat het als gevolg van personeelsgebrek en aftands rollend materieel verspreid over heel Vlaanderen enkele honderden ritten per dag “tijdelijk, maar toch structureel” moest schrappen. Bovenop jouw abonnement op het Nieuwsblad heb je gratis toegang tot alle plusartikels op de sites en apps van 4 andere topkranten. +PLUS is inbegrepen in alle abonnementsformules, uitgezonderd basic. Als abonnee lees je ook alle  plusartikels. Je hoeft je alleen aan te melden zodat we je herkennen als abonnee. Terwijl je dit leest, zijn onze journalisten druk in de weer om jou het snelste nieuws, de meest aangrijpende verhalen en het beste regio- en sportnieuws te brengen. Terwijl je dit leest, zijn onze journalisten druk in de weer om jou het snelste nieuws, de meest aangrijpende verhalen en het beste regio- en sportnieuws te brengen. Terwijl je dit leest, zijn onze journalisten druk in de weer om jou het snelste nieuws, de meest aangrijpende verhalen en het beste regio- en sportnieuws te brengen. Terwijl je dit leest, zijn onze journalisten druk in de weer om jou het snelste nieuws, de meest aangrijpende verhalen en het beste regio- en sportnieuws te brengen. Wist je dat je ook zonder abonnement elke maand 1 betalend   plusartikel kunt lezen? Wist je dat je ook zonder abonnement elke maand 1 betalend   plusartikel kunt lezen?\n",
      "\n",
      "\n",
      "URL: https://www.gva.be/cnt/dmf20231114_96145482\n",
      "Article:\n",
      "De Lijn zet begin volgend jaar de grootste stap in de uitrol van haar nieuw vervoersplan. Er verdwijnen niet alleen een heleboel haltes, een kwart van de resterende haltes zal ook niet langer regelmatig worden bediend. De tweede fase van het vernieuwingsplan van openbaarvervoermaatschappij De Lijn, dat moet leiden tot de zogenaamde ‘basisbereikbaarheid’, gaat in op 6 januari. In één klap worden dan 3.247 bestaande bushaltes geschrapt. Het netwerk van de openbaarvervoermaatschappij zal dan nog zowat 16.400 haltes bedienen, in plaats van de ruim 20.000 haltes voor de start van de vernieuwingsoperatie afgelopen zomer – ruwweg 1 op 6 haltes zal dus verdwijnen. Aan een kwart van die resterende haltes zal ook alleen nog op aanvraag een bus halt houden om reizigers op te pikken. LEES OOK. “Al tien jaar te weinig gebeurd”: Vias-topvrouw over nood aan streng plan voor veiliger verkeer “We gaan veel meer de vraag van de reiziger volgen, en onze middelen efficiënt inzetten waar ze nodig zijn”, zei Ann Schoubs, directeur-generaal van De Lijn, dinsdag op een persconferentie. Schoubs maakte zich sterk dat het “merendeel” van de geschrapte haltes verdwijnt als gevolg van het rechttrekken van buslijnen tussen woonkernen. Het zou gaan om haltes waar sowieso weinig passagiers op- of afstapten. Onder het mom van basisbereikbaarheid is De Lijn al een tijd bezig om haar vervoersnetwerk strak te trekken. Geen bussen meer die met slechts een handvol passagiers van woonwijk naar woonwijk meanderen. In de plaats daarvan moet een kernnet vlotte verbindingen garanderen tussen grotere woonkernen en handelscentra, ondersteund door een aanvullend net met bussen die tussen kleinere steden en gemeenten rijden. Tenslotte wordt het ‘flexnet’ uitgerold, met haltes die alleen op aanvraag worden bediend. Reizigers kunnen die bussen of taxi’s van onderaannemers van De Lijn vanaf dertig dagen tot dertig minuten op voorhand boeken. Passagiers moeten op heel wat plekken ook vlot kunnen overstappen op andere vervoersmiddelen, zoals een deelfiets. Dat kan dan weer op zogenaamde Hoppin-punten, overstapplaatsen met herkenbare zuilen en daarrond allerhande (deel)vervoersmiddelen. Met deze grote operatie moet vanaf januari 89 procent van het nieuwe net ingevoerd zijn. Dat maakt deel uit van de nieuwe beheersovereenkomst van De Lijn. Op de invoering van de eerste fase, afgelopen zomer, volgde meteen kritiek. Sommige reizigers stelden vast dat ze plots heel ver moesten stappen om nog een bus te kunnen nemen, omdat hun vertrouwde bushalte was geschrapt. Anderzijds gaven zij wel aan dat bepaalde grote lijnen in steden waren versterkt, en tot veel later bleven rijden. Ook de uitrol van de Hoppin-punten gaat minder vlot dan verwacht. In juli bleek dat nog geen vijfde van die voorgenomen mobiliteitspunten was gerealiseerd of op de planning stond. Vlaams minister van Mobiliteit Lydia Peeters (Open VLD) moest toen toegeven dat de uitrol “minder vlot ging dan verhoopt”, als gevolg van het nodige studie- en vergunningswerk, net als vertragingen met de levering van bouw­materialen. Ook binnen De Lijn zelf doen de verplichte hervormingen de gemoederen soms hoog oplopen. De vervoermaatschappij krijgt namelijk geen extra geld van de Vlaamse regering om die in te voeren. Topvrouw Ann Schoubs haalde onder meer om die reden vorige maand nog fors uit naar de politiek, die ze verweet “een verrottingsstrategie” te hanteren. Minister Peeters reageerde daarop dat zij “moest stoppen met zagen en klagen”.  LEES OOK. Woede door stakingen bij De Lijn én NMBS: “Kan iemand ons uitleggen wat de reizigers eraan kunnen doen?” In vooral West-Vlaanderen is het busverkeer al dagenlang verstoord door een actie van de vakbonden, die protesteren tegen de verhuisplannen voor enkele stelplaatsen. Afgelopen zomer kondigde De Lijn dan weer aan dat het als gevolg van personeelsgebrek en aftands rollend materieel verspreid over heel Vlaanderen enkele honderden ritten per dag “tijdelijk, maar toch structureel” moest schrappen. Bovenop jouw abonnement op Gazet van Antwerpen heb je gratis toegang tot alle plusartikels op de sites en apps van 4 andere topkranten. +PLUS is inbegrepen in alle abonnementsformules, uitgezonderd basic. Als abonnee lees je ook alle  plusartikels. Je hoeft je alleen aan te melden zodat we je herkennen als abonnee. Terwijl je dit leest, gaan onze journalisten verder voor het nieuws van dichtbij. Ze graven dieper in de actualiteit uit jouw buurt én tonen de impact van wereldgebeurtenissen op jouw leven. Terwijl je dit leest, gaan onze journalisten verder voor het nieuws van dichtbij. Ze graven dieper in de actualiteit uit jouw buurt én tonen de impact van wereldgebeurtenissen op jouw leven. Terwijl je dit leest, gaan onze journalisten verder voor het nieuws van dichtbij. Ze graven dieper in de actualiteit uit jouw buurt én tonen de impact van wereldgebeurtenissen op jouw leven. Terwijl je dit leest, gaan onze journalisten verder voor het nieuws van dichtbij. Ze graven dieper in de actualiteit uit jouw buurt én tonen de impact van wereldgebeurtenissen op jouw leven. Wist je dat je ook zonder abonnement elke maand 1 betalend   plusartikel kunt lezen? Wist je dat je ook zonder abonnement elke maand 1 betalend   plusartikel kunt lezen? Het schepencollege van Lier heeft beslist om de beeldengroep De arend en de … Het lokaal bestuur van Beerse lanceert een vastgoedplan voor de gemeentelijke gebouwen. Zo wil de … “Moet een stadsbestuur voor alles zorgen?” Schepen van Financiën Francis Stijnen (CD&V) … Tachtig jaar na het einde van de Tweede Wereldoorlog verrast Sven De Ridder Company met een wel …\n",
      "\n",
      "\n",
      "URL: https://www.standaard.be/cnt/dmf20231114_94591779\n",
      "Article:\n",
      "De Lijn zet begin volgend jaar de grootste stap in de uitrol van haar nieuw vervoersplan. Er verdwijnen een heleboel haltes, in totaal ruwweg 1 op 6. Van de resterende haltes wordt een kwart niet regelmatig bediend. De tweede fase van het vernieuwingsplan van openbaarvervoermaatschappij De Lijn, dat moet leiden tot de zogenaamde ‘basisbereikbaarheid’, gaat in op 6 januari. In één klap worden dan 3.247 bestaande bushaltes geschrapt. Het netwerk van de openbaarvervoermaatschappij zal dan nog zowat 16.400 haltes bedienen, in plaats van de ruim 20.000 haltes voor de start van de vernieuwingsoperatie afgelopen zomer – ruwweg 1 op 6 haltes zal dus verdwijnen. Aan een kwart van die resterende haltes houdt ook alleen op aanvraag een bus halt om reizigers op te pikken. ‘We gaan veel meer de vraag van de reiziger volgen, en onze middelen efficiënt inzetten waar ze nodig zijn’, zei Ann Schoubs, directeur-generaal van De Lijn, dinsdag op een persconferentie. Schoubs maakte zich sterk dat het ‘merendeel’ van de geschrapte haltes verdwijnt als gevolg van het rechttrekken van buslijnen tussen woonkernen. Het zou gaan om haltes waar sowieso weinig passagiers op- of afstapten. Onder het mom van basisbereikbaarheid is De Lijn al een tijd bezig om haar vervoersnetwerk strak te trekken. Geen bussen meer die met slechts een handvol passagiers van woonwijk naar woonwijk meanderen. In de plaats daarvan moet een kernnet vlotte verbindingen garanderen tussen grotere woonkernen en handelscentra, ondersteund door een aanvullend net met bussen die tussen kleinere steden en gemeenten rijden. Tenslotte wordt het ‘flexnet’ uitgerold, met haltes die alleen op aanvraag worden bediend. Reizigers kunnen die bussen of taxi’s van onderaannemers van De Lijn vanaf dertig dagen tot dertig minuten op voorhand boeken. Passagiers moeten op heel wat plekken ook vlot kunnen overstappen op andere vervoersmiddelen, zoals een deelfiets. Dat kan dan weer op zogenaamde Hoppin-punten, overstapplaatsen met herkenbare zuilen en daarrond allerhande (deel)vervoersmiddelen. Met deze grote operatie moet vanaf januari 89 procent van het nieuwe net ingevoerd zijn. Dat maakt deel uit van de nieuwe beheersovereenkomst van De Lijn. Op de invoering van de eerste fase, afgelopen zomer, volgde meteen kritiek. Sommige reizigers stelden vast dat ze plots heel ver moesten stappen om nog een bus te kunnen nemen, omdat hun vertrouwde bushalte was geschrapt. Anderzijds gaven zij wel aan dat bepaalde grote lijnen in steden waren versterkt, en tot veel later bleven rijden.      ‘Plots moet ik geen 300 meter, maar 1,3 kilometer stappen naar mijn bushalte’     Ook de uitrol van de Hoppin-punten gaat minder vlot dan verwacht. In juli bleek dat nog geen vijfde van die voorgenomen mobiliteitspunten was gerealiseerd of op de planning stond. Vlaams minister van Mobiliteit Lydia Peeters (Open VLD) moest toen toegeven dat de uitrol ‘minder vlot ging dan verhoopt’, als gevolg van het nodige studie- en vergunningswerk, net als vertragingen met de levering van bouw­materialen. Ook binnen De Lijn zelf doen de verplichte hervormingen de gemoederen soms hoog oplopen. De vervoermaatschappij krijgt namelijk geen extra geld van de Vlaamse regering om die in te voeren. Topvrouw Ann Schoubs haalde onder meer om die reden vorige maand nog fors uit naar de politiek, die ze verweet ‘een verrottingsstrategie’ te hanteren. Minister Peeters reageerde daarop dat zij ‘moest stoppen met zagen en klagen’.  In vooral West-Vlaanderen is het busverkeer al dagenlang verstoord door een actie van de vakbonden, die protesteren tegen de verhuisplannen voor enkele stelplaatsen. Afgelopen zomer kondigde De Lijn dan weer aan dat het als gevolg van personeelsgebrek en aftands rollend materieel verspreid over heel Vlaanderen enkele honderden ritten per dag ‘tijdelijk, doch structureel’ moest schrappen.     Topvrouw De Lijn haalt uit naar de politiek: ‘Minstens twee legislaturen aan verrottingsstrategie’     Geen abonnee? Lees 3 plus-artikels gratis\n",
      " \n",
      "\n",
      "\n",
      "\n",
      "\n",
      "\n",
      " Ontdek al uw digitale voordelen als abonnee\n",
      " \n",
      "\n",
      "\n",
      "\n",
      "\n",
      "\n",
      "\n",
      "\n",
      "\n",
      "URL: https://kw.be/nieuws/verkeer-en-mobiliteit/nieuw-busnetwerk-de-lijn-vermindert-aantal-haltes-in-kortrijk/\n",
      "Article:\n",
      "De Lijn zet vanaf 6 januari 2024 de tweede stap in de uitrol van haar nieuw vervoersplan. In totaal verdwijnen 1 op 6 haltes in gans Vlaanderen. Kortrijk is een van de eerste vervoersregio’s waar het plan volledig in voege zal zijn. Zo verdwijnt de verbinding tussen Marionetten en Rollegem, de verbindingen tussen Heule, Gullegem en Kortrijk worden samengebracht en in de achterliggende wijken wordt er geknipt in het aantal haltes. In plaats van zich te richten op een enorm aanbod aan bussen, zal het openbaar vervoer in Vlaanderen vanaf januari ‘vraaggestuurd’ zijn. “Dit betekent dat het nieuwe netwerk op verschillende locaties de routes optimaliseert: de bussen volgen niet langer een omweg door wijken waar slechts een beperkt aantal reizigers instappen, maar blijven op de hoofdwegen, waardoor ze sneller en effectiever meer reizigers kunnen bedienen,” zei Ann Schoubs, directeur-generaal van De Lijn, op een persconferentie. Vervoerregio Kortrijk is een van de eerste regio’s waar het plan volledig in werking treedt. De Lijn maakt zich sterk dat het nieuwe plan het busnetwerk in Kortrijk en deelgemeenten alleen maar zal versterken. “De bussen tussen de buurgemeenten en Kortrijk zullen bijvoorbeeld frequenter en later rijden. Zo rijden de bussen richting Heule centrum, Bissegem plaats, Kortrijk Evolis en Kuurne voortaan om het kwartier in plaats van om het half uur. En ook de bussen richting Moorsele, Harelbeke station en Zwevegem / Avelgem rijden vanaf 6 januari met een vaste cadans om het half uur. Er komt ook een nieuw avondaanbod op de assen van Kortrijk richting de buurgemeenten, op weekdagen en zondag met bediening tot 23 uur en op vrijdag en zaterdag tot middernacht”, klinkt het. Alle lijnen worden overigens opnieuw genummerd. Een stadslijn met een hoge frequentie zal een enkel cijfer als lijnnummer krijgen. Streeklijnen, waarop je de hele dag kunt rekenen, krijgen twee cijfers. Dat plan oogt mooi op papier, maar in de realiteit wordt er wel fors geknipt in het aantal haltes. Van de bijna 20.000 bushaltes die De Lijn nu in heel Vlaanderen bedient, blijven er na 6 januari nog 16.392 over. Dat is een daling met 17 procent. Bij een op de vier overblijvende stopplaatsen stoppen alleen nog flexbussen. Ook in Kortrijk worden er dus haltes geschrapt en vervangen door flexbussen. “Op specifieke momenten en locaties waar het inzetten van een reguliere bus niet efficiënt is, komt er flexvervoer vanaf 6 januari. Vanaf 6 december kan de reiziger zijn flexrit (voor een rit vanaf 6 januari) reserveren via de Hoppincentrale, zowel via de app, de website of telefonisch. Reserveren is mogelijk vanaf 30 dagen tot 30 minuten voor vertrek via de app of telefonisch. Vanaf Hoog Kortrijk en Kooigem kan je met de flexbus reizen naar Anzegem, Avelgem, Zwevegem en Spiere-Helkijn.” 96% van de Kortrijkzanen zou wel nog steeds een bushalte hebben op 750 meter wandelen van zijn of haar deur. Omdat dat nog steeds een vrij grote afstand is, wordt vanaf 6 januari ook het Hoppin-plan uitgerold. De zogenaamde Hoppin-punten, overstapplaatsen met herkenbare zuilen en daarrond allerhande (deel)vervoersmiddelen, moeten passagiers helpen hun eindbestemming makkelijk te bereiken door over te stappen op andere  vervoersmiddelen, zoals een deelfiets. (JF) Info: www.delijn.be/nl/gemeenten/. \n",
      "\n",
      "\n",
      "\n",
      "\n",
      "\n",
      "\t\n",
      "\tFout opgemerkt of meer nieuws? Meld het hier\n",
      " \n",
      "\n",
      "\n",
      "\n",
      "\n",
      "\n",
      "\t\t\t\t\t\n",
      "\t\t\t\t\tDit artikel volledig lezen duurt 2 minuten\n",
      "\t\t\t\t \n",
      "\t\t\t\t\tNieuw busnetwerk De Lijn vermindert aantal haltes in Kortrijk\n",
      "\t\t\t\t \n",
      "\n",
      "\n",
      "\n",
      "\n",
      "\n",
      "\t\t\t\t\n",
      "\t\t\t\tKies één van onze voordelige abonnementen\n",
      "\t\t\t \n",
      "\t\t\tKW digitaal\n",
      "\t\t \n",
      "\t\t\t\tToegang tot alle artikels op kw.be\n",
      "\t\t\t \n",
      "\t\t\t\tDigitale toegang tot alle edities en het archief van KW\n",
      "\t\t\t \n",
      "\t\t\t\tLees alle specials\n",
      "\t\t\t \n",
      "\t\t\t\tElke vrijdag de krant in je brievenbus\n",
      "\t\t\t\n",
      "\n",
      "\n",
      "URL: https://www.nu.nl/uit-andere-media/6289266/de-geliefde-ov-fiets-en-bike-parking-porn.html\n",
      "Article:\n",
      "Article content not found.\n",
      "\n",
      "\n",
      "URL: https://www.volkskrant.nl/volkskrant-magazine/hoe-de-nu-zo-geliefde-ov-fiets-met-veel-moeite-het-daglicht-zag-de-ns-wilde-die-hele-fiets-niet~bfe880963/\n",
      "Article:\n",
      "‘Briljant’, ‘uniek in de wereld’, ‘goud’. Tegenwoordig buitelen experts over elkaar heen om de ov-fiets de hemel in te prijzen. Maar het had niet veel gescheeld of het blauw-gele mirakel was er nooit gekomen.\n",
      "   \n",
      "      Je kunt zo’n dag uittekenen, met vertraging op het spoor, rond Nunspeet of Amersfoort. Vanwege een aanrijding tussen Sloterdijk en Schiphol, alsmede door het haperen van de spoorbrug bij Haarlem.\n",
      "     \n",
      "      Het kabinet is al gevallen, de Tweede Kamer loopt leeg, de verkiezingen zijn aanstaande. Daar is de stikstofcrisis weer, de crisis op de woningmarkt en de asielcrisis. De rente gaat omhoog, een recessie is altijd aanstaande. Wereldvrede zit er voorlopig niet in, het stoppen van de klimaatverandering ook niet; al die stormen, bosbranden en overstromingen.\n",
      "     \n",
      "      Het gaat in het jaar van de scholekster toch niet goed met de scholekster.\n",
      "     \n",
      "      Er zijn schokgolven gemeten van twee zwarte gaten die ver in de ruimte op elkaar botsen.\n",
      "     \n",
      "      En dan steek je de straat over, mediamentaal beladen, van Amsterdam Centraal naar het onderaardse fietsparadijs, de nieuwe stalling – door de Amerikaanse financiële nieuwsdienst Bloomberg ‘bike parking porn’ genoemd.\n",
      "     \n",
      "      De trappen naar beneden, en daar staat dan het blauw-gele wonder: de ov-fiets, in heel zijn niet-hippe hoedanigheid, alleen voor jou.Voor 4,45 euro, voor 24 uur.Goedkoper dan een latte bij de Starbucks.Pak, scan, klik, scan, klik, en vooruit!\n",
      "     \n",
      "Die ov-fiets staat niet alleen daar, er zijn er honderden – in Amsterdam in totaal drieduizend – knus tegen elkaar geplakt, klaar om opgepakt te worden en zich te verspreiden over de stad, als boodschappers van het goede nieuws.\n",
      "     \n",
      "      Niet alleen in Amsterdam, maar ook in Rotterdam, Den Haag en Utrecht, Eindhoven, Maastricht en Driebergen en Winsum en Wolfheze, optellend tot driehonderd plekken in Nederland, 22 duizend fietsen klaar voor gebruik. Meer dan ooit klimmen standvastige vaderlanders op de ov-fiets, zes miljoen ritten per jaar worden er gemaakt.\n",
      "     \n",
      "Hoera! \n",
      " \n",
      "      De glorie van dit verschijnsel is ook uitgebreid vastgesteld in wetenschappelijke kringen. Ruth Oldenziel en Jan Ploeger, verbonden aan de Technische Universiteit Eindhoven, juichen erop los in hun publicatie, The sociotechnical roots of smart mobility: Bike sharing since 1965. Zij noemen de ov-fiets ‘briljant’ en ‘uniek in de wereld’. Geen van de (inter)nationale deelfietsen, zoals Ofo, Obike, Mobike, Flickbike, Hello-bike, Urbee, Donkey Republic, Hopperpoint en noem ze maar op, slaat zo massaal aan als de ov-fiets.\n",
      "     \n",
      "      Marco te Brömmelstroet, hoogleraar stedelijke mobiliteit aan de Universiteit van Amsterdam, bijgenaamd ‘de fietsprofessor’, zegt dat we ‘goud in handen hebben’. ‘Het is geen trein, het is geen fiets, het is een trein-fietssysteem.’\n",
      "     \n",
      "      De Canadese publicist Chris Bruntlett, auteur van Building the Cycling City. The Dutch Blueprint for Urban Vitality, is een gepassioneerd pleitbezorger van de ov-fiets. Hij noemt het ‘een perfect huwelijk tussen trein en fiets’.\n",
      "     \n",
      "      Om het wonderbaarlijke succes van de ov-fiets te reconstrueren, is het van belang een reddingsvest dichtbij te houden – dat dan weer wel. Het adagium ‘Keep it simple’ dat de chef ov-fiets van de Nederlandse Spoorwegen (NS), Marise Bezema, je voorhoudt, is zeer waar voor de fiets zelf, maar niet voor de totstandkoming. Stroperig gehannes is geen overdreven typering van de geboorte en opkomst van de ov-fiets. Fietsprofessor Marco te Brömmelstroet spreekt van ‘een moeizame ontstaansgeschiedenis’. ‘Je kunt zeker niet zeggen dat er planmatig aan is gewerkt door de overheid of de NS. Het is sluimerend gegaan, heeft tegen wil en dank vorm gekregen door de mensen die eraan werkten.’\n",
      "     \n",
      "      De lachende uitvinder van de ov-fiets, Ronald Haverman (57), wist zich jaren staande te houden in deze zompige omgeving. Goeie ideeën worden niet zomaar gerealiseerd, meent hij. ‘Weerstand hoort erbij.’\n",
      "     \n",
      "      In zijn nopjes loopt hij op een regenachtige ochtend door de fietsenstalling van Den Haag Centraal, en ziet als geestelijk vader dat het gesmeerd loopt met zijn geesteskinderen. Er wordt een ov-fiets gepakt, of ingeleverd, gescand en teruggelegd in de moederschoot, binnen tien seconden is het proces voltrokken.\n",
      "     \n",
      "      Als een toevallig aanwezige grootgebruiker hoort dat hij te maken heeft met de bedenker van de ov-fiets, schenkt hij Haverman een glimlach van oor tot oor en een ruimhartig compliment.\n",
      "     \n",
      "      Het was rond een ander station in Den Haag, Hollands Spoor, dat Haverman zijn eurekamoment kende, eind vorige eeuw. Wat hij die dag at, of toevallig de zon scheen, de grond even trilde of dat Freddie Mercury hem toezong (I want to ride my bicycle/ want to ride it where I like), dat zijn details die hij niet paraat heeft. Toen hij nog studeerde aan de Technische Universiteit in Delft liep hij al rond met het idee dat je je fiets met je vrienden zou moeten delen, met een universele sleutel.\n",
      "     \n",
      "      Gedurende de eisprong van de ov-fiets woonde hij in de buurt van Holland Spoor en werkte hij niet alleen als innovatiemanager bij Railinfrabeheer (later Prorail geheten), maar banjerde hij ook rond in een denktank met dertig mensen.\n",
      "     \n",
      "      Hoofddenktankvraag: Hoe maken we de trein concurrerend met de auto?\n",
      "     \n",
      "      Haverman zette in 1998 zijn tanden in ‘de eerste en de laatste schakel’, oftewel hoe je naar de trein gaat, wat je doet als je bent gearriveerd en wat voor rol de fiets daarin kan vervullen.\n",
      "     \n",
      "      Als stadsbewoner wist hij dat er niets vervelender is dan aankomen in een stad en geen parkeerplek kunnen vinden. Hij moest iets bedenken voor de mens in de trein die bij aankomst nog ergens naartoe moet. Naar het station fiks je wel, elke Hollander heeft een fiets, maar dat laatste stuk was het probleem, ‘het natransport’ geheten, of: ‘the last mile’. Cruciaal inzicht van Haverman: ‘Het ging niet om in de instapper, het ging om de uitstapper.’ Je kon een fiets huren, maar dat was gedoe met een te hoge borg betalen, paspoort achterlaten, contracten tekenen, en het allerbelangrijkste: het duurde te lang voor een uitstapper met haast.\n",
      "     \n",
      "      De oplossing was simpel. Je moest gewoon een fiets kunnen pakken in een cirkel rond het station, bij elk station, vlug vlug, en door. Overal een fiets. Dan heb je een gat opgevuld, en pak je de winst op de automobilist die maar geen parkeerhaven kan vinden.\n",
      "     \n",
      "      Om dit alles enige kans van slagen te geven, nam hij eerst contact op met de Fietsersbond (die hebben verstand van gebruikersvriendelijke fietsen) en vooral met Luud Schimmelpennink, verantwoordelijk voor de oerknal van het overal-een-fietsidee, het wittefietsenplan van provo, in 1965. Tijdens de eerste ontmoeting nam de ex-provo hem mee naar buiten, om te laten zien dat hij sinds de jaren zestig niet bepaald had stilgezeten. Haverman kreeg zijn nieuwste uitvinding te zien, een moderne variant op de witte fiets, Depo geheten, een deelfiets met een chipsysteem.\n",
      "     \n",
      "      ‘Nederlanders houden niet van bovenrekken’, zegt Haverman met gevoel voor onuitwisbare wijsheden, en wijst op alle lege plekken boven in de Haagse fietsenstalling. Nog een: ‘Fietsers zijn net als water, ze nemen altijd de makkelijkste weg.’ Waarmee hij bedoelt dat er dus een fiets moest komen waarbij gemak centraal stond, en zo had de Fietsersbond het hem ook verteld. Er moest een uitgeklede fiets komen zonder poespas, maar wel comfortabel, waar je te allen tijde op kon rekenen. Twee net afgestudeerde lieden van de Technische Universiteit maakten op verzoek een ontwerp voor een fiets. En er moest een soort chipkaart komen, net zoals Schimmelpennink het had bedacht bij de Depo.\n",
      "     \n",
      "      Haverman kreeg de handen op elkaar in de denktank, hij mocht door naar de volgende ronde. Bij de Tweede Kamer werd gelobbyd voor een financiële bijdrage, en die kwam er ook in 2000: 2,28 miljoen euro.\n",
      "     \n",
      "      ***\n",
      "     \n",
      "      Terwijl The Beatles in studio 1 van Abbey Road sleutelden aan het meesterwerk Sgt. Pepper’s Lonely Hearts Club Band, nam de tamelijk onbekende band Tomorrow het nummer My White Bicycle op in studio 2. Het was 1967, het jaar van de psychedelica, en zo klonken de Engelsen ook. Nog opmerkelijker dan de vreemde sound, was de tekst van My White Bicycle. Het was geïnspireerd door het deelfietsplan van Nederlandse origine, de witte fiets. Een bevriende kunstenaar was in Amsterdam geweest en vertelde erover aan de mannen van Tomorrow, en er werd een nummer geschreven.\n",
      "     \n",
      "      Op 1 juli 1967 voerde Tomorrow My White Bicycle live op in een afgeladen UFO Club in Londen. In een van de beste muziekmemoires ooit, White Bicycles van de Amerikaanse producer Joe Boyd, werd dit moment beschreven als het hoogtepunt van de sixties; daarna zou alles minder worden. Boyd hoorde Tomorrow ten overstaan van een hallucinerende menigte losgaan over een nachtelijke rit op een witte fiets, alsof het een lsd-trip betrof.\n",
      "     \n",
      "      Wind in je haar, meeuwen in de lucht, alleen maar prachtige mensen, en dan even bellen met je fietsbel – op je witte deelfiets.\n",
      "     \n",
      "Through the darkness,we still seeMy white bicycle and me\n",
      " \n",
      "      Het kost voormalig provo-opperhoofd Roel van Duijn niet veel moeite het moment terug te halen dat ingenieur Luud Schimmelpennink hem over zijn wittefietsenplan vertelde, midden jaren zestig, bij hem thuis in Amsterdam. ‘Ik vond het meteen een goed idee om de fiets te promoten in plaats van de auto’, zegt hij. ‘Het leek in die tijd wel alsof alles om de auto draaide, er waren steeds meer plannen om in grote steden alles te doen voor de auto, alsof de fiets iets was uit het verleden. Dat moest radicaal veranderen.’\n",
      "     \n",
      "      In het vlugschrift Provokatie nummer 5 barstte provo los over ‘de asfaltterreur van gemotoriseerde bourgeoisie’ en hoe ‘het klootjesvolk’ zich had overgeleverd aan ‘de auto-autoriteit’. ‘De witte fiets is het eerste, gratis, gekollektiveerde vervoermiddel.’ In provo’s optiek was een fiets eenvoudig en schoon, niet protserig of vuil. ‘Immers een fiets is iets maar bijna niets!’\n",
      "     \n",
      "      Dat de fiets wit moest zijn, was niet zomaar. Robert Jasper Grootveld, een andere prominente provo, meende dat witte magie opstond tegen zwarte magie; goed doen tegenover slecht doen. Op 28 juli 1965 werden op het Spui in Amsterdam fietsen van provo’s, zoals die van Roel van Duijn, wit geschilderd. ‘De bedoeling was dat je de fietsen overal in de stad kon pakken, en lukraak kon neerzetten. De witte fiets was van iedereen. Maar volgens de politie mocht het niet, ze werden in beslag genomen. De fietsen ontgrendeld op straat achterlaten was uitlokking van diefstal.’\n",
      "     \n",
      "      En hiermee kwam een einde aan het beroemdste plan van provo. Luud Schimmelpennink, ‘de Che Guevara van de deelfiets’ hield nooit meer op met zijn fietsenplannen. Hij presenteerde als raadslid – tevergeefs – in 1967 nog een keer zijn wittefietsenplan. Als uitvinder kwam hij ook met de witkar, een elektrisch aangedreven driewielig voertuig voor collectief gebruik, en de zelfreinigende kattenbak.\n",
      "     \n",
      "      Zijn symbool van de verbeelding werd in 1969 aangereikt aan John Lennon en Yoko Ono in kamer 902 in het Hilton-hotel in Amsterdam. Zij lagen daar zeven dagen in bed voor de wereldvrede, maar Lennon wilde voor de foto wel even op de hem geschonken witte fiets klimmen.\n",
      "     \n",
      "      Eind jaren negentig lanceerde Schimmelpennink toch weer een nieuw wittefietsenplan, de Depo. Ronald Haverman zag het gebeuren. Vijf onbemande depots met een chipsysteem met in totaal 250 fietsen in Amsterdam, geen fietsverhuur, maar van depot naar depot. Ook dit lukte niet, vooral door vandalisme. Van Duijn: ‘Al zijn niet al zijn ideeën gerealiseerd, Luud heeft een omslag in het denken in gang gezet. Zonder hem was de ov-fiets er nooit gekomen.’\n",
      "     \n",
      "      Luud Schimmelpennink is nu 88 jaar oud, en woont in een verzorgingshuis in Amsterdam. Via zijn dochter laat hij weten zich nauwelijks bewust te zijn van zijn rol in het succes van de ov-fiets. ‘Ik was de eerste die het bedacht, uiteindelijk. Maar op het moment zelf ben je je daar niet zo bewust van, dat je de eerste bent. Dat denk je vooral achteraf. Om daar nou trots op te zijn, is een beetje overdreven. Maar op zichzelf is het wel goed dat het zo werkt.’\n",
      "     \n",
      "      ***\n",
      "     \n",
      "      Je hoort het van alle kanten: de ov-fiets is de Nederlandse volksaard op twee wielen. Robuust en betrouwbaar. Niet per se smaakvol. Niet per se fijnzinnig. Waait met alle winden mee. Geen versnellingen. Dol op zijn vrijheid. Doet het goed. One-size-fits-all. Niet links of rechts. Is van collectief en persoonlijk belang. Status speelt geen rol. Heeft de identiteit van alle mensen. Blauw past goed bij geel. Uniseks uitstraling. Licht dat het doet. Harde banden. Licht trappend. Lage instap. Verstelbaar zitvlak.Je hoeft je er niet voor te schamen.Je kunt er alle kanten mee op.Je krijgt ’m mee.Je brengt ’m terug.\n",
      "     \n",
      "      We zijn anno 2023 als mensheid toegetreden tot de derde generatie, inmiddels heeft de ov-fiets het nodige gewicht verloren, minder dan 20 kilo weegt-ie, en is de waarde uitgekomen op 650 euro. De vierde generatie, met ongetwijfeld nieuwe maar nog geheime innovaties, zit eraan te komen, de aanbesteding verkeert in een lopende procedure.\n",
      "     \n",
      "      En daar is Robert Pieters, fietsenmaker at large, de man van Fietspoint. ‘De Willie Wortel onder de fietsenmakers’, wordt hij genoemd. Ooit bedenker van de kettingloze fiets, en zo meer. Pieters is de kleine man uit de IJmond die de grote merken versloeg in de omvangrijke ov-fiets-aanbesteding, tot twee keer toe. In 2008 katapulteerde hij zichzelf het ov-universum in als leverancier van de ov-fiets, en gaf grote merknamen als Sparta, Union en Gazelle het nakijken. Zesduizend ov-fietsen mocht hij in eerste instantie leveren, en ook in 2013, bij een volgende aanbesteding, kwam hij aan zet.\n",
      "     \n",
      "      Zijn grootvader zat al in 1936 in de fietsen, zijn ouders namen het over, en toen was hij aan de beurt. Eerst stond zijn zaak op het terrein van Tata Steel (toen nog Corus), en deed hij klussen voor het staalbedrijf. Daarna trok hij naar Beverwijk met zijn fietsenzaak Fietspoint, en nu heeft hij ook een zaak in Haarlem.\n",
      "     \n",
      "      Pieters is de man die de ov-wereld verbaasde met een koplamp verwerkt in het aluminium frame, en hij schonk de ov-fiets een ruime edoch stevige bagagedrager. Hij zegt dat hij met fietsen naar bed gaat, en ermee opstaat. ‘Het is topsport om een fiets nog beter te maken. Alles moet kloppen.’\n",
      "     \n",
      "      Als het ontwerp de tekentafel van Pieters verlaat, wordt in de fietshoofdstad van Sri Lanka, Panadura, de ov-fiets in elkaar gezet en gespoten. In een loods aan een doorgaande weg wordt het stuur uit Taiwan op het frame gezet, net als de banden uit Vietnam. Het zadel uit India. Spaken uit België. De lampjes uit Friesland. De kettingkast uit Gelderland. Bagagedrager uit China. De naaf uit Japan.\n",
      "     \n",
      "      Dan reist de ov-fiets per container naar Rotterdam, om uiteindelijk op een bedrijventerrein in Haarlem afgemonteerd zijn voltooiing te vinden, in een fikse loods van Pieters. ‘Elke boutje wordt vastgedraaid’, zegt hij. ‘We leveren ze rijklaar af.’\n",
      "     \n",
      "      ***\n",
      "     \n",
      "      Ergens in de nadagen van haar politieke loopbaan – PvdA-fractievoorzitter, voorzitter Tweede Kamer, gedeputeerde provincie Zuid-Holland, gemeenteraadslid Den Haag – belandde Jeltje van Nieuwenhoven vrijwillig in een wespennest. Ze was na een roerige politieke periode gevraagd om ov-ambassadeur te worden. Dat klonk als een klus in de luwte. Ze voorzag niet dat ze strijdende partijen tot elkaar moest brengen, betreffende een blauw-geel vehikel, de ov-fiets.\n",
      "     \n",
      "      Er klinkt zomaar gegrinnik aan de andere kant van de telefoon. Jeltje van Nieuwenhoven (80), de voormalige ov-ambassadeur, zegt dat er iets is wat altijd weer op haar lachspieren werkt: de Nederlandse Spoorwegen die vertellen hoe trots ze zijn op het succes van de ov-fiets. ‘De spoorwegen wilden die hele fiets niet’, zegt Van Nieuwenhoven vol overtuiging. ‘Ze hebben jaren niks gedaan, er zeker geen geld in gestoken. Het was een moeizame toestand, er werd flink gebakkeleid. Ik herinnerde me veel slaande deuren, voordat de kogel door de kerk was.’\n",
      "     \n",
      "      Even helemaal terug, terug naar de eeuwwisseling en uitvinder Ronald Haverman, en zijn eigen bedenksel in denktankverband. Hij richtte de stichting OV-fiets op, waarmee de klus moest worden geklaard, met hem als voorzitter. Prorail bleef eigenaar van de formule, en Haverman met zijn stichting regelde de exploitatie.\n",
      "     \n",
      "      Het idee was goedgekeurd, nu werd het tijd voor de uitvoering. Oké, je had dus die ov-fiets, maar waar laat je die? Die fietsenstallingen bij het station waren van particuliere bedrijven, en die hadden hun eigen huurfietsen. Hij ging toch maar buurten bij de stations Utrecht en Delft: kunnen we onze ov-fietsen hier stallen? Dan kunt u die verhuren voor een bescheiden bedrag. Op station Delft zelf werd Haverman ‘uit de winkel getrapt’, maar een ondernemer in de buurt van het station wilde er wel vijf. Die in Utrecht ook. Er kwamen steeds meer stations bij, en de fietskluis met ov-fiets deed in Hillegom als eerste zijn intrede.\n",
      "     \n",
      "      ‘Het begon hard te groeien’, zegt Haverman. En in 2003 opende Frans Weisglas, de toenmalige voorzitter van de Tweede Kamer, de twintigste ov-fietsstalling. ‘Op Hollands Spoor in Den Haag, tegenover mijn huis. Eigenlijk op de plek waar het voor mij allemaal was begonnen.’ In 2006 waren er al 101 locaties, 30 duizend abonnees en 2.500 fietsen. Weer een jaar later werd er voor het eerst een beetje winst gemaakt, en waren er weer tienduizend gebruikers bij gekomen.\n",
      "     \n",
      "      Een eerste ‘hoera!’ ontsnapte hier en daar uit de kelen, de consument omarmde de ov-fiets, zonder dat er een dubbeltje was opgegaan aan uitgekiende reclame of marketing.\n",
      "     \n",
      "      Maar ondanks het succes ontstond er politiek-bestuurlijk-economisch gedoe. Terwijl de banden van de ov-fietsen zoemden als nooit tevoren, dreigde er een spaak tussen de wielen te worden gestoken.\n",
      "     \n",
      "      De Eindhovense wetenschappers Ruth Oldenziel en Jan Ploeger hebben de weerbarstige ontstaansgeschiedenis van de ov-fiets gereconstrueerd, zoals in 2020 afgedrukt in The Journal of Transport History. In hun fietshistorisch relaas stellen zij dat het een dubbeltje op zijn kant was of de vriendelijke blauw-gele tweewieler was vermalen door de kaken van het neoliberale marktdenken. De toenmalige minister van Verkeer en Waterstaat, Karla Peijs, meende namelijk dat de ov-fiets maar door een commerciële partij moest worden overgenomen. Vervolgens liet Prorail aan de stichting OV-fiets weten de financiering stop te zetten; het project mocht dan de wind mee hebben, de exploitatie leverde toch te weinig op.\n",
      "     \n",
      "      Strik erom, de markt op. Maar daar was geen interesse, aldus de wetenschappers. Bij de Nederlandse Spoorwegen zelf moesten ze er aanvankelijk ook niets van weten. Al die jaren hadden verschillende gemeenten, provincies, goededoelenorganisaties en zelfs andere vervoerders geld gestopt in de ov-fiets, maar de NS gaf niet thuis. Commercieel directeur Bert Meerstadt, de latere president-commissaris van de NS, opende zijn armen, hij was bereid de ov-fiets over te nemen van Prorail. Hij zag het project min of meer rendabel worden.\n",
      "     \n",
      "      En toen gingen Haverman en zijn stichting dwarsliggen. De NS werd gezien als een onbetrouwbare partner. Hadden ze ook niet de treintaxi de nek omgedraaid? De vrees bestond dat de NS amper zou investeren, en de prijzen flink zou verhogen. Ook wilde de stichting OV-fiets niet dat het een NS-fiets zou worden. De fiets moest ook bij metro’s, trams of bussen beschikbaar zijn.\n",
      "     \n",
      "      Jeltje van Nieuwenhoven zat aan tafel met vertegenwoordigers van de NS, Prorail, de Fietsersbond, het ministerie van Verkeer en Waterstaat, Interprovinciaal Overleg (IPO) en de stichting OV-fiets in een vergaderkamer van de NS in Utrecht. De neuzen moesten één kant uit, maar dat wilde maar niet lukken. ‘De sfeer was, zoals je dan zegt, niet superoptimaal’, zegt Van Nieuwenhoven. ‘Ik had het idee dat de NS de fiets voor een koopje wilde overnemen, zonder dat daar iets tegenover stond. Er was het nodige wantrouwen aan tafel.’\n",
      "     \n",
      "      Haverman en zijn kornuiten wilden onder geen beding worden doorgeschoven naar de NS. Ze tekenden de door Van Nieuwenhoven opgestelde overeenkomst niet. Prorail dreigde in 2007 met een rechtszaak tegen de stichting OV-fiets, en de stichting OV-fiets op haar beurt dreigde over te stappen naar buitenlandse bedrijven.\n",
      "     \n",
      "      Uiteindelijk kwamen in het najaar van 2007 de partijen tot elkaar, er werd geschikt. De NS beloofde als nieuwe eigenaar de continuïteit te garanderen van de ov-fiets met een investering van 10 miljoen euro en de organisatie bleef deels onafhankelijk en zou niet alleen de NS bedienen, maar ook de rest van het openbaar vervoer. Inmiddels is de NS al vijftien jaar een consistente hoeder van het blauw-gele mirakel.\n",
      "     \n",
      "      ‘Ik kan me vooral herinneren dat ik uiteindelijk de overeenkomst heb getekend’, zegt Haverman. ‘En dat we daarna met zijn allen bier zijn gaan drinken. De ov-fiets was gered.’ In 2021, al jaren niet meer verbonden aan de ov-fiets, volgde ook voor hem een persoonlijke beloning: hij kreeg hij als uitvinder van de ov-fiets een koninklijke onderscheiding.\n",
      "     \n",
      "      ***\n",
      "     \n",
      "      Met zijn gezin woont de Canadees Chris Bruntlett sinds 2019 in Delft. Hij houdt zich hier als publicist bezig met stedelijke mobiliteit, en dan vooral de rol van de fiets daarin. Sinds hij in Nederland woont, heeft hij de auto niet meer nodig, zegt hij, met dank aan de ov-fiets. Als je met hem praat over de Nederlandse fietscultuur, dan volgen de nodige bloemrijke bewoordingen. Wat hij vooral vaststelt, is dat Nederland amper notie heeft van de zegeningen alhier, zoals de ov-fiets, en dat hij ‘de spreekwoordelijke spiegel’ is die ons ‘de vreugde en verwondering’ onder de neus wrijft.\n",
      "     \n",
      "      De overgrote meerderheid van de Nederlanders is, zo concludeert de Canadees, als vissen die geen idee hebben dat ze omringd zijn door water.\n",
      "     \n",
      "      Het stilstaan bij flonkerende voorspoed, en dan vooral eentje die mede mogelijk is gemaakt door de overheid, is een matig voorkomende gewoonte in Nederland, zegt Paul ’t Hart, hoogleraar bestuurskunde van Universiteit Utrecht. Trouwens, ook ’t Hart had er vroeger een handje van om gezagsdragers af te zagen, indien noodzakelijk. Tegenwoordig is hij vaandeldrager van ‘positieve bestuurskunde’ en vecht hij tegen stereotypering van de overheid ‘als die bureaucratische, kloterige, door regels geobsedeerde ambtelijke zooi’.\n",
      "     \n",
      "      ‘Als iets wel goed gaat, dan vinden we dat vanzelfsprekend. Het uitventen van succes is gebruikelijk in de bedrijfskunde, maar niet bij de overheid, die dat succes mogelijk maakt door goed onderwijs en infrastructuur. Kankeren als het slecht gaat, dat is normaal, maar als het goed gaat hoor je niemand.’\n",
      "     \n",
      "      De ov-fiets is volgens ’t Hart een droomvoorbeeld van maatschappelijk ondernemerschap: ontstaan buiten het politieke speelveld, door goeie, vakkundige mensen, met goeie idealen, niet voor de winst, maar voor de publieke zaak; in een democratische omgeving is een democratisch ontwerp ontstaan.\n",
      "     \n",
      "      Valt er dan helemaal niks te zeuren en te zaniken over de ov-fiets? Reizigersvereniging Rover of de Fietsersbond krijgen amper klachten. Ja, het nieuwe elektronische slot is best moeilijk. Maar het grootste probleem van de ov-fiets is het succes zelf. Omdat zo veel mensen een ov-fiets willen, is er niet altijd eentje voorradig op het station. ‘De ov-fiets is een nationaal instituut geworden’, zegt ’t Hart. ‘Het is zo bijzonder, het verdient een sonnet.’\n",
      "     \n",
      "      Een voortreffelijk suggestie van de hoogleraar, bij zo veel gejuich over het blauw-gele wonder past poëzie.\n",
      "     \n",
      "      Op verzoek schreef dichter Bas Belleman, die werken van William Shakespeare vertaalde en toelichtte (Shakespeares Sonnetten, 2020) daarom als slotwoord een variant op A Lover’s Complaint. Getiteld Geen klachten:\n",
      "     \n",
      "Het was zo’n goede fiets dat men soms dacht:Die fiets leent zijn karakter van zijn heer,Zo ridderlijk geel-blauw, trots op zijn vlag,Kijk hoe hij remt en optrekt, keer op keer!En ja, dan kreeg je die discussie weer:Maakt hij souplesse in zijn fietsen losOf lijkt dat zo dankzij dat stalen ros?\n",
      "   U bent niet ingelogd Tip hier onze journalisten  Op alle verhalen van de Volkskrant rust uiteraard copyright. Wil je tekst overnemen of een video(fragment), foto of illustratie gebruiken, mail dan naar copyright @volkskrant.nl.  © 2023 DPG Media B.V. - alle rechten voorbehouden \n",
      "\n",
      "\n",
      "URL: https://nos.nl/l/2498848\n",
      "Article:\n",
      "Op een parkeerplaats aan de rand van de wijk Wippolder in Delft is plek voor vier deelauto's. Slechts één is er meegenomen rond spitstijd, de andere drie staan nog ongebruikt geparkeerd.  Het illustreert hoe gemeenten in hun zoektocht om de parkeerdruk te verminderen inzetten op het delen van vervoersmiddelen, de zogenoemde deelmobiliteit, maar dat er op dit vlak tegelijk nog genoeg te winnen valt.  Een aanzienlijk deel van de 25 grootste gemeenten in Nederland kampt met parkeerdruk, zo bleek uit een rondgang van de NOS. Onder meer Delft, Zwolle, Haarlem, Arnhem, Groningen en Utrecht hebben deelvervoer als oplossing voor de problematiek op de tekentafel liggen.  In Nederland zijn er al meerdere zogenoemde hubs, oftewel plekken waar meerdere vormen van deelmobiliteit worden aangeboden. Dat kan, zoals in Zwolle, gaan om een plek om een auto te parkeren om vervolgens verder te reizen met het openbaar vervoer. Of het loopt uiteen van een kleine plek voor deelauto's, zoals die in Delft, tot een groot overstappunt in het Drentse Borger. Deelmobiliteit is een breed begrip; er vallen auto's onder, maar ook bijvoorbeeld deelbakfietsen en scooters. Zo'n breed palet is ook nodig om een hub te laten slagen, zegt Niels van Oort, universitair hoofddocent Public Transport aan de TU Delft. Als er meer vormen van deelvervoer zijn, stimuleert dat volgens Van Oort ook het gedrag van mensen om er meer gebruik van te maken. Ook het toevoegen van andere voorzieningen zoals een pakketpunt zou goed zijn om de reistijd van mensen in te korten. Volgens de deelmobiliteitsdeskundige zit er met name groei in het gebruik van de deelauto. Van Oort: \"Deelmobiliteit is niet voor iedereen, het is onderdeel van een totale mix van onze mobiliteit. Op sommige plekken en tijden werkt het beter dan andere, dat is heel contextafhankelijk.\" Er staan nog veel meer hubs gepland bij gemeenten, onder meer aan randen van woonwijken. Volgens Van Oort houden sommige vastgoedontwikkelaars hier zelfs rekening mee als ze bezig zijn met nieuwbouw. Veel ruimte voor een eigen auto is er bij nieuwbouw voor inwoners van de wijk soms niet. Zo willen gemeentes als Tilburg, Breda, Nijmegen en Dordrecht bij nieuwbouwprojecten dat \"de parkeerbehoefte op eigen terrein wordt opgelost.\" Ook in Nijmegen is dat het geval. Als er geen mogelijkheid tot parkeren is op eigen terrein, dan \"komt men ook niet in aanmerking voor een parkeervergunning op straat of een abonnement in een openbare garage\", aldus de gemeente. De kracht van een goede hub zit in veel vormen van deelvervoer en goede voorzieningen. Van Oort ziet ook dat er nog uitdagingen zijn, vooral op het vlak om mensen te overtuigen om geen eigen auto meer te hebben. Volgens Van Oort is deelmobiliteit soms \"nog best veel gedoe\". Er zijn bijvoorbeeld veel verschillende aanbieder, met allemaal een eigen app waar soms een creditcard aan gekoppeld moet worden. De optie tot deelvervoer zou volgens de universitair hoofddocent vooral vanzelfsprekender moeten worden, met veel meer gemak. \"Er moeten volwaardige alternatieven zijn\", zegt hij. Toch kan deelvervoer zeker een alternatief voor de auto zijn. \"Maar dan moeten mensen wel kunnen vertrouwen op de beschikbaarheid\", zegt Van Oort. Met andere woorden: als er wordt gezegd dat er op een plek nog een aantal deelfietsen of -auto's staat, moeten die auto of fiets er ook echt staan. Naast de zogeheten hubs zetten gemeenten in op nog meer plannen om de parkeerdruk te verminderen. Een daarvan is mensen simpelweg (meer) laten betalen voor een parkeerplek. Leeuwarden kiest juist voor een soort beloningsstrategie: parkeergarages zijn in de stad goedkoper dan parkeren op straat. Breda kiest er net als Amsterdam voor om bewoners met een vergunning richting parkeergarages te sturen. In het merendeel van de grootste 25 gemeenten zijn de gebieden voor betaald parkeren in het afgelopen jaar uitgebreid, zoals bijvoorbeeld in Rotterdam en Eindhoven. Andere gemeenten hebben een stop op het aantal parkeervergunningen voor bijvoorbeeld de binnenstad of kiezen er juist voor wél parkeervergunningen toe te wijzen, maar daar een maximum aan te stellen. Bewoners en bedrijven mogen in de meeste steden, zoals in Enschede en Maastricht, maximaal één vergunning hebben, afhankelijk van de drukte in het gebied waar ze willen parkeren. Economie Deel artikel:\n",
      "\n",
      "\n",
      "URL: https://www.gva.be/cnt/dmf20231124_93848669\n",
      "Article:\n",
      "In het kader van het vergroenen en verduurzamen van de mobiliteit introduceert Essen twee elektrische deelauto’s en kiest voor de autodeeldienst Cambio. Op een infomoment licht de gemeente het systeem toe. De startdatum is nog niet bekend. “Door elektrische deelauto’s aan te bieden, moedigen we inwoners aan om na te denken over duurzame vervoersopties. Meer inzetten op deelmobiliteit verlaagt niet alleen de CO2-uitstoot, maar maakt op termijn onze straten rustiger en groener”, argumenteert Helmut Jaspers, schepen van Duurzaamheid en Klimaatbeleid (Vooruit). “Een recente studie van de KU Leuven toont aan dat één deelauto drie tot tien traditionele wagens vervangt.”  De schepen somt nog redenen op om voor dit systeem te kiezen. “Met een deelauto verklein je je ecologische voetafdruk. Dit systeem is interessant voor wie een (tweede) auto slechts sporadisch gebruikt. Daarnaast is het een betaalbaar alternatief voor wie het financieel net iets moeilijker heeft en zo geen auto moet kopen en onderhouden.” Na een zorgvuldige selectieprocedure koos Essen voor twee elektrische deelauto’s van de autodeeldienst Cambio. “Het gaat om twee volledig elektrische modellen Peugeot e-208. Deze worden beschikbaar gesteld op twee strategische locaties: de ene in het centrum op de parking naast de kerk, de andere nabij het station. Iedereen vanaf 18 jaar met geldig rijbewijs kan ervan gebruikmaken.” “We werken nu verder aan het installeren van de deelauto’s en het inrichten van de vaste standplaatsen. Op een infomoment voor alle geïnteresseerden leggen we het gebruik van deze nieuwe service uit. De exacte datum van het moment alsook de dag waarop het autodelen start, maken we bekend op de gemeentelijke website en in het gemeenteblad Essen Info.” Op het Heuvelplein verrijst tegen woensdag 13 december een prachtige spiegeltent. Het wordt de warmste plek van Essen tijdens de komende eindejaarsperiode. In drie weken tijd vinden er ruim twintig … Wildert is op dit moment moeilijk te stoppen en dat ondervond Brecht zaterdag ook. De wedstrijd eindigde op 3-1, waarmee Wildert zijn vijfde winst na elkaar heeft behaald. Een rijkgevuld programma in elke reeks is bijna altijd een zekerheid voor veel doelpunten. Hieronder vind je een overzicht van de uitslagen en doelpuntenmakers van alle Antwerpse ploegen die … Streekrenners Cas Van Looke, Sam Van Hoeck en Len Geerts kwamen zaterdag op de half verzopen omloop in Essen sterk voor de dag. Van Looke en Van Hoeck werden respectievelijk tweede en vierde bij de … Nog meer dan de aangekondigde afwezigheid van vele toppers sprong het forfait van Alicia Franck in het oog. De sinds enige tijd in Essen woonachtige Franck had namelijk van de Robotlandcross een … Grensgemeente Essen kreeg de eer om Wout van Aert (29) voor het eerst in het veld te zien opduiken. De drievoudige wereldkampioen deed wat iedereen verwachtte, winnen. “Maar het was toch afzien”, … Meer won de thuiswedstrijd tegen Horendonk zaterdag met 2-0. Rob Dictus en Remy Goris zorgden beiden voor een doelpunt. Wijnegem won zaterdag van Essen. Wijnegem won het duel met 0-4. Wout van Aert snelde zaterdagnamiddag naar zijn eerste zege van het crossseizoen. Vanuit alle hoeken van het land zakten supporters af naar Essen om hun grote held voor het eerst dit seizoen door … Net als de voorbije weken in het veld hebben onze jonge provinciale renners zich ook in de Exact Cross in Essen weer doen opmerken. Vooral bij de eerstejaars nieuwelingen was de Antwerpse hegemonie … Wie denkt dat hij of zij een druk weekend tegemoet gaat, moet maar eens naar Luc Van Thillo (54) kijken. De voorzitter van voetbalclub Lierse organiseert vandaag zaterdag de veldrit in Essen, ’s … \n",
      "        Overlijdens in Essen.\n",
      "     Er zijn recent geen nieuwe overlijdens toegevoegd. Staat uw dierbare niet op inmemoriam.be of zoekt u extra informatie? \n",
      "                                Elke Lamens\n",
      "                            \n",
      "\n",
      "\n",
      "URL: https://www.gva.be/cnt/dmf20231102_95049608\n",
      "Article:\n",
      "Inge en Peter leven ‘ondersteboven’ in hun rijhuis in Oud-Berchem: de slaapkamers en werkruimte zitten op de laagste verdiepingen, de woonkamer en keuken op het tweede en derde niveau. “We wilden voluit zon. Dankzij die inrichting en de hoge ramen genieten we het meest van de lichtinval.”\n",
      "\n",
      "\n",
      "URL: https://kw.be/nieuws/verkeer-en-mobiliteit/nieuw-vervoersplan-de-lijn-botst-op-kritiek-gemiddeld-1-op-6-bushaltes-verdwijnt/\n",
      "Article:\n",
      "Vanaf 6 januari ondergaat het vervoersplan van De Lijn opnieuw een hele metamorfose. In heel Vlaanderen worden 3.247 haltes geschrapt, er wordt een flexnet aangelegd om de zogenaamde ‘basisbereikbaarheid’ te garanderen en reizigers moeten zich op een efficiëntere en duurzamere manier van punt A naar punt B kunnen verplaatsen. In onze provincie lopen de gemoederen bij het personeel van De Lijn al weken hoog op door de mededeling dat er binnenkort verschillende stelplaatsen zullen verdwijnen of verhuizen, met tal van stakingsacties als gevolg. Ook deze nieuwe plannen  de tweede fase van de vernieuwingsstrategie die deze zomer werd ingezet  kunnen op weinig begrip rekenen. “Dat minister Peeters tot nu gewacht heeft om ook maar iets te communiceren over het nieuwe vervoersplan van De Lijn dat al ingaat op 6 januari, is beneden alle peil. Amper zes weken voor de uitrol van de zogenaamde basisbereikbaarheid, moeten reizigers horen dat één op de zes haltes verdwijnt”, aldus Vlaams parlementslid Annick Lambrecht, afkomstig uit Brugge. “Dit is ongelooflijk. Hoe raken zij nog op hun werk? Moeten zij zich dan een auto aanschaffen of dan toch maar de taxi nemen? De mensen krijgen bitter weinig tijd om hun nieuw vervoer te regelen. Jaar na jaar verhoogt De Lijn haar prijzen in ruil voor steeds minder bussen, minder bushaltes en minder stiptheid. Dit is gewoon slecht beleid.” Hoe de situatie er in West-Vlaanderen precies zal uitzien, daar wil De Lijn zelf nog niet veel over kwijt. De komende weken worden in verschillende getroffen steden en gemeenten informatiemomenten ingepland waarop de verdere details vrijgegeven zullen worden. Wanneer die gepland zijn, kon nog niet meegedeeld worden. Wat we wel al weten, is dat er over heel Vlaanderen 3.247 bushaltes worden geschrapt. Het gaat dan voornamelijk over haltes in woonwijken waar doorgaans slechts een handvol reizigers gebruik van maken. Wel zullen er op sommige van die minder drukke locaties haltes komen waar een flexbus de opvolger van de belbus  op aanvraag kan langskomen. Tot slot is het de bedoeling dat passagiers op meer plekken kunnen overstappen op andere vervoersmiddelen, zoals een deelfiets. Deze locaties worden Hoppinpunten genoemd. \n",
      "\n",
      "\n",
      "\n",
      "\n",
      "\n",
      "\t\n",
      "\tFout opgemerkt of meer nieuws? Meld het hier\n",
      " \n",
      "\n",
      "\n",
      "\n",
      "\n",
      "\n",
      "\t\t\t\t\t\n",
      "\t\t\t\t\tDit artikel volledig lezen duurt 2 minuten\n",
      "\t\t\t\t \n",
      "\t\t\t\t\tNieuw vervoersplan De Lijn botst op kritiek: gemiddeld 1 op 6 bushaltes verdwijnt\n",
      "\t\t\t\t \n",
      "\n",
      "\n",
      "\n",
      "\n",
      "\n",
      "\t\t\t\t\n",
      "\t\t\t\tKies één van onze voordelige abonnementen\n",
      "\t\t\t \n",
      "\t\t\tKW digitaal\n",
      "\t\t \n",
      "\t\t\t\tToegang tot alle artikels op kw.be\n",
      "\t\t\t \n",
      "\t\t\t\tDigitale toegang tot alle edities en het archief van KW\n",
      "\t\t\t \n",
      "\t\t\t\tLees alle specials\n",
      "\t\t\t \n",
      "\t\t\t\tElke vrijdag de krant in je brievenbus\n",
      "\t\t\t\n",
      "\n",
      "\n",
      "URL: https://www.emerce.nl/wire/nieuwe-mobiele-computers-zebra-technologies-gezondheidszorg-verbeteren-patintenzorg\n",
      "Article:\n",
      "UTRECHT, Nederland – 23 november 2023 – Zebra Technologies Corporation (NASDAQ: ZBRA), een toonaangevende leverancier van digitale oplossingen die bedrijven in staat stelt om gegevens, goederen en mensen op intelligente wijze met elkaar te verbinden, presenteert  vandaag de op Android™ gebaseerde HC20 en HC50, een nieuwe serie robuuste handheld mobiele computers voor professionals in de gezondheidszorg. Deze zijn speciaal ontworpen om te voldoen aan de behoeften van medewerkers in de gezondheidszorg en beschikken over functies die de operationele efficiëntie voor klinisch en niet-klinisch personeel  verbeteren. De HC20 en HC50 zijn beiden lichter en aanzienlijk dunner dan eerdere Zebra producten. Daarnaast breiden ze Zebra’s uitgebreide portfolio van oplossingen voor de gezondheidszorg uit met doelgerichte functies om de kwaliteit van de zorg en de patiëntervaring te verbeteren. “Het is van cruciaal belang om ervoor te zorgen dat de juiste patiënt de juiste zorg krijgt, op het juiste moment. Door gezondheidsinformatie van de patiënt in real-time te verstrekken aan zorgverleners direct op de plaats van zorg, wordt de kwaliteit van de patiëntenzorg verbeterd,” zegt Chris Sullivan, Global Healthcare Strategy en Practice Lead, Zebra Technologies. “Onze nieuwste HC20 en HC50 handheld mobiele computers voorzien zorgverleners van innovatieve technologische oplossingen om de efficiëntie van de workflow op de zorglocatie te verbeteren en om te voldoen aan de complexe en zich ontwikkelende behoeften van artsen.” De HC20 en HC50 zijn voorzien van een groot 6-inch high-definition (FHD+) edge-to-edge scherm en verbeterde connectiviteit met Wi-Fi 6/6E ondersteuning. De toestellen zijn uitgerust met geavanceerde audiocommunicatiemogelijkheden, waaronder HD voice, voice over IP (VoIP), push-to-talk en private branch exchange (PBX) bellen, die onderdeel zijn van Zebra’s Workcloud Communications suite. Deze apparaten bevatten ook een andere belangrijke functie van Zebra’s Workcloud Communications suite, genaamd Profile Manager. Deze functie verbetert patiëntgerichte zorg door middel van veilige authenticatie, automatisering van taken en de mogelijkheid om gebruikersrollen te identificeren en te beheren. Dit bevordert een efficiënter en effectiever ecosysteem voor de gezondheidszorg waarin gegevens en diensten direct beschikbaar zijn. Met de nieuwe HC20 van Zebra beschikken zorgverleners over een optimale, doelgerichte en toch betaalbare oplossing om hun zorgpersoneel verbonden en goed uitgerust te houden. Beide apparaten kunnen worden omgevormd tot een volledig workstation met Zebra’s Workstation Connect en een Connect Cradle, waardoor zorgverleners een desktop scherm, muis, toetsenbord en andere randapparatuur onderweg kunnen gebruiken. De nieuwe HC50 van Zebra breidt de mogelijkheden van de HC20 uit met een hot-swap batterij, een camera aan de voorkant en een groter geheugen. Tevens zijn de apparaten voorzien van een patiëntvriendelijke scanner, apparaattracering en ter plekke vervangbare batterijen. Beiden zijn bovendien uitgerust met een speciale alarmknop voor noodgevallen en een buitenkant die geschikt is voor de gezondheidszorg en bestand is tegen meer dan 30 desinfecterende reinigingsmiddelen die door ziekenhuizen worden gebruikt. Dit laatste is een unieke functie die van cruciaal belang is voor klinisch en niet-klinisch personeel. De HC20 en de HC50 bevatten Zebra Mobility DNA software tools om de communicatie te verbeteren en de workflows en gebruiksvriendelijkheid voor zorgverleners te optimaliseren. Beide apparaten worden geleverd met Zebra Mobility Total Benefits of Ownership, wat zorgt voor een langere levenscyclus, betere beveiliging en IT-beheer, en lagere eigendomskosten. BELANGRIJK\n",
      "Zebra introduceert de HC20 en HC50, een nieuwe serie robuuste handheld mobiele computers speciaal gebouwd voor de unieke behoeften van de gezondheidszorg en voorzien van een speciale alarmknop voor noodgevallen en een gezondheidszorgbestendige buitenkant die bestand is tegen meer dan 30 desinfecterende reinigingsmiddelen die in ziekenhuizen worden gebruikt.\n",
      "De nieuwe mobiele computers bouwen voort op Zebra’s uitgebreide portfolio van oplossingen voor de gezondheidszorg.\n",
      "Beide apparaten zijn voorzien van Zebra’s Mobility DNA software tools om workflows te optimaliseren en de communicatie en gebruiksvriendelijkheid te verbeteren. Deze tools zorgen er ook voor dat de veiligheid wordt verhoogd en de eigendomskosten worden verlaagd.\n",
      "###  OVER ZEBRA TECHNOLOGIES\n",
      "Zebra (NASDAQ: ZBRA) helpt organisaties bij het bewaken, anticiperen en versnellen van workflows door hun front-line te versterken en ervoor te zorgen dat alles en iedereen zichtbaar, verbonden en volledig geoptimaliseerd is. Ons bekroonde portfolio reikt van software tot innovaties in robotica, machine vision, automatisering en digitale besluitvorming, allemaal ondersteund door meer dan 50 jaar ervaring in scanning, track-and-trace en mobiele computingoplossingen. Met een ecosysteem van meer dan 10.000 partners in meer dan 100 landen, bestaat Zebra’s klantportfolio uit meer dan 80% van de Fortune 500. Newsweek onderscheidde Zebra onlangs met een van America’s Most Loved Workplaces en Greatest Workplaces for Diversity, en we staan op Fast Company’s lijst van de Best Workplaces for Innovators. Meer informatie op www.zebra.com of meld je aan voor nieuws alerts. Volg Zebra’s Your Edge blog, LinkedIn, Twitter en Facebook, en bekijk onze Story Hub: Zebra Perspectives. Dit artikel is een ingezonden bericht en valt buiten de verantwoordelijkheid van de redactie.\n",
      "\n",
      "\n"
     ]
    }
   ],
   "source": [
    "def scrape_article(url, intro):\n",
    "    try:\n",
    "        response = requests.get(url)\n",
    "        response.raise_for_status()\n",
    "\n",
    "        soup = BeautifulSoup(response.text, 'html.parser')\n",
    "\n",
    "        paragraphs = soup.find_all('p')\n",
    "\n",
    "        for para in paragraphs:\n",
    "            if fuzz.partial_ratio(para.text, intro) > 80:\n",
    "                article = ' '.join([p.text for p in paragraphs[paragraphs.index(para):]])\n",
    "                return article\n",
    "\n",
    "        return \"Article content not found.\"\n",
    "\n",
    "    except requests.RequestException as e:\n",
    "        return f\"Error fetching the page: {e}\"\n",
    "\n",
    "index_list = []\n",
    "url_list = []\n",
    "article_list = []\n",
    "\n",
    "for index, row in news.iterrows():\n",
    "    full_article = scrape_article(row['url'], row['description'])\n",
    "    index_list.append(index)\n",
    "    url_list.append(row['url'])\n",
    "    article_list.append(full_article)\n",
    "    print(f\"URL: {row['url']}\\nArticle:\\n{full_article}\\n\\n\")"
   ]
  },
  {
   "cell_type": "code",
   "execution_count": 5,
   "metadata": {},
   "outputs": [
    {
     "data": {
      "text/html": [
       "<div>\n",
       "<style scoped>\n",
       "    .dataframe tbody tr th:only-of-type {\n",
       "        vertical-align: middle;\n",
       "    }\n",
       "\n",
       "    .dataframe tbody tr th {\n",
       "        vertical-align: top;\n",
       "    }\n",
       "\n",
       "    .dataframe thead th {\n",
       "        text-align: right;\n",
       "    }\n",
       "</style>\n",
       "<table border=\"1\" class=\"dataframe\">\n",
       "  <thead>\n",
       "    <tr style=\"text-align: right;\">\n",
       "      <th></th>\n",
       "      <th>Index</th>\n",
       "      <th>URL</th>\n",
       "      <th>Article</th>\n",
       "    </tr>\n",
       "  </thead>\n",
       "  <tbody>\n",
       "    <tr>\n",
       "      <th>0</th>\n",
       "      <td>0</td>\n",
       "      <td>https://www.emerce.nl/achtergrond/wat-zijn-de-...</td>\n",
       "      <td>Alle opties voor deelvervoer – fietsen, scoote...</td>\n",
       "    </tr>\n",
       "    <tr>\n",
       "      <th>1</th>\n",
       "      <td>1</td>\n",
       "      <td>https://www.trouw.nl/duurzame-100/klimaatconfl...</td>\n",
       "      <td>Je bent veganist maar je partner houdt van spa...</td>\n",
       "    </tr>\n",
       "    <tr>\n",
       "      <th>2</th>\n",
       "      <td>2</td>\n",
       "      <td>https://www.bnr.nl/nieuws/mobiliteit/10527255/...</td>\n",
       "      <td>Autodeelfirma's MyWheels, SHARE NOW, GreenMobi...</td>\n",
       "    </tr>\n",
       "    <tr>\n",
       "      <th>3</th>\n",
       "      <td>3</td>\n",
       "      <td>https://www.nieuwsblad.be/cnt/dmf20231008_9512...</td>\n",
       "      <td>De Antwerpse politie heeft het afgelopen weeke...</td>\n",
       "    </tr>\n",
       "    <tr>\n",
       "      <th>4</th>\n",
       "      <td>4</td>\n",
       "      <td>https://www.gva.be/cnt/dmf20231006_94011344</td>\n",
       "      <td>Lokale burgerbeweging Klimaan breidt haar vloo...</td>\n",
       "    </tr>\n",
       "    <tr>\n",
       "      <th>5</th>\n",
       "      <td>5</td>\n",
       "      <td>https://www.nieuwsblad.be/cnt/dmf20231031_9284...</td>\n",
       "      <td>De Antwerpse politie hield bij een actie tegen...</td>\n",
       "    </tr>\n",
       "    <tr>\n",
       "      <th>6</th>\n",
       "      <td>6</td>\n",
       "      <td>https://www.nieuwsblad.be/cnt/dmf20231011_9321...</td>\n",
       "      <td>De Antwerpse politie betrapte dinsdag een wink...</td>\n",
       "    </tr>\n",
       "    <tr>\n",
       "      <th>7</th>\n",
       "      <td>7</td>\n",
       "      <td>https://www.nieuwsblad.be/cnt/dmf20231018_9342...</td>\n",
       "      <td>Duizenden lopers rennen zondag door de stad ti...</td>\n",
       "    </tr>\n",
       "    <tr>\n",
       "      <th>8</th>\n",
       "      <td>8</td>\n",
       "      <td>https://www.ad.nl/rotterdam/politie-slachtoffe...</td>\n",
       "      <td>Article content not found.</td>\n",
       "    </tr>\n",
       "    <tr>\n",
       "      <th>9</th>\n",
       "      <td>9</td>\n",
       "      <td>https://www.ad.nl/rotterdam/gamen-om-te-leren-...</td>\n",
       "      <td>Article content not found.</td>\n",
       "    </tr>\n",
       "    <tr>\n",
       "      <th>10</th>\n",
       "      <td>10</td>\n",
       "      <td>https://www.nu.nl/uit-andere-media/6287626/de-...</td>\n",
       "      <td>Article content not found.</td>\n",
       "    </tr>\n",
       "    <tr>\n",
       "      <th>11</th>\n",
       "      <td>11</td>\n",
       "      <td>https://www.computable.nl/artikel/nieuws/digit...</td>\n",
       "      <td>\\n\\n\\n                                        ...</td>\n",
       "    </tr>\n",
       "    <tr>\n",
       "      <th>12</th>\n",
       "      <td>12</td>\n",
       "      <td>https://www.demorgen.be/politiek/meyrem-almaci...</td>\n",
       "      <td>Anderhalf jaar geleden zwaaide Meyrem Almaci (...</td>\n",
       "    </tr>\n",
       "    <tr>\n",
       "      <th>13</th>\n",
       "      <td>13</td>\n",
       "      <td>https://www.demorgen.be/beter-leven/peter-van-...</td>\n",
       "      <td>Een jaar lang deed Gloria Monserez (22) er het...</td>\n",
       "    </tr>\n",
       "    <tr>\n",
       "      <th>14</th>\n",
       "      <td>14</td>\n",
       "      <td>https://www.nieuwsblad.be/cnt/dmf20231106_9332...</td>\n",
       "      <td>In Berchem trof de Antwerpse politie zaterdagn...</td>\n",
       "    </tr>\n",
       "    <tr>\n",
       "      <th>15</th>\n",
       "      <td>15</td>\n",
       "      <td>https://www.nieuwsblad.be/cnt/dmf20231117_9496...</td>\n",
       "      <td>Wie in het station van Wetteren toekomt en zic...</td>\n",
       "    </tr>\n",
       "    <tr>\n",
       "      <th>16</th>\n",
       "      <td>16</td>\n",
       "      <td>https://www.parool.nl/amsterdam/een-fiets-park...</td>\n",
       "      <td>Een doodlopend fietspad, trappen met ‘luie’ tr...</td>\n",
       "    </tr>\n",
       "    <tr>\n",
       "      <th>17</th>\n",
       "      <td>17</td>\n",
       "      <td>https://www.nieuwsblad.be/cnt/dmf20231111_9443...</td>\n",
       "      <td>De elektrische deelfietsen van Donkey Republic...</td>\n",
       "    </tr>\n",
       "    <tr>\n",
       "      <th>18</th>\n",
       "      <td>18</td>\n",
       "      <td>https://www.nieuwsblad.be/cnt/dmf20231116_9366...</td>\n",
       "      <td>Binnen het CIVISANO-project liet lokaal bestuu...</td>\n",
       "    </tr>\n",
       "    <tr>\n",
       "      <th>19</th>\n",
       "      <td>19</td>\n",
       "      <td>https://www.nieuwsblad.be/cnt/dmf20231114_9490...</td>\n",
       "      <td>De Lijn zet begin volgend jaar de grootste sta...</td>\n",
       "    </tr>\n",
       "    <tr>\n",
       "      <th>20</th>\n",
       "      <td>20</td>\n",
       "      <td>https://www.gva.be/cnt/dmf20231114_96145482</td>\n",
       "      <td>De Lijn zet begin volgend jaar de grootste sta...</td>\n",
       "    </tr>\n",
       "    <tr>\n",
       "      <th>21</th>\n",
       "      <td>21</td>\n",
       "      <td>https://www.standaard.be/cnt/dmf20231114_94591779</td>\n",
       "      <td>De Lijn zet begin volgend jaar de grootste sta...</td>\n",
       "    </tr>\n",
       "    <tr>\n",
       "      <th>22</th>\n",
       "      <td>22</td>\n",
       "      <td>https://kw.be/nieuws/verkeer-en-mobiliteit/nie...</td>\n",
       "      <td>De Lijn zet vanaf 6 januari 2024 de tweede sta...</td>\n",
       "    </tr>\n",
       "    <tr>\n",
       "      <th>23</th>\n",
       "      <td>23</td>\n",
       "      <td>https://www.nu.nl/uit-andere-media/6289266/de-...</td>\n",
       "      <td>Article content not found.</td>\n",
       "    </tr>\n",
       "    <tr>\n",
       "      <th>24</th>\n",
       "      <td>24</td>\n",
       "      <td>https://www.volkskrant.nl/volkskrant-magazine/...</td>\n",
       "      <td>‘Briljant’, ‘uniek in de wereld’, ‘goud’. Tege...</td>\n",
       "    </tr>\n",
       "    <tr>\n",
       "      <th>25</th>\n",
       "      <td>25</td>\n",
       "      <td>https://nos.nl/l/2498848</td>\n",
       "      <td>Op een parkeerplaats aan de rand van de wijk W...</td>\n",
       "    </tr>\n",
       "    <tr>\n",
       "      <th>26</th>\n",
       "      <td>26</td>\n",
       "      <td>https://www.gva.be/cnt/dmf20231124_93848669</td>\n",
       "      <td>In het kader van het vergroenen en verduurzame...</td>\n",
       "    </tr>\n",
       "    <tr>\n",
       "      <th>27</th>\n",
       "      <td>27</td>\n",
       "      <td>https://www.gva.be/cnt/dmf20231102_95049608</td>\n",
       "      <td>Inge en Peter leven ‘ondersteboven’ in hun rij...</td>\n",
       "    </tr>\n",
       "    <tr>\n",
       "      <th>28</th>\n",
       "      <td>28</td>\n",
       "      <td>https://kw.be/nieuws/verkeer-en-mobiliteit/nie...</td>\n",
       "      <td>Vanaf 6 januari ondergaat het vervoersplan van...</td>\n",
       "    </tr>\n",
       "    <tr>\n",
       "      <th>29</th>\n",
       "      <td>29</td>\n",
       "      <td>https://www.emerce.nl/wire/nieuwe-mobiele-comp...</td>\n",
       "      <td>UTRECHT, Nederland – 23 november 2023 – Zebra ...</td>\n",
       "    </tr>\n",
       "  </tbody>\n",
       "</table>\n",
       "</div>"
      ],
      "text/plain": [
       "    Index                                                URL  \\\n",
       "0       0  https://www.emerce.nl/achtergrond/wat-zijn-de-...   \n",
       "1       1  https://www.trouw.nl/duurzame-100/klimaatconfl...   \n",
       "2       2  https://www.bnr.nl/nieuws/mobiliteit/10527255/...   \n",
       "3       3  https://www.nieuwsblad.be/cnt/dmf20231008_9512...   \n",
       "4       4        https://www.gva.be/cnt/dmf20231006_94011344   \n",
       "5       5  https://www.nieuwsblad.be/cnt/dmf20231031_9284...   \n",
       "6       6  https://www.nieuwsblad.be/cnt/dmf20231011_9321...   \n",
       "7       7  https://www.nieuwsblad.be/cnt/dmf20231018_9342...   \n",
       "8       8  https://www.ad.nl/rotterdam/politie-slachtoffe...   \n",
       "9       9  https://www.ad.nl/rotterdam/gamen-om-te-leren-...   \n",
       "10     10  https://www.nu.nl/uit-andere-media/6287626/de-...   \n",
       "11     11  https://www.computable.nl/artikel/nieuws/digit...   \n",
       "12     12  https://www.demorgen.be/politiek/meyrem-almaci...   \n",
       "13     13  https://www.demorgen.be/beter-leven/peter-van-...   \n",
       "14     14  https://www.nieuwsblad.be/cnt/dmf20231106_9332...   \n",
       "15     15  https://www.nieuwsblad.be/cnt/dmf20231117_9496...   \n",
       "16     16  https://www.parool.nl/amsterdam/een-fiets-park...   \n",
       "17     17  https://www.nieuwsblad.be/cnt/dmf20231111_9443...   \n",
       "18     18  https://www.nieuwsblad.be/cnt/dmf20231116_9366...   \n",
       "19     19  https://www.nieuwsblad.be/cnt/dmf20231114_9490...   \n",
       "20     20        https://www.gva.be/cnt/dmf20231114_96145482   \n",
       "21     21  https://www.standaard.be/cnt/dmf20231114_94591779   \n",
       "22     22  https://kw.be/nieuws/verkeer-en-mobiliteit/nie...   \n",
       "23     23  https://www.nu.nl/uit-andere-media/6289266/de-...   \n",
       "24     24  https://www.volkskrant.nl/volkskrant-magazine/...   \n",
       "25     25                           https://nos.nl/l/2498848   \n",
       "26     26        https://www.gva.be/cnt/dmf20231124_93848669   \n",
       "27     27        https://www.gva.be/cnt/dmf20231102_95049608   \n",
       "28     28  https://kw.be/nieuws/verkeer-en-mobiliteit/nie...   \n",
       "29     29  https://www.emerce.nl/wire/nieuwe-mobiele-comp...   \n",
       "\n",
       "                                              Article  \n",
       "0   Alle opties voor deelvervoer – fietsen, scoote...  \n",
       "1   Je bent veganist maar je partner houdt van spa...  \n",
       "2   Autodeelfirma's MyWheels, SHARE NOW, GreenMobi...  \n",
       "3   De Antwerpse politie heeft het afgelopen weeke...  \n",
       "4   Lokale burgerbeweging Klimaan breidt haar vloo...  \n",
       "5   De Antwerpse politie hield bij een actie tegen...  \n",
       "6   De Antwerpse politie betrapte dinsdag een wink...  \n",
       "7   Duizenden lopers rennen zondag door de stad ti...  \n",
       "8                          Article content not found.  \n",
       "9                          Article content not found.  \n",
       "10                         Article content not found.  \n",
       "11  \\n\\n\\n                                        ...  \n",
       "12  Anderhalf jaar geleden zwaaide Meyrem Almaci (...  \n",
       "13  Een jaar lang deed Gloria Monserez (22) er het...  \n",
       "14  In Berchem trof de Antwerpse politie zaterdagn...  \n",
       "15  Wie in het station van Wetteren toekomt en zic...  \n",
       "16  Een doodlopend fietspad, trappen met ‘luie’ tr...  \n",
       "17  De elektrische deelfietsen van Donkey Republic...  \n",
       "18  Binnen het CIVISANO-project liet lokaal bestuu...  \n",
       "19  De Lijn zet begin volgend jaar de grootste sta...  \n",
       "20  De Lijn zet begin volgend jaar de grootste sta...  \n",
       "21  De Lijn zet begin volgend jaar de grootste sta...  \n",
       "22  De Lijn zet vanaf 6 januari 2024 de tweede sta...  \n",
       "23                         Article content not found.  \n",
       "24  ‘Briljant’, ‘uniek in de wereld’, ‘goud’. Tege...  \n",
       "25  Op een parkeerplaats aan de rand van de wijk W...  \n",
       "26  In het kader van het vergroenen en verduurzame...  \n",
       "27  Inge en Peter leven ‘ondersteboven’ in hun rij...  \n",
       "28  Vanaf 6 januari ondergaat het vervoersplan van...  \n",
       "29  UTRECHT, Nederland – 23 november 2023 – Zebra ...  "
      ]
     },
     "execution_count": 5,
     "metadata": {},
     "output_type": "execute_result"
    }
   ],
   "source": [
    "scraped_df = pd.DataFrame({\n",
    "    'Index': index_list,\n",
    "    'URL': url_list,\n",
    "    'Article': article_list\n",
    "})\n",
    "scraped_df"
   ]
  },
  {
   "cell_type": "code",
   "execution_count": 6,
   "metadata": {},
   "outputs": [],
   "source": [
    "scraped_df.to_csv('scraped_articles.csv', index=False)"
   ]
  },
  {
   "cell_type": "markdown",
   "metadata": {},
   "source": [
    "There were some articles that the scraper didn't scrape, but I still had the URLs, therefore I decided to find the content and manually copy paste it to a copy of the CSV. That updated copy is called \"scraped_articles_full.csv\""
   ]
  },
  {
   "cell_type": "code",
   "execution_count": 7,
   "metadata": {},
   "outputs": [
    {
     "data": {
      "text/html": [
       "<div>\n",
       "<style scoped>\n",
       "    .dataframe tbody tr th:only-of-type {\n",
       "        vertical-align: middle;\n",
       "    }\n",
       "\n",
       "    .dataframe tbody tr th {\n",
       "        vertical-align: top;\n",
       "    }\n",
       "\n",
       "    .dataframe thead th {\n",
       "        text-align: right;\n",
       "    }\n",
       "</style>\n",
       "<table border=\"1\" class=\"dataframe\">\n",
       "  <thead>\n",
       "    <tr style=\"text-align: right;\">\n",
       "      <th></th>\n",
       "      <th>Index</th>\n",
       "      <th>URL</th>\n",
       "      <th>Article</th>\n",
       "    </tr>\n",
       "  </thead>\n",
       "  <tbody>\n",
       "    <tr>\n",
       "      <th>0</th>\n",
       "      <td>0</td>\n",
       "      <td>https://www.emerce.nl/achtergrond/wat-zijn-de-...</td>\n",
       "      <td>Alle opties voor deelvervoer â fietsen, scoo...</td>\n",
       "    </tr>\n",
       "    <tr>\n",
       "      <th>1</th>\n",
       "      <td>1</td>\n",
       "      <td>https://www.trouw.nl/duurzame-100/klimaatconfl...</td>\n",
       "      <td>Je bent veganist maar je partner houdt van spa...</td>\n",
       "    </tr>\n",
       "    <tr>\n",
       "      <th>2</th>\n",
       "      <td>2</td>\n",
       "      <td>https://www.bnr.nl/nieuws/mobiliteit/10527255/...</td>\n",
       "      <td>Autodeelfirma's MyWheels, SHARE NOW, GreenMobi...</td>\n",
       "    </tr>\n",
       "    <tr>\n",
       "      <th>3</th>\n",
       "      <td>3</td>\n",
       "      <td>https://www.nieuwsblad.be/cnt/dmf20231008_9512...</td>\n",
       "      <td>De Antwerpse politie heeft het afgelopen weeke...</td>\n",
       "    </tr>\n",
       "    <tr>\n",
       "      <th>4</th>\n",
       "      <td>4</td>\n",
       "      <td>https://www.gva.be/cnt/dmf20231006_94011344</td>\n",
       "      <td>Lokale burgerbeweging Klimaan breidt haar vloo...</td>\n",
       "    </tr>\n",
       "    <tr>\n",
       "      <th>5</th>\n",
       "      <td>5</td>\n",
       "      <td>https://www.nieuwsblad.be/cnt/dmf20231031_9284...</td>\n",
       "      <td>De Antwerpse politie hield bij een actie tegen...</td>\n",
       "    </tr>\n",
       "    <tr>\n",
       "      <th>6</th>\n",
       "      <td>6</td>\n",
       "      <td>https://www.nieuwsblad.be/cnt/dmf20231011_9321...</td>\n",
       "      <td>De Antwerpse politie betrapte dinsdag een wink...</td>\n",
       "    </tr>\n",
       "    <tr>\n",
       "      <th>7</th>\n",
       "      <td>7</td>\n",
       "      <td>https://www.nieuwsblad.be/cnt/dmf20231018_9342...</td>\n",
       "      <td>Duizenden lopers rennen zondag door de stad ti...</td>\n",
       "    </tr>\n",
       "    <tr>\n",
       "      <th>8</th>\n",
       "      <td>8</td>\n",
       "      <td>https://www.ad.nl/rotterdam/politie-slachtoffe...</td>\n",
       "      <td>Politie: slachtoffer scooterongeluk was niet o...</td>\n",
       "    </tr>\n",
       "    <tr>\n",
       "      <th>9</th>\n",
       "      <td>9</td>\n",
       "      <td>https://www.ad.nl/rotterdam/gamen-om-te-leren-...</td>\n",
       "      <td>Gamen om te leren over gevaren van criminelen ...</td>\n",
       "    </tr>\n",
       "    <tr>\n",
       "      <th>10</th>\n",
       "      <td>10</td>\n",
       "      <td>https://www.nu.nl/uit-andere-media/6287626/de-...</td>\n",
       "      <td>De Felyx-scooter inspireerde dit nieuwe initia...</td>\n",
       "    </tr>\n",
       "    <tr>\n",
       "      <th>11</th>\n",
       "      <td>11</td>\n",
       "      <td>https://www.computable.nl/artikel/nieuws/digit...</td>\n",
       "      <td>\\n\\n\\n                                        ...</td>\n",
       "    </tr>\n",
       "    <tr>\n",
       "      <th>12</th>\n",
       "      <td>12</td>\n",
       "      <td>https://www.demorgen.be/politiek/meyrem-almaci...</td>\n",
       "      <td>Anderhalf jaar geleden zwaaide Meyrem Almaci (...</td>\n",
       "    </tr>\n",
       "    <tr>\n",
       "      <th>13</th>\n",
       "      <td>13</td>\n",
       "      <td>https://www.demorgen.be/beter-leven/peter-van-...</td>\n",
       "      <td>Een jaar lang deed Gloria Monserez (22) er het...</td>\n",
       "    </tr>\n",
       "    <tr>\n",
       "      <th>14</th>\n",
       "      <td>14</td>\n",
       "      <td>https://www.nieuwsblad.be/cnt/dmf20231106_9332...</td>\n",
       "      <td>In Berchem trof de Antwerpse politie zaterdagn...</td>\n",
       "    </tr>\n",
       "    <tr>\n",
       "      <th>15</th>\n",
       "      <td>15</td>\n",
       "      <td>https://www.nieuwsblad.be/cnt/dmf20231117_9496...</td>\n",
       "      <td>Wie in het station van Wetteren toekomt en zic...</td>\n",
       "    </tr>\n",
       "    <tr>\n",
       "      <th>16</th>\n",
       "      <td>16</td>\n",
       "      <td>https://www.parool.nl/amsterdam/een-fiets-park...</td>\n",
       "      <td>Een doodlopend fietspad, trappen met âluieâ...</td>\n",
       "    </tr>\n",
       "    <tr>\n",
       "      <th>17</th>\n",
       "      <td>17</td>\n",
       "      <td>https://www.nieuwsblad.be/cnt/dmf20231111_9443...</td>\n",
       "      <td>De elektrische deelfietsen van Donkey Republic...</td>\n",
       "    </tr>\n",
       "    <tr>\n",
       "      <th>18</th>\n",
       "      <td>18</td>\n",
       "      <td>https://www.nieuwsblad.be/cnt/dmf20231116_9366...</td>\n",
       "      <td>Binnen het CIVISANO-project liet lokaal bestuu...</td>\n",
       "    </tr>\n",
       "    <tr>\n",
       "      <th>19</th>\n",
       "      <td>19</td>\n",
       "      <td>https://www.nieuwsblad.be/cnt/dmf20231114_9490...</td>\n",
       "      <td>De Lijn zet begin volgend jaar de grootste sta...</td>\n",
       "    </tr>\n",
       "    <tr>\n",
       "      <th>20</th>\n",
       "      <td>20</td>\n",
       "      <td>https://www.gva.be/cnt/dmf20231114_96145482</td>\n",
       "      <td>De Lijn zet begin volgend jaar de grootste sta...</td>\n",
       "    </tr>\n",
       "    <tr>\n",
       "      <th>21</th>\n",
       "      <td>21</td>\n",
       "      <td>https://www.standaard.be/cnt/dmf20231114_94591779</td>\n",
       "      <td>De Lijn zet begin volgend jaar de grootste sta...</td>\n",
       "    </tr>\n",
       "    <tr>\n",
       "      <th>22</th>\n",
       "      <td>22</td>\n",
       "      <td>https://kw.be/nieuws/verkeer-en-mobiliteit/nie...</td>\n",
       "      <td>De Lijn zet vanaf 6 januari 2024 de tweede sta...</td>\n",
       "    </tr>\n",
       "    <tr>\n",
       "      <th>23</th>\n",
       "      <td>23</td>\n",
       "      <td>https://www.nu.nl/uit-andere-media/6289266/de-...</td>\n",
       "      <td>De geliefde OV-fiets en 'bike parking porn'. '...</td>\n",
       "    </tr>\n",
       "    <tr>\n",
       "      <th>24</th>\n",
       "      <td>24</td>\n",
       "      <td>https://www.volkskrant.nl/volkskrant-magazine/...</td>\n",
       "      <td>âBriljantâ, âuniek in de wereldâ, âg...</td>\n",
       "    </tr>\n",
       "    <tr>\n",
       "      <th>25</th>\n",
       "      <td>25</td>\n",
       "      <td>https://nos.nl/l/2498848</td>\n",
       "      <td>Op een parkeerplaats aan de rand van de wijk W...</td>\n",
       "    </tr>\n",
       "    <tr>\n",
       "      <th>26</th>\n",
       "      <td>26</td>\n",
       "      <td>https://www.gva.be/cnt/dmf20231124_93848669</td>\n",
       "      <td>In het kader van het vergroenen en verduurzame...</td>\n",
       "    </tr>\n",
       "    <tr>\n",
       "      <th>27</th>\n",
       "      <td>27</td>\n",
       "      <td>https://www.gva.be/cnt/dmf20231102_95049608</td>\n",
       "      <td>Inge en Peter leven âonderstebovenâ in hun...</td>\n",
       "    </tr>\n",
       "    <tr>\n",
       "      <th>28</th>\n",
       "      <td>28</td>\n",
       "      <td>https://kw.be/nieuws/verkeer-en-mobiliteit/nie...</td>\n",
       "      <td>Vanaf 6 januari ondergaat het vervoersplan van...</td>\n",
       "    </tr>\n",
       "    <tr>\n",
       "      <th>29</th>\n",
       "      <td>29</td>\n",
       "      <td>https://www.emerce.nl/wire/nieuwe-mobiele-comp...</td>\n",
       "      <td>UTRECHT, Nederland â 23 november 2023 â Ze...</td>\n",
       "    </tr>\n",
       "  </tbody>\n",
       "</table>\n",
       "</div>"
      ],
      "text/plain": [
       "    Index                                                URL  \\\n",
       "0       0  https://www.emerce.nl/achtergrond/wat-zijn-de-...   \n",
       "1       1  https://www.trouw.nl/duurzame-100/klimaatconfl...   \n",
       "2       2  https://www.bnr.nl/nieuws/mobiliteit/10527255/...   \n",
       "3       3  https://www.nieuwsblad.be/cnt/dmf20231008_9512...   \n",
       "4       4        https://www.gva.be/cnt/dmf20231006_94011344   \n",
       "5       5  https://www.nieuwsblad.be/cnt/dmf20231031_9284...   \n",
       "6       6  https://www.nieuwsblad.be/cnt/dmf20231011_9321...   \n",
       "7       7  https://www.nieuwsblad.be/cnt/dmf20231018_9342...   \n",
       "8       8  https://www.ad.nl/rotterdam/politie-slachtoffe...   \n",
       "9       9  https://www.ad.nl/rotterdam/gamen-om-te-leren-...   \n",
       "10     10  https://www.nu.nl/uit-andere-media/6287626/de-...   \n",
       "11     11  https://www.computable.nl/artikel/nieuws/digit...   \n",
       "12     12  https://www.demorgen.be/politiek/meyrem-almaci...   \n",
       "13     13  https://www.demorgen.be/beter-leven/peter-van-...   \n",
       "14     14  https://www.nieuwsblad.be/cnt/dmf20231106_9332...   \n",
       "15     15  https://www.nieuwsblad.be/cnt/dmf20231117_9496...   \n",
       "16     16  https://www.parool.nl/amsterdam/een-fiets-park...   \n",
       "17     17  https://www.nieuwsblad.be/cnt/dmf20231111_9443...   \n",
       "18     18  https://www.nieuwsblad.be/cnt/dmf20231116_9366...   \n",
       "19     19  https://www.nieuwsblad.be/cnt/dmf20231114_9490...   \n",
       "20     20        https://www.gva.be/cnt/dmf20231114_96145482   \n",
       "21     21  https://www.standaard.be/cnt/dmf20231114_94591779   \n",
       "22     22  https://kw.be/nieuws/verkeer-en-mobiliteit/nie...   \n",
       "23     23  https://www.nu.nl/uit-andere-media/6289266/de-...   \n",
       "24     24  https://www.volkskrant.nl/volkskrant-magazine/...   \n",
       "25     25                           https://nos.nl/l/2498848   \n",
       "26     26        https://www.gva.be/cnt/dmf20231124_93848669   \n",
       "27     27        https://www.gva.be/cnt/dmf20231102_95049608   \n",
       "28     28  https://kw.be/nieuws/verkeer-en-mobiliteit/nie...   \n",
       "29     29  https://www.emerce.nl/wire/nieuwe-mobiele-comp...   \n",
       "\n",
       "                                              Article  \n",
       "0   Alle opties voor deelvervoer â fietsen, scoo...  \n",
       "1   Je bent veganist maar je partner houdt van spa...  \n",
       "2   Autodeelfirma's MyWheels, SHARE NOW, GreenMobi...  \n",
       "3   De Antwerpse politie heeft het afgelopen weeke...  \n",
       "4   Lokale burgerbeweging Klimaan breidt haar vloo...  \n",
       "5   De Antwerpse politie hield bij een actie tegen...  \n",
       "6   De Antwerpse politie betrapte dinsdag een wink...  \n",
       "7   Duizenden lopers rennen zondag door de stad ti...  \n",
       "8   Politie: slachtoffer scooterongeluk was niet o...  \n",
       "9   Gamen om te leren over gevaren van criminelen ...  \n",
       "10  De Felyx-scooter inspireerde dit nieuwe initia...  \n",
       "11  \\n\\n\\n                                        ...  \n",
       "12  Anderhalf jaar geleden zwaaide Meyrem Almaci (...  \n",
       "13  Een jaar lang deed Gloria Monserez (22) er het...  \n",
       "14  In Berchem trof de Antwerpse politie zaterdagn...  \n",
       "15  Wie in het station van Wetteren toekomt en zic...  \n",
       "16  Een doodlopend fietspad, trappen met âluieâ...  \n",
       "17  De elektrische deelfietsen van Donkey Republic...  \n",
       "18  Binnen het CIVISANO-project liet lokaal bestuu...  \n",
       "19  De Lijn zet begin volgend jaar de grootste sta...  \n",
       "20  De Lijn zet begin volgend jaar de grootste sta...  \n",
       "21  De Lijn zet begin volgend jaar de grootste sta...  \n",
       "22  De Lijn zet vanaf 6 januari 2024 de tweede sta...  \n",
       "23  De geliefde OV-fiets en 'bike parking porn'. '...  \n",
       "24  âBriljantâ, âuniek in de wereldâ, âg...  \n",
       "25  Op een parkeerplaats aan de rand van de wijk W...  \n",
       "26  In het kader van het vergroenen en verduurzame...  \n",
       "27  Inge en Peter leven âonderstebovenâ in hun...  \n",
       "28  Vanaf 6 januari ondergaat het vervoersplan van...  \n",
       "29  UTRECHT, Nederland â 23 november 2023 â Ze...  "
      ]
     },
     "execution_count": 7,
     "metadata": {},
     "output_type": "execute_result"
    }
   ],
   "source": [
    "full_aricles_df = pd.read_csv('scraped_articles_full.csv', encoding='latin')\n",
    "full_aricles_df"
   ]
  },
  {
   "cell_type": "markdown",
   "metadata": {},
   "source": [
    "To collect the topics, I will clean and process the text and then find topics using BERTopic"
   ]
  },
  {
   "cell_type": "code",
   "execution_count": 9,
   "metadata": {},
   "outputs": [
    {
     "name": "stderr",
     "output_type": "stream",
     "text": [
      "Batches: 100%|██████████| 1/1 [00:02<00:00,  2.27s/it]\n",
      "2023-12-12 12:32:41,397 - BERTopic - Transformed documents to Embeddings\n",
      "2023-12-12 12:32:51,169 - BERTopic - Reduced dimensionality\n",
      "2023-12-12 12:32:51,206 - BERTopic - Clustered reduced embeddings\n"
     ]
    },
    {
     "name": "stdout",
     "output_type": "stream",
     "text": [
      "Number of topics: 4\n"
     ]
    },
    {
     "data": {
      "text/html": [
       "<div>\n",
       "<style scoped>\n",
       "    .dataframe tbody tr th:only-of-type {\n",
       "        vertical-align: middle;\n",
       "    }\n",
       "\n",
       "    .dataframe tbody tr th {\n",
       "        vertical-align: top;\n",
       "    }\n",
       "\n",
       "    .dataframe thead th {\n",
       "        text-align: right;\n",
       "    }\n",
       "</style>\n",
       "<table border=\"1\" class=\"dataframe\">\n",
       "  <thead>\n",
       "    <tr style=\"text-align: right;\">\n",
       "      <th></th>\n",
       "      <th>Topic</th>\n",
       "      <th>Count</th>\n",
       "      <th>Name</th>\n",
       "      <th>Representation</th>\n",
       "      <th>Representative_Docs</th>\n",
       "    </tr>\n",
       "  </thead>\n",
       "  <tbody>\n",
       "    <tr>\n",
       "      <th>0</th>\n",
       "      <td>-1</td>\n",
       "      <td>3</td>\n",
       "      <td>-1_fiets_ov_ov fiets_haverman</td>\n",
       "      <td>[fiets, ov, ov fiets, haverman, zegt, station,...</td>\n",
       "      <td>[duizenden lopers rennen zondag stad tijdens d...</td>\n",
       "    </tr>\n",
       "    <tr>\n",
       "      <th>1</th>\n",
       "      <td>0</td>\n",
       "      <td>19</td>\n",
       "      <td>0_we_jaar_alle_onze</td>\n",
       "      <td>[we, jaar, alle, onze, mensen, weer, twee, ter...</td>\n",
       "      <td>[anderhalf jaar geleden zwaaide meyrem almaci ...</td>\n",
       "    </tr>\n",
       "    <tr>\n",
       "      <th>2</th>\n",
       "      <td>1</td>\n",
       "      <td>5</td>\n",
       "      <td>1_lijn_haltes_vanaf_januari</td>\n",
       "      <td>[lijn, haltes, vanaf, januari, reizigers, buss...</td>\n",
       "      <td>[lijn zet begin volgend jaar grootste stap uit...</td>\n",
       "    </tr>\n",
       "    <tr>\n",
       "      <th>3</th>\n",
       "      <td>2</td>\n",
       "      <td>3</td>\n",
       "      <td>2_fiets_ov_ov fiets_haverman</td>\n",
       "      <td>[fiets, ov, ov fiets, haverman, zegt, de, fiet...</td>\n",
       "      <td>[felyx-scooter inspireerde nieuwe initiatief o...</td>\n",
       "    </tr>\n",
       "  </tbody>\n",
       "</table>\n",
       "</div>"
      ],
      "text/plain": [
       "   Topic  Count                           Name  \\\n",
       "0     -1      3  -1_fiets_ov_ov fiets_haverman   \n",
       "1      0     19            0_we_jaar_alle_onze   \n",
       "2      1      5    1_lijn_haltes_vanaf_januari   \n",
       "3      2      3   2_fiets_ov_ov fiets_haverman   \n",
       "\n",
       "                                      Representation  \\\n",
       "0  [fiets, ov, ov fiets, haverman, zegt, station,...   \n",
       "1  [we, jaar, alle, onze, mensen, weer, twee, ter...   \n",
       "2  [lijn, haltes, vanaf, januari, reizigers, buss...   \n",
       "3  [fiets, ov, ov fiets, haverman, zegt, de, fiet...   \n",
       "\n",
       "                                 Representative_Docs  \n",
       "0  [duizenden lopers rennen zondag stad tijdens d...  \n",
       "1  [anderhalf jaar geleden zwaaide meyrem almaci ...  \n",
       "2  [lijn zet begin volgend jaar grootste stap uit...  \n",
       "3  [felyx-scooter inspireerde nieuwe initiatief o...  "
      ]
     },
     "metadata": {},
     "output_type": "display_data"
    },
    {
     "data": {
      "application/vnd.plotly.v1+json": {
       "config": {
        "plotlyServerURL": "https://plot.ly"
       },
       "data": [
        {
         "marker": {
          "color": "#D55E00"
         },
         "orientation": "h",
         "type": "bar",
         "x": [
          0.011129984592989266,
          0.012769254793012446,
          0.01307785445308962,
          0.013276531000477206,
          0.018873408981870565
         ],
         "xaxis": "x",
         "y": [
          "mensen  ",
          "onze  ",
          "alle  ",
          "jaar  ",
          "we  "
         ],
         "yaxis": "y"
        },
        {
         "marker": {
          "color": "#0072B2"
         },
         "orientation": "h",
         "type": "bar",
         "x": [
          0.02453081832740882,
          0.025011011641854618,
          0.025709488369887522,
          0.05138663479213472,
          0.054879732578943075
         ],
         "xaxis": "x2",
         "y": [
          "reizigers  ",
          "januari  ",
          "vanaf  ",
          "haltes  ",
          "lijn  "
         ],
         "yaxis": "y2"
        },
        {
         "marker": {
          "color": "#CC79A7"
         },
         "orientation": "h",
         "type": "bar",
         "x": [
          0.016569681506906745,
          0.020400150886449107,
          0.04961676600729761,
          0.05582852961416041,
          0.07076593389593952
         ],
         "xaxis": "x3",
         "y": [
          "zegt  ",
          "haverman  ",
          "ov fiets  ",
          "ov  ",
          "fiets  "
         ],
         "yaxis": "y3"
        }
       ],
       "layout": {
        "annotations": [
         {
          "font": {
           "size": 16
          },
          "showarrow": false,
          "text": "Topic 0",
          "x": 0.0875,
          "xanchor": "center",
          "xref": "paper",
          "y": 1,
          "yanchor": "bottom",
          "yref": "paper"
         },
         {
          "font": {
           "size": 16
          },
          "showarrow": false,
          "text": "Topic 1",
          "x": 0.36250000000000004,
          "xanchor": "center",
          "xref": "paper",
          "y": 1,
          "yanchor": "bottom",
          "yref": "paper"
         },
         {
          "font": {
           "size": 16
          },
          "showarrow": false,
          "text": "Topic 2",
          "x": 0.6375000000000001,
          "xanchor": "center",
          "xref": "paper",
          "y": 1,
          "yanchor": "bottom",
          "yref": "paper"
         }
        ],
        "height": 325,
        "hoverlabel": {
         "bgcolor": "white",
         "font": {
          "family": "Rockwell",
          "size": 16
         }
        },
        "showlegend": false,
        "template": {
         "data": {
          "bar": [
           {
            "error_x": {
             "color": "#2a3f5f"
            },
            "error_y": {
             "color": "#2a3f5f"
            },
            "marker": {
             "line": {
              "color": "white",
              "width": 0.5
             },
             "pattern": {
              "fillmode": "overlay",
              "size": 10,
              "solidity": 0.2
             }
            },
            "type": "bar"
           }
          ],
          "barpolar": [
           {
            "marker": {
             "line": {
              "color": "white",
              "width": 0.5
             },
             "pattern": {
              "fillmode": "overlay",
              "size": 10,
              "solidity": 0.2
             }
            },
            "type": "barpolar"
           }
          ],
          "carpet": [
           {
            "aaxis": {
             "endlinecolor": "#2a3f5f",
             "gridcolor": "#C8D4E3",
             "linecolor": "#C8D4E3",
             "minorgridcolor": "#C8D4E3",
             "startlinecolor": "#2a3f5f"
            },
            "baxis": {
             "endlinecolor": "#2a3f5f",
             "gridcolor": "#C8D4E3",
             "linecolor": "#C8D4E3",
             "minorgridcolor": "#C8D4E3",
             "startlinecolor": "#2a3f5f"
            },
            "type": "carpet"
           }
          ],
          "choropleth": [
           {
            "colorbar": {
             "outlinewidth": 0,
             "ticks": ""
            },
            "type": "choropleth"
           }
          ],
          "contour": [
           {
            "colorbar": {
             "outlinewidth": 0,
             "ticks": ""
            },
            "colorscale": [
             [
              0,
              "#0d0887"
             ],
             [
              0.1111111111111111,
              "#46039f"
             ],
             [
              0.2222222222222222,
              "#7201a8"
             ],
             [
              0.3333333333333333,
              "#9c179e"
             ],
             [
              0.4444444444444444,
              "#bd3786"
             ],
             [
              0.5555555555555556,
              "#d8576b"
             ],
             [
              0.6666666666666666,
              "#ed7953"
             ],
             [
              0.7777777777777778,
              "#fb9f3a"
             ],
             [
              0.8888888888888888,
              "#fdca26"
             ],
             [
              1,
              "#f0f921"
             ]
            ],
            "type": "contour"
           }
          ],
          "contourcarpet": [
           {
            "colorbar": {
             "outlinewidth": 0,
             "ticks": ""
            },
            "type": "contourcarpet"
           }
          ],
          "heatmap": [
           {
            "colorbar": {
             "outlinewidth": 0,
             "ticks": ""
            },
            "colorscale": [
             [
              0,
              "#0d0887"
             ],
             [
              0.1111111111111111,
              "#46039f"
             ],
             [
              0.2222222222222222,
              "#7201a8"
             ],
             [
              0.3333333333333333,
              "#9c179e"
             ],
             [
              0.4444444444444444,
              "#bd3786"
             ],
             [
              0.5555555555555556,
              "#d8576b"
             ],
             [
              0.6666666666666666,
              "#ed7953"
             ],
             [
              0.7777777777777778,
              "#fb9f3a"
             ],
             [
              0.8888888888888888,
              "#fdca26"
             ],
             [
              1,
              "#f0f921"
             ]
            ],
            "type": "heatmap"
           }
          ],
          "heatmapgl": [
           {
            "colorbar": {
             "outlinewidth": 0,
             "ticks": ""
            },
            "colorscale": [
             [
              0,
              "#0d0887"
             ],
             [
              0.1111111111111111,
              "#46039f"
             ],
             [
              0.2222222222222222,
              "#7201a8"
             ],
             [
              0.3333333333333333,
              "#9c179e"
             ],
             [
              0.4444444444444444,
              "#bd3786"
             ],
             [
              0.5555555555555556,
              "#d8576b"
             ],
             [
              0.6666666666666666,
              "#ed7953"
             ],
             [
              0.7777777777777778,
              "#fb9f3a"
             ],
             [
              0.8888888888888888,
              "#fdca26"
             ],
             [
              1,
              "#f0f921"
             ]
            ],
            "type": "heatmapgl"
           }
          ],
          "histogram": [
           {
            "marker": {
             "pattern": {
              "fillmode": "overlay",
              "size": 10,
              "solidity": 0.2
             }
            },
            "type": "histogram"
           }
          ],
          "histogram2d": [
           {
            "colorbar": {
             "outlinewidth": 0,
             "ticks": ""
            },
            "colorscale": [
             [
              0,
              "#0d0887"
             ],
             [
              0.1111111111111111,
              "#46039f"
             ],
             [
              0.2222222222222222,
              "#7201a8"
             ],
             [
              0.3333333333333333,
              "#9c179e"
             ],
             [
              0.4444444444444444,
              "#bd3786"
             ],
             [
              0.5555555555555556,
              "#d8576b"
             ],
             [
              0.6666666666666666,
              "#ed7953"
             ],
             [
              0.7777777777777778,
              "#fb9f3a"
             ],
             [
              0.8888888888888888,
              "#fdca26"
             ],
             [
              1,
              "#f0f921"
             ]
            ],
            "type": "histogram2d"
           }
          ],
          "histogram2dcontour": [
           {
            "colorbar": {
             "outlinewidth": 0,
             "ticks": ""
            },
            "colorscale": [
             [
              0,
              "#0d0887"
             ],
             [
              0.1111111111111111,
              "#46039f"
             ],
             [
              0.2222222222222222,
              "#7201a8"
             ],
             [
              0.3333333333333333,
              "#9c179e"
             ],
             [
              0.4444444444444444,
              "#bd3786"
             ],
             [
              0.5555555555555556,
              "#d8576b"
             ],
             [
              0.6666666666666666,
              "#ed7953"
             ],
             [
              0.7777777777777778,
              "#fb9f3a"
             ],
             [
              0.8888888888888888,
              "#fdca26"
             ],
             [
              1,
              "#f0f921"
             ]
            ],
            "type": "histogram2dcontour"
           }
          ],
          "mesh3d": [
           {
            "colorbar": {
             "outlinewidth": 0,
             "ticks": ""
            },
            "type": "mesh3d"
           }
          ],
          "parcoords": [
           {
            "line": {
             "colorbar": {
              "outlinewidth": 0,
              "ticks": ""
             }
            },
            "type": "parcoords"
           }
          ],
          "pie": [
           {
            "automargin": true,
            "type": "pie"
           }
          ],
          "scatter": [
           {
            "fillpattern": {
             "fillmode": "overlay",
             "size": 10,
             "solidity": 0.2
            },
            "type": "scatter"
           }
          ],
          "scatter3d": [
           {
            "line": {
             "colorbar": {
              "outlinewidth": 0,
              "ticks": ""
             }
            },
            "marker": {
             "colorbar": {
              "outlinewidth": 0,
              "ticks": ""
             }
            },
            "type": "scatter3d"
           }
          ],
          "scattercarpet": [
           {
            "marker": {
             "colorbar": {
              "outlinewidth": 0,
              "ticks": ""
             }
            },
            "type": "scattercarpet"
           }
          ],
          "scattergeo": [
           {
            "marker": {
             "colorbar": {
              "outlinewidth": 0,
              "ticks": ""
             }
            },
            "type": "scattergeo"
           }
          ],
          "scattergl": [
           {
            "marker": {
             "colorbar": {
              "outlinewidth": 0,
              "ticks": ""
             }
            },
            "type": "scattergl"
           }
          ],
          "scattermapbox": [
           {
            "marker": {
             "colorbar": {
              "outlinewidth": 0,
              "ticks": ""
             }
            },
            "type": "scattermapbox"
           }
          ],
          "scatterpolar": [
           {
            "marker": {
             "colorbar": {
              "outlinewidth": 0,
              "ticks": ""
             }
            },
            "type": "scatterpolar"
           }
          ],
          "scatterpolargl": [
           {
            "marker": {
             "colorbar": {
              "outlinewidth": 0,
              "ticks": ""
             }
            },
            "type": "scatterpolargl"
           }
          ],
          "scatterternary": [
           {
            "marker": {
             "colorbar": {
              "outlinewidth": 0,
              "ticks": ""
             }
            },
            "type": "scatterternary"
           }
          ],
          "surface": [
           {
            "colorbar": {
             "outlinewidth": 0,
             "ticks": ""
            },
            "colorscale": [
             [
              0,
              "#0d0887"
             ],
             [
              0.1111111111111111,
              "#46039f"
             ],
             [
              0.2222222222222222,
              "#7201a8"
             ],
             [
              0.3333333333333333,
              "#9c179e"
             ],
             [
              0.4444444444444444,
              "#bd3786"
             ],
             [
              0.5555555555555556,
              "#d8576b"
             ],
             [
              0.6666666666666666,
              "#ed7953"
             ],
             [
              0.7777777777777778,
              "#fb9f3a"
             ],
             [
              0.8888888888888888,
              "#fdca26"
             ],
             [
              1,
              "#f0f921"
             ]
            ],
            "type": "surface"
           }
          ],
          "table": [
           {
            "cells": {
             "fill": {
              "color": "#EBF0F8"
             },
             "line": {
              "color": "white"
             }
            },
            "header": {
             "fill": {
              "color": "#C8D4E3"
             },
             "line": {
              "color": "white"
             }
            },
            "type": "table"
           }
          ]
         },
         "layout": {
          "annotationdefaults": {
           "arrowcolor": "#2a3f5f",
           "arrowhead": 0,
           "arrowwidth": 1
          },
          "autotypenumbers": "strict",
          "coloraxis": {
           "colorbar": {
            "outlinewidth": 0,
            "ticks": ""
           }
          },
          "colorscale": {
           "diverging": [
            [
             0,
             "#8e0152"
            ],
            [
             0.1,
             "#c51b7d"
            ],
            [
             0.2,
             "#de77ae"
            ],
            [
             0.3,
             "#f1b6da"
            ],
            [
             0.4,
             "#fde0ef"
            ],
            [
             0.5,
             "#f7f7f7"
            ],
            [
             0.6,
             "#e6f5d0"
            ],
            [
             0.7,
             "#b8e186"
            ],
            [
             0.8,
             "#7fbc41"
            ],
            [
             0.9,
             "#4d9221"
            ],
            [
             1,
             "#276419"
            ]
           ],
           "sequential": [
            [
             0,
             "#0d0887"
            ],
            [
             0.1111111111111111,
             "#46039f"
            ],
            [
             0.2222222222222222,
             "#7201a8"
            ],
            [
             0.3333333333333333,
             "#9c179e"
            ],
            [
             0.4444444444444444,
             "#bd3786"
            ],
            [
             0.5555555555555556,
             "#d8576b"
            ],
            [
             0.6666666666666666,
             "#ed7953"
            ],
            [
             0.7777777777777778,
             "#fb9f3a"
            ],
            [
             0.8888888888888888,
             "#fdca26"
            ],
            [
             1,
             "#f0f921"
            ]
           ],
           "sequentialminus": [
            [
             0,
             "#0d0887"
            ],
            [
             0.1111111111111111,
             "#46039f"
            ],
            [
             0.2222222222222222,
             "#7201a8"
            ],
            [
             0.3333333333333333,
             "#9c179e"
            ],
            [
             0.4444444444444444,
             "#bd3786"
            ],
            [
             0.5555555555555556,
             "#d8576b"
            ],
            [
             0.6666666666666666,
             "#ed7953"
            ],
            [
             0.7777777777777778,
             "#fb9f3a"
            ],
            [
             0.8888888888888888,
             "#fdca26"
            ],
            [
             1,
             "#f0f921"
            ]
           ]
          },
          "colorway": [
           "#636efa",
           "#EF553B",
           "#00cc96",
           "#ab63fa",
           "#FFA15A",
           "#19d3f3",
           "#FF6692",
           "#B6E880",
           "#FF97FF",
           "#FECB52"
          ],
          "font": {
           "color": "#2a3f5f"
          },
          "geo": {
           "bgcolor": "white",
           "lakecolor": "white",
           "landcolor": "white",
           "showlakes": true,
           "showland": true,
           "subunitcolor": "#C8D4E3"
          },
          "hoverlabel": {
           "align": "left"
          },
          "hovermode": "closest",
          "mapbox": {
           "style": "light"
          },
          "paper_bgcolor": "white",
          "plot_bgcolor": "white",
          "polar": {
           "angularaxis": {
            "gridcolor": "#EBF0F8",
            "linecolor": "#EBF0F8",
            "ticks": ""
           },
           "bgcolor": "white",
           "radialaxis": {
            "gridcolor": "#EBF0F8",
            "linecolor": "#EBF0F8",
            "ticks": ""
           }
          },
          "scene": {
           "xaxis": {
            "backgroundcolor": "white",
            "gridcolor": "#DFE8F3",
            "gridwidth": 2,
            "linecolor": "#EBF0F8",
            "showbackground": true,
            "ticks": "",
            "zerolinecolor": "#EBF0F8"
           },
           "yaxis": {
            "backgroundcolor": "white",
            "gridcolor": "#DFE8F3",
            "gridwidth": 2,
            "linecolor": "#EBF0F8",
            "showbackground": true,
            "ticks": "",
            "zerolinecolor": "#EBF0F8"
           },
           "zaxis": {
            "backgroundcolor": "white",
            "gridcolor": "#DFE8F3",
            "gridwidth": 2,
            "linecolor": "#EBF0F8",
            "showbackground": true,
            "ticks": "",
            "zerolinecolor": "#EBF0F8"
           }
          },
          "shapedefaults": {
           "line": {
            "color": "#2a3f5f"
           }
          },
          "ternary": {
           "aaxis": {
            "gridcolor": "#DFE8F3",
            "linecolor": "#A2B1C6",
            "ticks": ""
           },
           "baxis": {
            "gridcolor": "#DFE8F3",
            "linecolor": "#A2B1C6",
            "ticks": ""
           },
           "bgcolor": "white",
           "caxis": {
            "gridcolor": "#DFE8F3",
            "linecolor": "#A2B1C6",
            "ticks": ""
           }
          },
          "title": {
           "x": 0.05
          },
          "xaxis": {
           "automargin": true,
           "gridcolor": "#EBF0F8",
           "linecolor": "#EBF0F8",
           "ticks": "",
           "title": {
            "standoff": 15
           },
           "zerolinecolor": "#EBF0F8",
           "zerolinewidth": 2
          },
          "yaxis": {
           "automargin": true,
           "gridcolor": "#EBF0F8",
           "linecolor": "#EBF0F8",
           "ticks": "",
           "title": {
            "standoff": 15
           },
           "zerolinecolor": "#EBF0F8",
           "zerolinewidth": 2
          }
         }
        },
        "title": {
         "font": {
          "color": "Black",
          "size": 22
         },
         "text": "Topic Word Scores",
         "x": 0.5,
         "xanchor": "center",
         "yanchor": "top"
        },
        "width": 1000,
        "xaxis": {
         "anchor": "y",
         "domain": [
          0,
          0.175
         ],
         "showgrid": true
        },
        "xaxis2": {
         "anchor": "y2",
         "domain": [
          0.275,
          0.45
         ],
         "showgrid": true
        },
        "xaxis3": {
         "anchor": "y3",
         "domain": [
          0.55,
          0.7250000000000001
         ],
         "showgrid": true
        },
        "xaxis4": {
         "anchor": "y4",
         "domain": [
          0.825,
          1
         ],
         "showgrid": true
        },
        "yaxis": {
         "anchor": "x",
         "domain": [
          0,
          1
         ],
         "showgrid": true
        },
        "yaxis2": {
         "anchor": "x2",
         "domain": [
          0,
          1
         ],
         "showgrid": true
        },
        "yaxis3": {
         "anchor": "x3",
         "domain": [
          0,
          1
         ],
         "showgrid": true
        },
        "yaxis4": {
         "anchor": "x4",
         "domain": [
          0,
          1
         ],
         "showgrid": true
        }
       }
      }
     },
     "metadata": {},
     "output_type": "display_data"
    }
   ],
   "source": [
    "def preprocess_text(text):\n",
    "    tokens = word_tokenize(text.lower())\n",
    "    stop_words = set(stopwords.words('dutch'))\n",
    "    tokens = [token for token in tokens if token not in stop_words and not token.isnumeric()]\n",
    "\n",
    "    lemmatizer = WordNetLemmatizer()\n",
    "    tokens = [lemmatizer.lemmatize(token) for token in tokens]\n",
    "\n",
    "    cleaned_text = ' '.join(tokens)\n",
    "\n",
    "    return cleaned_text\n",
    "\n",
    "def analyze_topics(texts):\n",
    "    texts = texts.apply(preprocess_text)\n",
    "    ctfidf_model = ClassTfidfTransformer(bm25_weighting=True)\n",
    "    topic_model = BERTopic(ctfidf_model=ctfidf_model )\n",
    "    model = BERTopic(verbose=True, language='dutch', embedding_model='paraphrase-multilingual-minilm-l12-v2', min_topic_size=2, n_gram_range = (1, 2), ctfidf_model=ctfidf_model)\n",
    "    topics, _ = model.fit_transform(texts)\n",
    "    \n",
    "    freq = model.get_topic_info()\n",
    "    print(\"Number of topics: {}\".format(len(freq)))\n",
    "    display(freq.head(20))\n",
    "\n",
    "    return model, topics\n",
    "\n",
    "\n",
    "model, topics = analyze_topics(full_aricles_df['Article'])\n",
    "\n",
    "full_aricles_df['topic'] = topics\n",
    "\n",
    "#model.visualize_topics()\n",
    "model.visualize_barchart()"
   ]
  },
  {
   "cell_type": "code",
   "execution_count": 10,
   "metadata": {},
   "outputs": [
    {
     "data": {
      "text/html": [
       "<div>\n",
       "<style scoped>\n",
       "    .dataframe tbody tr th:only-of-type {\n",
       "        vertical-align: middle;\n",
       "    }\n",
       "\n",
       "    .dataframe tbody tr th {\n",
       "        vertical-align: top;\n",
       "    }\n",
       "\n",
       "    .dataframe thead th {\n",
       "        text-align: right;\n",
       "    }\n",
       "</style>\n",
       "<table border=\"1\" class=\"dataframe\">\n",
       "  <thead>\n",
       "    <tr style=\"text-align: right;\">\n",
       "      <th></th>\n",
       "      <th>Topic</th>\n",
       "      <th>Count</th>\n",
       "      <th>Name</th>\n",
       "      <th>Representation</th>\n",
       "      <th>Representative_Docs</th>\n",
       "    </tr>\n",
       "  </thead>\n",
       "  <tbody>\n",
       "    <tr>\n",
       "      <th>0</th>\n",
       "      <td>-1</td>\n",
       "      <td>3</td>\n",
       "      <td>-1_fiets_ov_ov fiets_haverman</td>\n",
       "      <td>[fiets, ov, ov fiets, haverman, zegt, station,...</td>\n",
       "      <td>[duizenden lopers rennen zondag stad tijdens d...</td>\n",
       "    </tr>\n",
       "    <tr>\n",
       "      <th>1</th>\n",
       "      <td>0</td>\n",
       "      <td>19</td>\n",
       "      <td>0_we_jaar_alle_onze</td>\n",
       "      <td>[we, jaar, alle, onze, mensen, weer, twee, ter...</td>\n",
       "      <td>[anderhalf jaar geleden zwaaide meyrem almaci ...</td>\n",
       "    </tr>\n",
       "    <tr>\n",
       "      <th>2</th>\n",
       "      <td>1</td>\n",
       "      <td>5</td>\n",
       "      <td>1_lijn_haltes_vanaf_januari</td>\n",
       "      <td>[lijn, haltes, vanaf, januari, reizigers, buss...</td>\n",
       "      <td>[lijn zet begin volgend jaar grootste stap uit...</td>\n",
       "    </tr>\n",
       "    <tr>\n",
       "      <th>3</th>\n",
       "      <td>2</td>\n",
       "      <td>3</td>\n",
       "      <td>2_fiets_ov_ov fiets_haverman</td>\n",
       "      <td>[fiets, ov, ov fiets, haverman, zegt, de, fiet...</td>\n",
       "      <td>[felyx-scooter inspireerde nieuwe initiatief o...</td>\n",
       "    </tr>\n",
       "  </tbody>\n",
       "</table>\n",
       "</div>"
      ],
      "text/plain": [
       "   Topic  Count                           Name  \\\n",
       "0     -1      3  -1_fiets_ov_ov fiets_haverman   \n",
       "1      0     19            0_we_jaar_alle_onze   \n",
       "2      1      5    1_lijn_haltes_vanaf_januari   \n",
       "3      2      3   2_fiets_ov_ov fiets_haverman   \n",
       "\n",
       "                                      Representation  \\\n",
       "0  [fiets, ov, ov fiets, haverman, zegt, station,...   \n",
       "1  [we, jaar, alle, onze, mensen, weer, twee, ter...   \n",
       "2  [lijn, haltes, vanaf, januari, reizigers, buss...   \n",
       "3  [fiets, ov, ov fiets, haverman, zegt, de, fiet...   \n",
       "\n",
       "                                 Representative_Docs  \n",
       "0  [duizenden lopers rennen zondag stad tijdens d...  \n",
       "1  [anderhalf jaar geleden zwaaide meyrem almaci ...  \n",
       "2  [lijn zet begin volgend jaar grootste stap uit...  \n",
       "3  [felyx-scooter inspireerde nieuwe initiatief o...  "
      ]
     },
     "execution_count": 10,
     "metadata": {},
     "output_type": "execute_result"
    }
   ],
   "source": [
    "topics = model.get_topic_info()\n",
    "topic_df = pd.DataFrame(topics)\n",
    "topic_df"
   ]
  },
  {
   "cell_type": "code",
   "execution_count": 11,
   "metadata": {},
   "outputs": [],
   "source": [
    "topic_df.to_csv('topics_information.csv', index=False)"
   ]
  },
  {
   "cell_type": "markdown",
   "metadata": {},
   "source": [
    "Now, I will run sentiment analysis on the topics found to determine what the attitude towards those topics is."
   ]
  },
  {
   "cell_type": "code",
   "execution_count": 12,
   "metadata": {},
   "outputs": [],
   "source": [
    "def analyze_sentiment(text):\n",
    "    url = \"http://text-processing.com/api/sentiment/\"\n",
    "    data = {'text': text, 'language': 'dutch'}\n",
    "\n",
    "    response = requests.post(url, data=data)\n",
    "    result = response.json()\n",
    "\n",
    "    sentiment = result['label']\n",
    "    confidence = result['probability'][sentiment]\n",
    "\n",
    "    return sentiment, confidence"
   ]
  },
  {
   "cell_type": "code",
   "execution_count": 13,
   "metadata": {},
   "outputs": [
    {
     "name": "stdout",
     "output_type": "stream",
     "text": [
      "                                 Representative_Docs sentiment  confidence\n",
      "0  [duizenden lopers rennen zondag stad tijdens d...       pos    0.546533\n",
      "1  [anderhalf jaar geleden zwaaide meyrem almaci ...       pos    0.519667\n",
      "2  [lijn zet begin volgend jaar grootste stap uit...       pos    0.595220\n",
      "3  [felyx-scooter inspireerde nieuwe initiatief o...       pos    0.593750\n"
     ]
    }
   ],
   "source": [
    "topic_df['sentiment'], topic_df['confidence'] = zip(*topic_df['Representative_Docs'].apply(analyze_sentiment))\n",
    "\n",
    "print(topic_df[['Representative_Docs', 'sentiment', 'confidence']])"
   ]
  },
  {
   "cell_type": "markdown",
   "metadata": {},
   "source": [
    "Now, I will determine what those topics mean and what they exactly are by translating and analysing the 'Representation' found by BERTopic, therefore the words representing these specific topics."
   ]
  }
 ],
 "metadata": {
  "kernelspec": {
   "display_name": "Python 3",
   "language": "python",
   "name": "python3"
  },
  "language_info": {
   "codemirror_mode": {
    "name": "ipython",
    "version": 3
   },
   "file_extension": ".py",
   "mimetype": "text/x-python",
   "name": "python",
   "nbconvert_exporter": "python",
   "pygments_lexer": "ipython3",
   "version": "3.11.6"
  }
 },
 "nbformat": 4,
 "nbformat_minor": 2
}
